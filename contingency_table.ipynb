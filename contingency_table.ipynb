{
 "cells": [
  {
   "cell_type": "code",
   "execution_count": 52,
   "metadata": {},
   "outputs": [],
   "source": [
    "import pandas as pd\n",
    "import numpy as np\n",
    "import matplotlib.pyplot as plt\n",
    "import seaborn as sns\n",
    "import plotly.express as px\n",
    "\n",
    "from scipy.cluster.hierarchy import linkage, dendrogram, fcluster\n",
    "\n",
    "import pickle as pkl"
   ]
  },
  {
   "cell_type": "code",
   "execution_count": 53,
   "metadata": {},
   "outputs": [],
   "source": [
    "with open('dense_rank_distance_matrix_experts_BSU1_BSU2_df.pkl', 'rb') as f:\n",
    "    dense_rank_distance_matrix_experts_BSU1_BSU2_df = pkl.load(f)\n",
    "\n",
    "with open('kmeans_rank_distance_matrix_experts_BSU1_BSU2_df.pkl', 'rb') as f:\n",
    "    kmeans_rank_distance_matrix_experts_BSU1_BSU2_df = pkl.load(f)"
   ]
  },
  {
   "cell_type": "code",
   "execution_count": 54,
   "metadata": {},
   "outputs": [],
   "source": [
    "with open('dense_rank_linkage_matrix_experts_BSU1_BSU2.pkl', 'rb') as f:\n",
    "    dense_rank_linkage_matrix_experts_BSU1_BSU2 = pkl.load(f)\n",
    "\n",
    "with open('kmeans_rank_linkage_matrix_experts_BSU1_BSU2.pkl', 'rb') as f:\n",
    "    kmeans_rank_linkage_matrix_experts_BSU1_BSU2 = pkl.load(f)"
   ]
  },
  {
   "cell_type": "markdown",
   "metadata": {},
   "source": [
    "# Cluster Assignments"
   ]
  },
  {
   "cell_type": "markdown",
   "metadata": {},
   "source": [
    "## Clusters for 30 trials"
   ]
  },
  {
   "cell_type": "code",
   "execution_count": 55,
   "metadata": {},
   "outputs": [
    {
     "data": {
      "text/html": [
       "<div>\n",
       "<style scoped>\n",
       "    .dataframe tbody tr th:only-of-type {\n",
       "        vertical-align: middle;\n",
       "    }\n",
       "\n",
       "    .dataframe tbody tr th {\n",
       "        vertical-align: top;\n",
       "    }\n",
       "\n",
       "    .dataframe thead th {\n",
       "        text-align: right;\n",
       "    }\n",
       "</style>\n",
       "<table border=\"1\" class=\"dataframe\">\n",
       "  <thead>\n",
       "    <tr style=\"text-align: right;\">\n",
       "      <th>KMeans Cluster</th>\n",
       "      <th>1</th>\n",
       "      <th>2</th>\n",
       "      <th>3</th>\n",
       "      <th>4</th>\n",
       "      <th>5</th>\n",
       "    </tr>\n",
       "    <tr>\n",
       "      <th>Dense Cluster</th>\n",
       "      <th></th>\n",
       "      <th></th>\n",
       "      <th></th>\n",
       "      <th></th>\n",
       "      <th></th>\n",
       "    </tr>\n",
       "  </thead>\n",
       "  <tbody>\n",
       "    <tr>\n",
       "      <th>1</th>\n",
       "      <td>1</td>\n",
       "      <td>0</td>\n",
       "      <td>2</td>\n",
       "      <td>0</td>\n",
       "      <td>2</td>\n",
       "    </tr>\n",
       "    <tr>\n",
       "      <th>2</th>\n",
       "      <td>1</td>\n",
       "      <td>0</td>\n",
       "      <td>3</td>\n",
       "      <td>3</td>\n",
       "      <td>2</td>\n",
       "    </tr>\n",
       "    <tr>\n",
       "      <th>3</th>\n",
       "      <td>0</td>\n",
       "      <td>1</td>\n",
       "      <td>0</td>\n",
       "      <td>1</td>\n",
       "      <td>1</td>\n",
       "    </tr>\n",
       "    <tr>\n",
       "      <th>4</th>\n",
       "      <td>2</td>\n",
       "      <td>1</td>\n",
       "      <td>2</td>\n",
       "      <td>2</td>\n",
       "      <td>0</td>\n",
       "    </tr>\n",
       "    <tr>\n",
       "      <th>5</th>\n",
       "      <td>0</td>\n",
       "      <td>1</td>\n",
       "      <td>2</td>\n",
       "      <td>1</td>\n",
       "      <td>2</td>\n",
       "    </tr>\n",
       "  </tbody>\n",
       "</table>\n",
       "</div>"
      ],
      "text/plain": [
       "KMeans Cluster  1  2  3  4  5\n",
       "Dense Cluster                \n",
       "1               1  0  2  0  2\n",
       "2               1  0  3  3  2\n",
       "3               0  1  0  1  1\n",
       "4               2  1  2  2  0\n",
       "5               0  1  2  1  2"
      ]
     },
     "execution_count": 55,
     "metadata": {},
     "output_type": "execute_result"
    }
   ],
   "source": [
    "# Perform hierarchical clustering on columns (trials/audio samples) for both distance matrices\n",
    "linkage_matrix_dense_audio = linkage(dense_rank_distance_matrix_experts_BSU1_BSU2_df.T, method='ward')\n",
    "linkage_matrix_kmeans_audio = linkage(kmeans_rank_distance_matrix_experts_BSU1_BSU2_df.T, method='ward')\n",
    "\n",
    "# Extract 5 clusters from both hierarchical trees\n",
    "num_clusters_trials = 5\n",
    "dense_audio_clusters = fcluster(linkage_matrix_dense_audio, num_clusters_trials, criterion='maxclust')\n",
    "kmeans_audio_clusters = fcluster(linkage_matrix_kmeans_audio, num_clusters_trials, criterion='maxclust')\n",
    "\n",
    "# Create DataFrames mapping audio samples to their clusters\n",
    "dense_audio_cluster_df = pd.DataFrame({\n",
    "    'Audio Sample': dense_rank_distance_matrix_experts_BSU1_BSU2_df.columns,\n",
    "    'Dense Cluster': dense_audio_clusters\n",
    "})\n",
    "\n",
    "kmeans_audio_cluster_df = pd.DataFrame({\n",
    "    'Audio Sample': kmeans_rank_distance_matrix_experts_BSU1_BSU2_df.columns,\n",
    "    'KMeans Cluster': kmeans_audio_clusters\n",
    "})\n",
    "\n",
    "# Merge to align the clusters from both methods\n",
    "merged_audio_clusters = dense_audio_cluster_df.merge(kmeans_audio_cluster_df, on=\"Audio Sample\")\n",
    "\n",
    "# Build a contingency table comparing the two clustering results\n",
    "contingency_table_trials = pd.crosstab(merged_audio_clusters['Dense Cluster'], merged_audio_clusters['KMeans Cluster'])\n",
    "\n",
    "# Display the contingency table\n",
    "contingency_table_trials\n"
   ]
  },
  {
   "cell_type": "markdown",
   "metadata": {},
   "source": [
    "## Clusters for 42 Subjects"
   ]
  },
  {
   "cell_type": "code",
   "execution_count": 56,
   "metadata": {},
   "outputs": [
    {
     "data": {
      "text/html": [
       "<div>\n",
       "<style scoped>\n",
       "    .dataframe tbody tr th:only-of-type {\n",
       "        vertical-align: middle;\n",
       "    }\n",
       "\n",
       "    .dataframe tbody tr th {\n",
       "        vertical-align: top;\n",
       "    }\n",
       "\n",
       "    .dataframe thead th {\n",
       "        text-align: right;\n",
       "    }\n",
       "</style>\n",
       "<table border=\"1\" class=\"dataframe\">\n",
       "  <thead>\n",
       "    <tr style=\"text-align: right;\">\n",
       "      <th>KMeans Cluster</th>\n",
       "      <th>1</th>\n",
       "      <th>2</th>\n",
       "      <th>3</th>\n",
       "    </tr>\n",
       "    <tr>\n",
       "      <th>Dense Cluster</th>\n",
       "      <th></th>\n",
       "      <th></th>\n",
       "      <th></th>\n",
       "    </tr>\n",
       "  </thead>\n",
       "  <tbody>\n",
       "    <tr>\n",
       "      <th>1</th>\n",
       "      <td>1</td>\n",
       "      <td>2</td>\n",
       "      <td>14</td>\n",
       "    </tr>\n",
       "    <tr>\n",
       "      <th>2</th>\n",
       "      <td>9</td>\n",
       "      <td>0</td>\n",
       "      <td>5</td>\n",
       "    </tr>\n",
       "    <tr>\n",
       "      <th>3</th>\n",
       "      <td>10</td>\n",
       "      <td>0</td>\n",
       "      <td>1</td>\n",
       "    </tr>\n",
       "  </tbody>\n",
       "</table>\n",
       "</div>"
      ],
      "text/plain": [
       "KMeans Cluster   1  2   3\n",
       "Dense Cluster            \n",
       "1                1  2  14\n",
       "2                9  0   5\n",
       "3               10  0   1"
      ]
     },
     "execution_count": 56,
     "metadata": {},
     "output_type": "execute_result"
    }
   ],
   "source": [
    "# Perform hierarchical clustering on rows (subjects) for both distance matrices\n",
    "linkage_matrix_dense_subjects = linkage(dense_rank_distance_matrix_experts_BSU1_BSU2_df, method='ward')\n",
    "linkage_matrix_kmeans_subjects = linkage(kmeans_rank_distance_matrix_experts_BSU1_BSU2_df, method='ward')\n",
    "\n",
    "# Extract 3 clusters from both hierarchical trees\n",
    "num_clusters_subjects = 3\n",
    "dense_subject_clusters = fcluster(linkage_matrix_dense_subjects, num_clusters_subjects, criterion='maxclust')\n",
    "kmeans_subject_clusters = fcluster(linkage_matrix_kmeans_subjects, num_clusters_subjects, criterion='maxclust')\n",
    "\n",
    "# Create DataFrames mapping subjects to their clusters\n",
    "dense_subject_cluster_df = pd.DataFrame({\n",
    "    'Subject': dense_rank_distance_matrix_experts_BSU1_BSU2_df.index,\n",
    "    'Dense Cluster': dense_subject_clusters\n",
    "})\n",
    "\n",
    "kmeans_subject_cluster_df = pd.DataFrame({\n",
    "    'Subject': kmeans_rank_distance_matrix_experts_BSU1_BSU2_df.index,\n",
    "    'KMeans Cluster': kmeans_subject_clusters\n",
    "})\n",
    "\n",
    "# Merge to align clusters from both methods\n",
    "merged_subject_clusters = dense_subject_cluster_df.merge(kmeans_subject_cluster_df, on=\"Subject\")\n",
    "\n",
    "# Build a contingency table for subjects\n",
    "contingency_table_subjects = pd.crosstab(merged_subject_clusters['Dense Cluster'], merged_subject_clusters['KMeans Cluster'])\n",
    "\n",
    "# Display the contingency table\n",
    "contingency_table_subjects"
   ]
  }
 ],
 "metadata": {
  "kernelspec": {
   "display_name": "env",
   "language": "python",
   "name": "python3"
  },
  "language_info": {
   "codemirror_mode": {
    "name": "ipython",
    "version": 3
   },
   "file_extension": ".py",
   "mimetype": "text/x-python",
   "name": "python",
   "nbconvert_exporter": "python",
   "pygments_lexer": "ipython3",
   "version": "3.12.7"
  }
 },
 "nbformat": 4,
 "nbformat_minor": 2
}
