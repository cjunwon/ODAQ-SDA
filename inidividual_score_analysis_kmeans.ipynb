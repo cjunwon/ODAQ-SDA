{
 "cells": [
  {
   "cell_type": "code",
   "execution_count": 103,
   "id": "660f6044",
   "metadata": {},
   "outputs": [],
   "source": [
    "import pandas as pd\n",
    "import numpy as np\n",
    "import matplotlib.pyplot as plt\n",
    "import seaborn as sns\n",
    "import plotly.express as px\n",
    "from sklearn.cluster import KMeans\n",
    "\n",
    "from scipy.cluster.hierarchy import linkage, dendrogram, fcluster\n",
    "\n",
    "import os\n",
    "import kaleido"
   ]
  },
  {
   "cell_type": "code",
   "execution_count": 104,
   "id": "76a5ecc0",
   "metadata": {},
   "outputs": [],
   "source": [
    "ODAQ_results = pd.read_csv('./ODAQ/ODAQ_listening_test/ODAQ_results.csv')\n",
    "ODAQ_results_BSU1 = pd.read_csv('./ODAQ_v1_BSU/Cohort_B1_results.csv')\n",
    "ODAQ_results_BSU2 = pd.read_csv('./ODAQ_v1_BSU/Cohort_B2_results.csv')"
   ]
  },
  {
   "cell_type": "code",
   "execution_count": 105,
   "id": "ef1c6e30",
   "metadata": {},
   "outputs": [
    {
     "name": "stdout",
     "output_type": "stream",
     "text": [
      "['LP' 'TM' 'UN' 'SH' 'PE' 'DE']\n",
      "['LP3.5' 'LP7' 'Q1' 'Q2' 'Q3' 'Q4' 'Q5' 'Ref']\n",
      "['LP35' 'LP70' 'LP50' 'LP90' 'LP105' 'LP120' 'LP150' 'reference' 'TM3k'\n",
      " 'TM5k' 'TM7k' 'TM9k' 'TM10.5k' 'UN3k' 'UN5k' 'UN7k' 'UN9k' 'UN10.5k'\n",
      " 'SH70_MS' 'SH50_MS' 'SH30_MS' 'SH20_MS' 'SH10_MS' 'PE_4096_MS_NMR10'\n",
      " 'PE_2048_MS_NMR10' 'PE_1024_MS_NMR10' 'PE_2048_MS_NMR16'\n",
      " 'PE_1024_MS_NMR16' 'OpenUnmix_mid' 'TFC_TDF_U_Net_mid' 'Cocktail_mid'\n",
      " 'DeepFilterNet2_mid' 'PSM_quantize_mask']\n",
      "['LP_11_guitar' 'LP_23_jazz' 'LP_AmateurOnPurpose'\n",
      " 'LP_CreatureFromTheBlackjackTable' 'TM_01b_trumpet' 'TM_02_violin'\n",
      " 'TM_AmateurOnPurpose' 'TM_CreatureFromTheBlackjackTable'\n",
      " 'UN_20c_accordion' 'UN_21_violin' 'UN_AmateurOnPurpose'\n",
      " 'UN_CreatureFromTheBlackjackTable' 'SH_04_choral' 'SH_13_glockenspiel'\n",
      " 'SH_AmateurOnPurpose' 'SH_CreatureFromTheBlackjackTable'\n",
      " 'PE_27_castanets' 'PE_39_clapping' 'PE_AmateurOnPurpose'\n",
      " 'PE_CreatureFromTheBlackjackTable' 'DE_CosmosLandromat_remix1_LD6'\n",
      " 'DE_CosmosLandromat_remix3_LD3' 'DE_ElephantsDream_LD0'\n",
      " 'DE_female_speech_music_1_LD0' 'DE_female_speech_music_2_LD9'\n",
      " 'DE_female_speech_music_3_LD3' 'DE_Meridian_remix1_LD3'\n",
      " 'DE_Meridian_remix2_LD6' 'DE_SitaSings_remix1_LD0'\n",
      " 'DE_SitaSings_remix2_LD6']\n"
     ]
    }
   ],
   "source": [
    "methods = ODAQ_results['method'].unique()\n",
    "conditions = ODAQ_results['condition'].unique()\n",
    "processes = ODAQ_results['process'].unique()\n",
    "items = ODAQ_results['item'].unique()\n",
    "\n",
    "print(methods)\n",
    "print(conditions)\n",
    "print(processes)\n",
    "print(items)"
   ]
  },
  {
   "cell_type": "code",
   "execution_count": 106,
   "id": "3f6d6ce5",
   "metadata": {},
   "outputs": [
    {
     "name": "stdout",
     "output_type": "stream",
     "text": [
      "Experts:  ['Subject 1: USLA08' 'Subject 2: DEID44' 'Subject 3: DEID1115'\n",
      " 'Subject 4: DEID337' 'Subject 5: USLA06' 'Subject 6: DEID5'\n",
      " 'Subject 7: DEID9' 'Subject 8: DEID4' 'Subject 9: USLG04'\n",
      " 'Subject 10: USLA04' 'Subject 11: USLA07' 'Subject 12: DEID256'\n",
      " 'Subject 13: DEID6' 'Subject 14: USLG05' 'Subject 15: USLA09'\n",
      " 'Subject 16: USLG02' 'Subject 17: USLG03' 'Subject 18: DEID7'\n",
      " 'Subject 19: USLA12' 'Subject 20: DEID10' 'Subject 21: DEID8'\n",
      " 'Subject 22: DEID2' 'Subject 23: USLA01' 'Subject 24: USLA05'\n",
      " 'Subject 25: DEID1' 'Subject 26: DEID3']\n",
      "BSU1:  ['D001' 'D002' 'D003' 'D004' 'D008' 'D009' 'D010' 'D011']\n",
      "BSU2:  ['D005' 'D013' 'D014' 'D015' 'D016' 'D017' 'D018' 'D019']\n"
     ]
    }
   ],
   "source": [
    "# Dynamically create expert variables\n",
    "unique_subjects = ODAQ_results['subject'].unique()\n",
    "for i, subject in enumerate(unique_subjects, start=1):\n",
    "    globals()[f\"expert{i}\"] = ODAQ_results[ODAQ_results['subject'] == subject]\n",
    "\n",
    "# Dynamically create BSU1 variables\n",
    "unique_subjects_BSU1 = ODAQ_results_BSU1['subject'].unique()\n",
    "for i, subject in enumerate(unique_subjects_BSU1, start=1):\n",
    "    globals()[f\"BSU1_{i}\"] = ODAQ_results_BSU1[ODAQ_results_BSU1['subject'] == subject]\n",
    "\n",
    "# Dynamically create BSU2 variables\n",
    "unique_subjects_BSU2 = ODAQ_results_BSU2['subject'].unique()\n",
    "for i, subject in enumerate(unique_subjects_BSU2, start=1):\n",
    "    globals()[f\"BSU2_{i}\"] = ODAQ_results_BSU2[ODAQ_results_BSU2['subject'] == subject]\n",
    "    \n",
    "print('Experts: ', unique_subjects)\n",
    "print('BSU1: ', unique_subjects_BSU1)\n",
    "print('BSU2: ', unique_subjects_BSU2)"
   ]
  },
  {
   "cell_type": "code",
   "execution_count": 107,
   "id": "5256e626",
   "metadata": {},
   "outputs": [],
   "source": [
    "# Initialize score lists dynamically for 26 experts\n",
    "for i in range(1, 27):  # Assuming 26 experts\n",
    "    globals()[f\"expert{i}_scores\"] = []\n",
    "\n",
    "# Initialize score lists dynamically for BSU1\n",
    "for i in range(1, 9):  # Assuming 26 experts\n",
    "    globals()[f\"BSU1_{i}_scores\"] = []\n",
    "\n",
    "# Initialize score lists dynamically for BSU2\n",
    "for i in range(1, 9):  # Assuming 26 experts\n",
    "    globals()[f\"BSU2_{i}_scores\"] = []\n",
    "\n",
    "# Append scores systematically\n",
    "for item in items:\n",
    "    for i in range(1, 27):\n",
    "        expert_df = globals()[f\"expert{i}\"]  # Access expert data frame\n",
    "        scores = expert_df[expert_df['item'] == item]['score'].values\n",
    "        globals()[f\"expert{i}_scores\"].append(scores)\n",
    "\n",
    "    for i in range(1, 9):\n",
    "        BSU1_df = globals()[f\"BSU1_{i}\"]\n",
    "        scores = BSU1_df[BSU1_df['item'] == item]['score'].values\n",
    "        globals()[f\"BSU1_{i}_scores\"].append(scores)\n",
    "\n",
    "    for i in range(1, 9):\n",
    "        BSU2_df = globals()[f\"BSU2_{i}\"]\n",
    "        scores = BSU2_df[BSU2_df['item'] == item]['score'].values\n",
    "        globals()[f\"BSU2_{i}_scores\"].append(scores)\n",
    "        "
   ]
  },
  {
   "cell_type": "code",
   "execution_count": 108,
   "id": "589db4a0",
   "metadata": {},
   "outputs": [],
   "source": [
    "# create expert{}_scores_df\n",
    "\n",
    "# Initialize expert{}_scores_df\n",
    "for i in range(1, 27):\n",
    "    globals()[f\"expert{i}_scores_df\"] = pd.DataFrame()\n",
    "\n",
    "# Append scores systematically\n",
    "for i in range(1, 27):\n",
    "    globals()[f\"expert{i}_scores_df\"]['item'] = items\n",
    "    globals()[f\"expert{i}_scores_df\"]['score'] = globals()[f\"expert{i}_scores\"]\n",
    "    globals()[f\"expert{i}_scores_df\"]['condition'] = [list(conditions)] * len(items)\n",
    "\n",
    "# expand the scores column such that each element in the vector is a row\n",
    "for i in range(1, 27):\n",
    "    globals()[f\"expert{i}_scores_df\"] = globals()[f\"expert{i}_scores_df\"].explode(['score', 'condition'])\n",
    "\n",
    "\n",
    "# create BSU1_{}_scores_df\n",
    "\n",
    "# Initialize BSU1_{}_scores_df\n",
    "for i in range(1, 9):\n",
    "    globals()[f\"BSU1_{i}_scores_df\"] = pd.DataFrame()\n",
    "\n",
    "# Append scores systematically\n",
    "for i in range(1, 9):\n",
    "    globals()[f\"BSU1_{i}_scores_df\"]['item'] = items\n",
    "    globals()[f\"BSU1_{i}_scores_df\"]['score'] = globals()[f\"BSU1_{i}_scores\"]\n",
    "    globals()[f\"BSU1_{i}_scores_df\"]['condition'] = [list(conditions)] * len(items)\n",
    "\n",
    "# expand the scores column such that each element in the vector is a row\n",
    "for i in range(1, 9):\n",
    "    globals()[f\"BSU1_{i}_scores_df\"] = globals()[f\"BSU1_{i}_scores_df\"].explode(['score', 'condition'])\n",
    "\n",
    "\n",
    "# create BSU2_{}_scores_df\n",
    "\n",
    "# Initialize BSU2_{}_scores_df\n",
    "for i in range(1, 9):\n",
    "    globals()[f\"BSU2_{i}_scores_df\"] = pd.DataFrame()\n",
    "\n",
    "# Append scores systematically\n",
    "for i in range(1, 9):\n",
    "    globals()[f\"BSU2_{i}_scores_df\"]['item'] = items\n",
    "    globals()[f\"BSU2_{i}_scores_df\"]['score'] = globals()[f\"BSU2_{i}_scores\"]\n",
    "    globals()[f\"BSU2_{i}_scores_df\"]['condition'] = [list(conditions)] * len(items)\n",
    "\n",
    "# expand the scores column such that each element in the vector is a row\n",
    "for i in range(1, 9):\n",
    "    globals()[f\"BSU2_{i}_scores_df\"] = globals()[f\"BSU2_{i}_scores_df\"].explode(['score', 'condition'])"
   ]
  },
  {
   "cell_type": "markdown",
   "id": "514f66d7",
   "metadata": {},
   "source": [
    "# K-Means for Ranking Experts and Students"
   ]
  },
  {
   "cell_type": "code",
   "execution_count": 109,
   "id": "eb690ed2",
   "metadata": {},
   "outputs": [],
   "source": [
    "# K-means clustering for expert scores for ranking\n",
    "\n",
    "for i in range(1, 27):\n",
    "    # Dynamically access each expert's DataFrame\n",
    "    df = globals()[f\"expert{i}_scores_df\"]\n",
    "    \n",
    "    # Apply K-means clustering (k=8)\n",
    "    kmeans = KMeans(n_clusters=8, random_state=0).fit(df['score'].values.reshape(-1, 1))\n",
    "    \n",
    "    # Assign initial cluster labels\n",
    "    df['cluster'] = kmeans.labels_\n",
    "    \n",
    "    # Compute mean score for each cluster\n",
    "    cluster_means = df.groupby('cluster')['score'].mean()\n",
    "    \n",
    "    # Rank clusters by mean score, assigning new labels from 1 to 8\n",
    "    cluster_rank = {old_label: new_label for new_label, old_label in enumerate(np.argsort(cluster_means.values), start=1)}\n",
    "    \n",
    "    # Reassign cluster labels based on ranking\n",
    "    df['cluster'] = df['cluster'].map(cluster_rank)\n",
    "    \n",
    "    # Store back the updated DataFrame\n",
    "    globals()[f\"expert{i}_scores_df\"] = df\n",
    "\n",
    "\n",
    "# K-means clustering for BSU1 scores for ranking\n",
    "\n",
    "for i in range(1, 9):\n",
    "    # Dynamically access each expert's DataFrame\n",
    "    df = globals()[f\"BSU1_{i}_scores_df\"]\n",
    "    \n",
    "    # Apply K-means clustering (k=8)\n",
    "    kmeans = KMeans(n_clusters=8, random_state=0).fit(df['score'].values.reshape(-1, 1))\n",
    "    \n",
    "    # Assign initial cluster labels\n",
    "    df['cluster'] = kmeans.labels_\n",
    "    \n",
    "    # Compute mean score for each cluster\n",
    "    cluster_means = df.groupby('cluster')['score'].mean()\n",
    "    \n",
    "    # Rank clusters by mean score, assigning new labels from 1 to 8\n",
    "    cluster_rank = {old_label: new_label for new_label, old_label in enumerate(np.argsort(cluster_means.values), start=1)}\n",
    "    \n",
    "    # Reassign cluster labels based on ranking\n",
    "    df['cluster'] = df['cluster'].map(cluster_rank)\n",
    "    \n",
    "    # Store back the updated DataFrame\n",
    "    globals()[f\"BSU1_{i}_scores_df\"] = df\n",
    "\n",
    "\n",
    "# K-means clustering for BSU2 scores for ranking\n",
    "\n",
    "for i in range(1, 9):\n",
    "    # Dynamically access each expert's DataFrame\n",
    "    df = globals()[f\"BSU2_{i}_scores_df\"]\n",
    "    \n",
    "    # Apply K-means clustering (k=8)\n",
    "    kmeans = KMeans(n_clusters=8, random_state=0).fit(df['score'].values.reshape(-1, 1))\n",
    "    \n",
    "    # Assign initial cluster labels\n",
    "    df['cluster'] = kmeans.labels_\n",
    "    \n",
    "    # Compute mean score for each cluster\n",
    "    cluster_means = df.groupby('cluster')['score'].mean()\n",
    "    \n",
    "    # Rank clusters by mean score, assigning new labels from 1 to 8\n",
    "    cluster_rank = {old_label: new_label for new_label, old_label in enumerate(np.argsort(cluster_means.values), start=1)}\n",
    "    \n",
    "    # Reassign cluster labels based on ranking\n",
    "    df['cluster'] = df['cluster'].map(cluster_rank)\n",
    "    \n",
    "    # Store back the updated DataFrame\n",
    "    globals()[f\"BSU2_{i}_scores_df\"] = df\n"
   ]
  },
  {
   "cell_type": "code",
   "execution_count": 110,
   "id": "e107dbbd",
   "metadata": {},
   "outputs": [],
   "source": [
    "# Convert back to simple dataframe\n",
    "\n",
    "for i in range(1, 27):\n",
    "    df = globals()[f\"expert{i}_scores_df\"]\n",
    "    \n",
    "    # Group by 'item' and aggregate the lists back\n",
    "    df = df.groupby('item').agg({\n",
    "        'score': list,\n",
    "        'condition': list,\n",
    "        'cluster': list\n",
    "    }).reset_index()\n",
    "\n",
    "    # Rename 'cluster' to 'rankings'\n",
    "    df = df.rename(columns={'cluster': 'rankings'})\n",
    "    \n",
    "    # Store the updated DataFrame back\n",
    "    globals()[f\"expert{i}_scores_df\"] = df\n",
    "\n",
    "for i in range(1, 9):\n",
    "    df = globals()[f\"BSU1_{i}_scores_df\"]\n",
    "    \n",
    "    # Group by 'item' and aggregate the lists back\n",
    "    df = df.groupby('item').agg({\n",
    "        'score': list,\n",
    "        'condition': list,\n",
    "        'cluster': list\n",
    "    }).reset_index()\n",
    "\n",
    "    # Rename 'cluster' to 'rankings'\n",
    "    df = df.rename(columns={'cluster': 'rankings'})\n",
    "    \n",
    "    # Store the updated DataFrame back\n",
    "    globals()[f\"BSU1_{i}_scores_df\"] = df\n",
    "\n",
    "for i in range(1, 9):\n",
    "    df = globals()[f\"BSU2_{i}_scores_df\"]\n",
    "    \n",
    "    # Group by 'item' and aggregate the lists back\n",
    "    df = df.groupby('item').agg({\n",
    "        'score': list,\n",
    "        'condition': list,\n",
    "        'cluster': list\n",
    "    }).reset_index()\n",
    "\n",
    "    # Rename 'cluster' to 'rankings'\n",
    "    df = df.rename(columns={'cluster': 'rankings'})\n",
    "    \n",
    "    # Store the updated DataFrame back\n",
    "    globals()[f\"BSU2_{i}_scores_df\"] = df\n",
    "# Extract all the 'rankings' column value for each expert and create a 30x8 matrix for each expert. Name as expert1_rankings_kmeans_based, expert2_rankings_kmeans_based, etc.\n",
    "\n",
    "for i in range(1, 27):\n",
    "    df = globals()[f\"expert{i}_scores_df\"]\n",
    "    \n",
    "    # Extract the 'cluster' values as a 30x8 matrix\n",
    "    rankings_matrix = np.array(df['rankings'].tolist())  # Convert list of lists to array\n",
    "    \n",
    "    # Store as a variable dynamically\n",
    "    globals()[f\"expert{i}_rankings_kmeans_based\"] = rankings_matrix\n",
    "\n",
    "for i in range(1, 9):\n",
    "    df = globals()[f\"BSU1_{i}_scores_df\"]\n",
    "    \n",
    "    # Extract the 'cluster' values as a 30x8 matrix\n",
    "    rankings_matrix = np.array(df['rankings'].tolist())  # Convert list of lists to array\n",
    "    \n",
    "    # Store as a variable dynamically\n",
    "    globals()[f\"BSU1_{i}_rankings_kmeans_based\"] = rankings_matrix\n",
    "\n",
    "for i in range(1, 9):\n",
    "    df = globals()[f\"BSU2_{i}_scores_df\"]\n",
    "    \n",
    "    # Extract the 'cluster' values as a 30x8 matrix\n",
    "    rankings_matrix = np.array(df['rankings'].tolist())  # Convert list of lists to array\n",
    "    \n",
    "    # Store as a variable dynamically\n",
    "    globals()[f\"BSU2_{i}_rankings_kmeans_based\"] = rankings_matrix"
   ]
  },
  {
   "cell_type": "code",
   "execution_count": 111,
   "id": "c680f529",
   "metadata": {},
   "outputs": [],
   "source": [
    "easy_easiest_trials_competition_kmeans = ['TM_01b_trumpet', 'DE_ElephantsDream_LD0', 'LP_23_jazz', 'LP_AmateurOnPurpose', 'DE_female_speech_music_2_LD9', 'UN_AmateurOnPurpose', 'UN_CreatureFromTheBlackjackTable']\n",
    "hard_hardest_trials_competition_kmeans = ['SH_AmateurOnPurpose', 'SH_CreatureFromTheBlackjackTable', 'DE_SitaSings_remix2_LD6', 'PE_27_castanets']"
   ]
  },
  {
   "cell_type": "code",
   "execution_count": 112,
   "id": "04e65449",
   "metadata": {},
   "outputs": [],
   "source": [
    "reversed_perfect_ranking = np.array([8, 7, 6, 5, 4, 3, 2, 1])\n",
    "\n",
    "# Create DataFrame for perfect ranking\n",
    "perfect_df = pd.DataFrame({\n",
    "    'Sample': ['Perfect Ranking'] * len(conditions),\n",
    "    'Condition': conditions,\n",
    "    'Ranking': reversed_perfect_ranking\n",
    "})"
   ]
  },
  {
   "cell_type": "code",
   "execution_count": null,
   "id": "c76a4ee0",
   "metadata": {},
   "outputs": [
    {
     "data": {
      "application/vnd.plotly.v1+json": {
       "config": {
        "plotlyServerURL": "https://plot.ly"
       },
       "data": [
        {
         "hovertemplate": "Sample=Perfect Ranking<br>Conditions (Low to High Quality)=%{x}<br>Ranking (Lower is Better)=%{y}<extra></extra>",
         "legendgroup": "Perfect Ranking",
         "line": {
          "color": "black",
          "dash": "solid",
          "width": 10
         },
         "marker": {
          "color": "black",
          "size": 14,
          "symbol": "circle"
         },
         "mode": "lines+markers",
         "name": "Perfect Ranking",
         "orientation": "v",
         "showlegend": true,
         "type": "scatter",
         "x": [
          "LP3.5",
          "LP7",
          "Q1",
          "Q2",
          "Q3",
          "Q4",
          "Q5",
          "Ref"
         ],
         "xaxis": "x",
         "y": [
          8,
          7,
          6,
          5,
          4,
          3,
          2,
          1
         ],
         "yaxis": "y"
        },
        {
         "hovertemplate": "Sample=LP_11_guitar<br>Conditions (Low to High Quality)=%{x}<br>Ranking (Lower is Better)=%{y}<extra></extra>",
         "legendgroup": "LP_11_guitar",
         "line": {
          "color": "rgba(211,211,211,0.4)",
          "dash": "solid"
         },
         "marker": {
          "symbol": "circle"
         },
         "mode": "lines+markers",
         "name": "LP_11_guitar",
         "orientation": "v",
         "showlegend": true,
         "type": "scatter",
         "x": [
          "LP3.5",
          "LP7",
          "Q1",
          "Q2",
          "Q3",
          "Q4",
          "Q5",
          "Ref"
         ],
         "xaxis": "x",
         "y": [
          8,
          7,
          6,
          3,
          5,
          4,
          2,
          1
         ],
         "yaxis": "y"
        },
        {
         "hovertemplate": "Sample=LP_23_jazz<br>Conditions (Low to High Quality)=%{x}<br>Ranking (Lower is Better)=%{y}<extra></extra>",
         "legendgroup": "LP_23_jazz",
         "line": {
          "color": "rgba(0,128,0,0.5)",
          "dash": "solid"
         },
         "marker": {
          "symbol": "circle"
         },
         "mode": "lines+markers",
         "name": "LP_23_jazz",
         "orientation": "v",
         "showlegend": true,
         "type": "scatter",
         "x": [
          "LP3.5",
          "LP7",
          "Q1",
          "Q2",
          "Q3",
          "Q4",
          "Q5",
          "Ref"
         ],
         "xaxis": "x",
         "y": [
          8,
          7,
          6,
          4,
          5,
          3,
          2,
          1
         ],
         "yaxis": "y"
        },
        {
         "hovertemplate": "Sample=LP_AmateurOnPurpose<br>Conditions (Low to High Quality)=%{x}<br>Ranking (Lower is Better)=%{y}<extra></extra>",
         "legendgroup": "LP_AmateurOnPurpose",
         "line": {
          "color": "rgba(0,128,0,0.5)",
          "dash": "solid"
         },
         "marker": {
          "symbol": "circle"
         },
         "mode": "lines+markers",
         "name": "LP_AmateurOnPurpose",
         "orientation": "v",
         "showlegend": true,
         "type": "scatter",
         "x": [
          "LP3.5",
          "LP7",
          "Q1",
          "Q2",
          "Q3",
          "Q4",
          "Q5",
          "Ref"
         ],
         "xaxis": "x",
         "y": [
          8,
          7,
          6,
          5,
          4,
          3,
          2,
          1
         ],
         "yaxis": "y"
        },
        {
         "hovertemplate": "Sample=LP_CreatureFromTheBlackjackTable<br>Conditions (Low to High Quality)=%{x}<br>Ranking (Lower is Better)=%{y}<extra></extra>",
         "legendgroup": "LP_CreatureFromTheBlackjackTable",
         "line": {
          "color": "rgba(211,211,211,0.4)",
          "dash": "solid"
         },
         "marker": {
          "symbol": "circle"
         },
         "mode": "lines+markers",
         "name": "LP_CreatureFromTheBlackjackTable",
         "orientation": "v",
         "showlegend": true,
         "type": "scatter",
         "x": [
          "LP3.5",
          "LP7",
          "Q1",
          "Q2",
          "Q3",
          "Q4",
          "Q5",
          "Ref"
         ],
         "xaxis": "x",
         "y": [
          8,
          6,
          6,
          5,
          4,
          3,
          2,
          1
         ],
         "yaxis": "y"
        },
        {
         "hovertemplate": "Sample=TM_01b_trumpet<br>Conditions (Low to High Quality)=%{x}<br>Ranking (Lower is Better)=%{y}<extra></extra>",
         "legendgroup": "TM_01b_trumpet",
         "line": {
          "color": "rgba(0,128,0,0.5)",
          "dash": "solid"
         },
         "marker": {
          "symbol": "circle"
         },
         "mode": "lines+markers",
         "name": "TM_01b_trumpet",
         "orientation": "v",
         "showlegend": true,
         "type": "scatter",
         "x": [
          "LP3.5",
          "LP7",
          "Q1",
          "Q2",
          "Q3",
          "Q4",
          "Q5",
          "Ref"
         ],
         "xaxis": "x",
         "y": [
          8,
          7,
          6,
          4,
          5,
          3,
          2,
          1
         ],
         "yaxis": "y"
        },
        {
         "hovertemplate": "Sample=TM_02_violin<br>Conditions (Low to High Quality)=%{x}<br>Ranking (Lower is Better)=%{y}<extra></extra>",
         "legendgroup": "TM_02_violin",
         "line": {
          "color": "rgba(211,211,211,0.4)",
          "dash": "solid"
         },
         "marker": {
          "symbol": "circle"
         },
         "mode": "lines+markers",
         "name": "TM_02_violin",
         "orientation": "v",
         "showlegend": true,
         "type": "scatter",
         "x": [
          "LP3.5",
          "LP7",
          "Q1",
          "Q2",
          "Q3",
          "Q4",
          "Q5",
          "Ref"
         ],
         "xaxis": "x",
         "y": [
          8,
          7,
          6,
          5,
          4,
          3,
          2,
          1
         ],
         "yaxis": "y"
        },
        {
         "hovertemplate": "Sample=TM_AmateurOnPurpose<br>Conditions (Low to High Quality)=%{x}<br>Ranking (Lower is Better)=%{y}<extra></extra>",
         "legendgroup": "TM_AmateurOnPurpose",
         "line": {
          "color": "rgba(211,211,211,0.4)",
          "dash": "solid"
         },
         "marker": {
          "symbol": "circle"
         },
         "mode": "lines+markers",
         "name": "TM_AmateurOnPurpose",
         "orientation": "v",
         "showlegend": true,
         "type": "scatter",
         "x": [
          "LP3.5",
          "LP7",
          "Q1",
          "Q2",
          "Q3",
          "Q4",
          "Q5",
          "Ref"
         ],
         "xaxis": "x",
         "y": [
          8,
          6,
          6,
          5,
          4,
          4,
          2,
          1
         ],
         "yaxis": "y"
        },
        {
         "hovertemplate": "Sample=TM_CreatureFromTheBlackjackTable<br>Conditions (Low to High Quality)=%{x}<br>Ranking (Lower is Better)=%{y}<extra></extra>",
         "legendgroup": "TM_CreatureFromTheBlackjackTable",
         "line": {
          "color": "rgba(211,211,211,0.4)",
          "dash": "solid"
         },
         "marker": {
          "symbol": "circle"
         },
         "mode": "lines+markers",
         "name": "TM_CreatureFromTheBlackjackTable",
         "orientation": "v",
         "showlegend": true,
         "type": "scatter",
         "x": [
          "LP3.5",
          "LP7",
          "Q1",
          "Q2",
          "Q3",
          "Q4",
          "Q5",
          "Ref"
         ],
         "xaxis": "x",
         "y": [
          8,
          6,
          5,
          5,
          4,
          3,
          2,
          1
         ],
         "yaxis": "y"
        },
        {
         "hovertemplate": "Sample=UN_20c_accordion<br>Conditions (Low to High Quality)=%{x}<br>Ranking (Lower is Better)=%{y}<extra></extra>",
         "legendgroup": "UN_20c_accordion",
         "line": {
          "color": "rgba(211,211,211,0.4)",
          "dash": "solid"
         },
         "marker": {
          "symbol": "circle"
         },
         "mode": "lines+markers",
         "name": "UN_20c_accordion",
         "orientation": "v",
         "showlegend": true,
         "type": "scatter",
         "x": [
          "LP3.5",
          "LP7",
          "Q1",
          "Q2",
          "Q3",
          "Q4",
          "Q5",
          "Ref"
         ],
         "xaxis": "x",
         "y": [
          8,
          7,
          6,
          5,
          5,
          3,
          2,
          1
         ],
         "yaxis": "y"
        },
        {
         "hovertemplate": "Sample=UN_21_violin<br>Conditions (Low to High Quality)=%{x}<br>Ranking (Lower is Better)=%{y}<extra></extra>",
         "legendgroup": "UN_21_violin",
         "line": {
          "color": "rgba(211,211,211,0.4)",
          "dash": "solid"
         },
         "marker": {
          "symbol": "circle"
         },
         "mode": "lines+markers",
         "name": "UN_21_violin",
         "orientation": "v",
         "showlegend": true,
         "type": "scatter",
         "x": [
          "LP3.5",
          "LP7",
          "Q1",
          "Q2",
          "Q3",
          "Q4",
          "Q5",
          "Ref"
         ],
         "xaxis": "x",
         "y": [
          8,
          7,
          6,
          5,
          4,
          3,
          2,
          1
         ],
         "yaxis": "y"
        },
        {
         "hovertemplate": "Sample=UN_AmateurOnPurpose<br>Conditions (Low to High Quality)=%{x}<br>Ranking (Lower is Better)=%{y}<extra></extra>",
         "legendgroup": "UN_AmateurOnPurpose",
         "line": {
          "color": "rgba(0,128,0,0.5)",
          "dash": "solid"
         },
         "marker": {
          "symbol": "circle"
         },
         "mode": "lines+markers",
         "name": "UN_AmateurOnPurpose",
         "orientation": "v",
         "showlegend": true,
         "type": "scatter",
         "x": [
          "LP3.5",
          "LP7",
          "Q1",
          "Q2",
          "Q3",
          "Q4",
          "Q5",
          "Ref"
         ],
         "xaxis": "x",
         "y": [
          8,
          7,
          6,
          4,
          3,
          2,
          3,
          1
         ],
         "yaxis": "y"
        },
        {
         "hovertemplate": "Sample=UN_CreatureFromTheBlackjackTable<br>Conditions (Low to High Quality)=%{x}<br>Ranking (Lower is Better)=%{y}<extra></extra>",
         "legendgroup": "UN_CreatureFromTheBlackjackTable",
         "line": {
          "color": "rgba(0,128,0,0.5)",
          "dash": "solid"
         },
         "marker": {
          "symbol": "circle"
         },
         "mode": "lines+markers",
         "name": "UN_CreatureFromTheBlackjackTable",
         "orientation": "v",
         "showlegend": true,
         "type": "scatter",
         "x": [
          "LP3.5",
          "LP7",
          "Q1",
          "Q2",
          "Q3",
          "Q4",
          "Q5",
          "Ref"
         ],
         "xaxis": "x",
         "y": [
          8,
          7,
          6,
          5,
          4,
          2,
          3,
          1
         ],
         "yaxis": "y"
        },
        {
         "hovertemplate": "Sample=SH_04_choral<br>Conditions (Low to High Quality)=%{x}<br>Ranking (Lower is Better)=%{y}<extra></extra>",
         "legendgroup": "SH_04_choral",
         "line": {
          "color": "rgba(211,211,211,0.4)",
          "dash": "solid"
         },
         "marker": {
          "symbol": "circle"
         },
         "mode": "lines+markers",
         "name": "SH_04_choral",
         "orientation": "v",
         "showlegend": true,
         "type": "scatter",
         "x": [
          "LP3.5",
          "LP7",
          "Q1",
          "Q2",
          "Q3",
          "Q4",
          "Q5",
          "Ref"
         ],
         "xaxis": "x",
         "y": [
          7,
          8,
          6,
          5,
          4,
          2,
          3,
          1
         ],
         "yaxis": "y"
        },
        {
         "hovertemplate": "Sample=SH_13_glockenspiel<br>Conditions (Low to High Quality)=%{x}<br>Ranking (Lower is Better)=%{y}<extra></extra>",
         "legendgroup": "SH_13_glockenspiel",
         "line": {
          "color": "rgba(211,211,211,0.4)",
          "dash": "solid"
         },
         "marker": {
          "symbol": "circle"
         },
         "mode": "lines+markers",
         "name": "SH_13_glockenspiel",
         "orientation": "v",
         "showlegend": true,
         "type": "scatter",
         "x": [
          "LP3.5",
          "LP7",
          "Q1",
          "Q2",
          "Q3",
          "Q4",
          "Q5",
          "Ref"
         ],
         "xaxis": "x",
         "y": [
          8,
          7,
          6,
          4,
          5,
          2,
          3,
          1
         ],
         "yaxis": "y"
        },
        {
         "hovertemplate": "Sample=SH_AmateurOnPurpose<br>Conditions (Low to High Quality)=%{x}<br>Ranking (Lower is Better)=%{y}<extra></extra>",
         "legendgroup": "SH_AmateurOnPurpose",
         "line": {
          "color": "rgba(255,0,0,0.5)",
          "dash": "solid"
         },
         "marker": {
          "symbol": "circle"
         },
         "mode": "lines+markers",
         "name": "SH_AmateurOnPurpose",
         "orientation": "v",
         "showlegend": true,
         "type": "scatter",
         "x": [
          "LP3.5",
          "LP7",
          "Q1",
          "Q2",
          "Q3",
          "Q4",
          "Q5",
          "Ref"
         ],
         "xaxis": "x",
         "y": [
          8,
          6,
          5,
          6,
          4,
          4,
          2,
          1
         ],
         "yaxis": "y"
        },
        {
         "hovertemplate": "Sample=SH_CreatureFromTheBlackjackTable<br>Conditions (Low to High Quality)=%{x}<br>Ranking (Lower is Better)=%{y}<extra></extra>",
         "legendgroup": "SH_CreatureFromTheBlackjackTable",
         "line": {
          "color": "rgba(255,0,0,0.5)",
          "dash": "solid"
         },
         "marker": {
          "symbol": "circle"
         },
         "mode": "lines+markers",
         "name": "SH_CreatureFromTheBlackjackTable",
         "orientation": "v",
         "showlegend": true,
         "type": "scatter",
         "x": [
          "LP3.5",
          "LP7",
          "Q1",
          "Q2",
          "Q3",
          "Q4",
          "Q5",
          "Ref"
         ],
         "xaxis": "x",
         "y": [
          8,
          7,
          5,
          6,
          4,
          3,
          2,
          1
         ],
         "yaxis": "y"
        },
        {
         "hovertemplate": "Sample=PE_27_castanets<br>Conditions (Low to High Quality)=%{x}<br>Ranking (Lower is Better)=%{y}<extra></extra>",
         "legendgroup": "PE_27_castanets",
         "line": {
          "color": "rgba(255,0,0,0.5)",
          "dash": "solid"
         },
         "marker": {
          "symbol": "circle"
         },
         "mode": "lines+markers",
         "name": "PE_27_castanets",
         "orientation": "v",
         "showlegend": true,
         "type": "scatter",
         "x": [
          "LP3.5",
          "LP7",
          "Q1",
          "Q2",
          "Q3",
          "Q4",
          "Q5",
          "Ref"
         ],
         "xaxis": "x",
         "y": [
          8,
          7,
          6,
          4,
          6,
          5,
          2,
          1
         ],
         "yaxis": "y"
        },
        {
         "hovertemplate": "Sample=PE_39_clapping<br>Conditions (Low to High Quality)=%{x}<br>Ranking (Lower is Better)=%{y}<extra></extra>",
         "legendgroup": "PE_39_clapping",
         "line": {
          "color": "rgba(211,211,211,0.4)",
          "dash": "solid"
         },
         "marker": {
          "symbol": "circle"
         },
         "mode": "lines+markers",
         "name": "PE_39_clapping",
         "orientation": "v",
         "showlegend": true,
         "type": "scatter",
         "x": [
          "LP3.5",
          "LP7",
          "Q1",
          "Q2",
          "Q3",
          "Q4",
          "Q5",
          "Ref"
         ],
         "xaxis": "x",
         "y": [
          6,
          7,
          8,
          5,
          5,
          3,
          2,
          1
         ],
         "yaxis": "y"
        },
        {
         "hovertemplate": "Sample=PE_AmateurOnPurpose<br>Conditions (Low to High Quality)=%{x}<br>Ranking (Lower is Better)=%{y}<extra></extra>",
         "legendgroup": "PE_AmateurOnPurpose",
         "line": {
          "color": "rgba(211,211,211,0.4)",
          "dash": "solid"
         },
         "marker": {
          "symbol": "circle"
         },
         "mode": "lines+markers",
         "name": "PE_AmateurOnPurpose",
         "orientation": "v",
         "showlegend": true,
         "type": "scatter",
         "x": [
          "LP3.5",
          "LP7",
          "Q1",
          "Q2",
          "Q3",
          "Q4",
          "Q5",
          "Ref"
         ],
         "xaxis": "x",
         "y": [
          8,
          7,
          6,
          5,
          5,
          4,
          2,
          1
         ],
         "yaxis": "y"
        },
        {
         "hovertemplate": "Sample=PE_CreatureFromTheBlackjackTable<br>Conditions (Low to High Quality)=%{x}<br>Ranking (Lower is Better)=%{y}<extra></extra>",
         "legendgroup": "PE_CreatureFromTheBlackjackTable",
         "line": {
          "color": "rgba(211,211,211,0.4)",
          "dash": "solid"
         },
         "marker": {
          "symbol": "circle"
         },
         "mode": "lines+markers",
         "name": "PE_CreatureFromTheBlackjackTable",
         "orientation": "v",
         "showlegend": true,
         "type": "scatter",
         "x": [
          "LP3.5",
          "LP7",
          "Q1",
          "Q2",
          "Q3",
          "Q4",
          "Q5",
          "Ref"
         ],
         "xaxis": "x",
         "y": [
          8,
          6,
          6,
          5,
          4,
          3,
          2,
          1
         ],
         "yaxis": "y"
        },
        {
         "hovertemplate": "Sample=DE_CosmosLandromat_remix1_LD6<br>Conditions (Low to High Quality)=%{x}<br>Ranking (Lower is Better)=%{y}<extra></extra>",
         "legendgroup": "DE_CosmosLandromat_remix1_LD6",
         "line": {
          "color": "rgba(211,211,211,0.4)",
          "dash": "solid"
         },
         "marker": {
          "symbol": "circle"
         },
         "mode": "lines+markers",
         "name": "DE_CosmosLandromat_remix1_LD6",
         "orientation": "v",
         "showlegend": true,
         "type": "scatter",
         "x": [
          "LP3.5",
          "LP7",
          "Q1",
          "Q2",
          "Q3",
          "Q4",
          "Q5",
          "Ref"
         ],
         "xaxis": "x",
         "y": [
          8,
          4,
          6,
          5,
          3,
          2,
          2,
          1
         ],
         "yaxis": "y"
        },
        {
         "hovertemplate": "Sample=DE_CosmosLandromat_remix3_LD3<br>Conditions (Low to High Quality)=%{x}<br>Ranking (Lower is Better)=%{y}<extra></extra>",
         "legendgroup": "DE_CosmosLandromat_remix3_LD3",
         "line": {
          "color": "rgba(211,211,211,0.4)",
          "dash": "solid"
         },
         "marker": {
          "symbol": "circle"
         },
         "mode": "lines+markers",
         "name": "DE_CosmosLandromat_remix3_LD3",
         "orientation": "v",
         "showlegend": true,
         "type": "scatter",
         "x": [
          "LP3.5",
          "LP7",
          "Q1",
          "Q2",
          "Q3",
          "Q4",
          "Q5",
          "Ref"
         ],
         "xaxis": "x",
         "y": [
          8,
          7,
          6,
          5,
          5,
          3,
          2,
          1
         ],
         "yaxis": "y"
        },
        {
         "hovertemplate": "Sample=DE_ElephantsDream_LD0<br>Conditions (Low to High Quality)=%{x}<br>Ranking (Lower is Better)=%{y}<extra></extra>",
         "legendgroup": "DE_ElephantsDream_LD0",
         "line": {
          "color": "rgba(0,128,0,0.5)",
          "dash": "solid"
         },
         "marker": {
          "symbol": "circle"
         },
         "mode": "lines+markers",
         "name": "DE_ElephantsDream_LD0",
         "orientation": "v",
         "showlegend": true,
         "type": "scatter",
         "x": [
          "LP3.5",
          "LP7",
          "Q1",
          "Q2",
          "Q3",
          "Q4",
          "Q5",
          "Ref"
         ],
         "xaxis": "x",
         "y": [
          8,
          8,
          6,
          5,
          5,
          4,
          2,
          1
         ],
         "yaxis": "y"
        },
        {
         "hovertemplate": "Sample=DE_female_speech_music_1_LD0<br>Conditions (Low to High Quality)=%{x}<br>Ranking (Lower is Better)=%{y}<extra></extra>",
         "legendgroup": "DE_female_speech_music_1_LD0",
         "line": {
          "color": "rgba(211,211,211,0.4)",
          "dash": "solid"
         },
         "marker": {
          "symbol": "circle"
         },
         "mode": "lines+markers",
         "name": "DE_female_speech_music_1_LD0",
         "orientation": "v",
         "showlegend": true,
         "type": "scatter",
         "x": [
          "LP3.5",
          "LP7",
          "Q1",
          "Q2",
          "Q3",
          "Q4",
          "Q5",
          "Ref"
         ],
         "xaxis": "x",
         "y": [
          8,
          6,
          7,
          6,
          4,
          3,
          2,
          1
         ],
         "yaxis": "y"
        },
        {
         "hovertemplate": "Sample=DE_female_speech_music_2_LD9<br>Conditions (Low to High Quality)=%{x}<br>Ranking (Lower is Better)=%{y}<extra></extra>",
         "legendgroup": "DE_female_speech_music_2_LD9",
         "line": {
          "color": "rgba(0,128,0,0.5)",
          "dash": "solid"
         },
         "marker": {
          "symbol": "circle"
         },
         "mode": "lines+markers",
         "name": "DE_female_speech_music_2_LD9",
         "orientation": "v",
         "showlegend": true,
         "type": "scatter",
         "x": [
          "LP3.5",
          "LP7",
          "Q1",
          "Q2",
          "Q3",
          "Q4",
          "Q5",
          "Ref"
         ],
         "xaxis": "x",
         "y": [
          8,
          7,
          6,
          5,
          3,
          4,
          2,
          1
         ],
         "yaxis": "y"
        },
        {
         "hovertemplate": "Sample=DE_female_speech_music_3_LD3<br>Conditions (Low to High Quality)=%{x}<br>Ranking (Lower is Better)=%{y}<extra></extra>",
         "legendgroup": "DE_female_speech_music_3_LD3",
         "line": {
          "color": "rgba(211,211,211,0.4)",
          "dash": "solid"
         },
         "marker": {
          "symbol": "circle"
         },
         "mode": "lines+markers",
         "name": "DE_female_speech_music_3_LD3",
         "orientation": "v",
         "showlegend": true,
         "type": "scatter",
         "x": [
          "LP3.5",
          "LP7",
          "Q1",
          "Q2",
          "Q3",
          "Q4",
          "Q5",
          "Ref"
         ],
         "xaxis": "x",
         "y": [
          8,
          7,
          6,
          5,
          4,
          3,
          2,
          1
         ],
         "yaxis": "y"
        },
        {
         "hovertemplate": "Sample=DE_Meridian_remix1_LD3<br>Conditions (Low to High Quality)=%{x}<br>Ranking (Lower is Better)=%{y}<extra></extra>",
         "legendgroup": "DE_Meridian_remix1_LD3",
         "line": {
          "color": "rgba(211,211,211,0.4)",
          "dash": "solid"
         },
         "marker": {
          "symbol": "circle"
         },
         "mode": "lines+markers",
         "name": "DE_Meridian_remix1_LD3",
         "orientation": "v",
         "showlegend": true,
         "type": "scatter",
         "x": [
          "LP3.5",
          "LP7",
          "Q1",
          "Q2",
          "Q3",
          "Q4",
          "Q5",
          "Ref"
         ],
         "xaxis": "x",
         "y": [
          8,
          7,
          6,
          5,
          4,
          3,
          2,
          1
         ],
         "yaxis": "y"
        },
        {
         "hovertemplate": "Sample=DE_Meridian_remix2_LD6<br>Conditions (Low to High Quality)=%{x}<br>Ranking (Lower is Better)=%{y}<extra></extra>",
         "legendgroup": "DE_Meridian_remix2_LD6",
         "line": {
          "color": "rgba(211,211,211,0.4)",
          "dash": "solid"
         },
         "marker": {
          "symbol": "circle"
         },
         "mode": "lines+markers",
         "name": "DE_Meridian_remix2_LD6",
         "orientation": "v",
         "showlegend": true,
         "type": "scatter",
         "x": [
          "LP3.5",
          "LP7",
          "Q1",
          "Q2",
          "Q3",
          "Q4",
          "Q5",
          "Ref"
         ],
         "xaxis": "x",
         "y": [
          8,
          7,
          7,
          6,
          5,
          3,
          2,
          1
         ],
         "yaxis": "y"
        },
        {
         "hovertemplate": "Sample=DE_SitaSings_remix1_LD0<br>Conditions (Low to High Quality)=%{x}<br>Ranking (Lower is Better)=%{y}<extra></extra>",
         "legendgroup": "DE_SitaSings_remix1_LD0",
         "line": {
          "color": "rgba(211,211,211,0.4)",
          "dash": "solid"
         },
         "marker": {
          "symbol": "circle"
         },
         "mode": "lines+markers",
         "name": "DE_SitaSings_remix1_LD0",
         "orientation": "v",
         "showlegend": true,
         "type": "scatter",
         "x": [
          "LP3.5",
          "LP7",
          "Q1",
          "Q2",
          "Q3",
          "Q4",
          "Q5",
          "Ref"
         ],
         "xaxis": "x",
         "y": [
          8,
          6,
          7,
          5,
          5,
          3,
          2,
          1
         ],
         "yaxis": "y"
        },
        {
         "hovertemplate": "Sample=DE_SitaSings_remix2_LD6<br>Conditions (Low to High Quality)=%{x}<br>Ranking (Lower is Better)=%{y}<extra></extra>",
         "legendgroup": "DE_SitaSings_remix2_LD6",
         "line": {
          "color": "rgba(255,0,0,0.5)",
          "dash": "solid"
         },
         "marker": {
          "symbol": "circle"
         },
         "mode": "lines+markers",
         "name": "DE_SitaSings_remix2_LD6",
         "orientation": "v",
         "showlegend": true,
         "type": "scatter",
         "x": [
          "LP3.5",
          "LP7",
          "Q1",
          "Q2",
          "Q3",
          "Q4",
          "Q5",
          "Ref"
         ],
         "xaxis": "x",
         "y": [
          7,
          8,
          5,
          5,
          6,
          3,
          2,
          1
         ],
         "yaxis": "y"
        }
       ],
       "layout": {
        "height": 800,
        "legend": {
         "title": {
          "text": "Sample"
         },
         "tracegroupgap": 0
        },
        "template": {
         "data": {
          "bar": [
           {
            "error_x": {
             "color": "#2a3f5f"
            },
            "error_y": {
             "color": "#2a3f5f"
            },
            "marker": {
             "line": {
              "color": "white",
              "width": 0.5
             },
             "pattern": {
              "fillmode": "overlay",
              "size": 10,
              "solidity": 0.2
             }
            },
            "type": "bar"
           }
          ],
          "barpolar": [
           {
            "marker": {
             "line": {
              "color": "white",
              "width": 0.5
             },
             "pattern": {
              "fillmode": "overlay",
              "size": 10,
              "solidity": 0.2
             }
            },
            "type": "barpolar"
           }
          ],
          "carpet": [
           {
            "aaxis": {
             "endlinecolor": "#2a3f5f",
             "gridcolor": "#C8D4E3",
             "linecolor": "#C8D4E3",
             "minorgridcolor": "#C8D4E3",
             "startlinecolor": "#2a3f5f"
            },
            "baxis": {
             "endlinecolor": "#2a3f5f",
             "gridcolor": "#C8D4E3",
             "linecolor": "#C8D4E3",
             "minorgridcolor": "#C8D4E3",
             "startlinecolor": "#2a3f5f"
            },
            "type": "carpet"
           }
          ],
          "choropleth": [
           {
            "colorbar": {
             "outlinewidth": 0,
             "ticks": ""
            },
            "type": "choropleth"
           }
          ],
          "contour": [
           {
            "colorbar": {
             "outlinewidth": 0,
             "ticks": ""
            },
            "colorscale": [
             [
              0,
              "#0d0887"
             ],
             [
              0.1111111111111111,
              "#46039f"
             ],
             [
              0.2222222222222222,
              "#7201a8"
             ],
             [
              0.3333333333333333,
              "#9c179e"
             ],
             [
              0.4444444444444444,
              "#bd3786"
             ],
             [
              0.5555555555555556,
              "#d8576b"
             ],
             [
              0.6666666666666666,
              "#ed7953"
             ],
             [
              0.7777777777777778,
              "#fb9f3a"
             ],
             [
              0.8888888888888888,
              "#fdca26"
             ],
             [
              1,
              "#f0f921"
             ]
            ],
            "type": "contour"
           }
          ],
          "contourcarpet": [
           {
            "colorbar": {
             "outlinewidth": 0,
             "ticks": ""
            },
            "type": "contourcarpet"
           }
          ],
          "heatmap": [
           {
            "colorbar": {
             "outlinewidth": 0,
             "ticks": ""
            },
            "colorscale": [
             [
              0,
              "#0d0887"
             ],
             [
              0.1111111111111111,
              "#46039f"
             ],
             [
              0.2222222222222222,
              "#7201a8"
             ],
             [
              0.3333333333333333,
              "#9c179e"
             ],
             [
              0.4444444444444444,
              "#bd3786"
             ],
             [
              0.5555555555555556,
              "#d8576b"
             ],
             [
              0.6666666666666666,
              "#ed7953"
             ],
             [
              0.7777777777777778,
              "#fb9f3a"
             ],
             [
              0.8888888888888888,
              "#fdca26"
             ],
             [
              1,
              "#f0f921"
             ]
            ],
            "type": "heatmap"
           }
          ],
          "heatmapgl": [
           {
            "colorbar": {
             "outlinewidth": 0,
             "ticks": ""
            },
            "colorscale": [
             [
              0,
              "#0d0887"
             ],
             [
              0.1111111111111111,
              "#46039f"
             ],
             [
              0.2222222222222222,
              "#7201a8"
             ],
             [
              0.3333333333333333,
              "#9c179e"
             ],
             [
              0.4444444444444444,
              "#bd3786"
             ],
             [
              0.5555555555555556,
              "#d8576b"
             ],
             [
              0.6666666666666666,
              "#ed7953"
             ],
             [
              0.7777777777777778,
              "#fb9f3a"
             ],
             [
              0.8888888888888888,
              "#fdca26"
             ],
             [
              1,
              "#f0f921"
             ]
            ],
            "type": "heatmapgl"
           }
          ],
          "histogram": [
           {
            "marker": {
             "pattern": {
              "fillmode": "overlay",
              "size": 10,
              "solidity": 0.2
             }
            },
            "type": "histogram"
           }
          ],
          "histogram2d": [
           {
            "colorbar": {
             "outlinewidth": 0,
             "ticks": ""
            },
            "colorscale": [
             [
              0,
              "#0d0887"
             ],
             [
              0.1111111111111111,
              "#46039f"
             ],
             [
              0.2222222222222222,
              "#7201a8"
             ],
             [
              0.3333333333333333,
              "#9c179e"
             ],
             [
              0.4444444444444444,
              "#bd3786"
             ],
             [
              0.5555555555555556,
              "#d8576b"
             ],
             [
              0.6666666666666666,
              "#ed7953"
             ],
             [
              0.7777777777777778,
              "#fb9f3a"
             ],
             [
              0.8888888888888888,
              "#fdca26"
             ],
             [
              1,
              "#f0f921"
             ]
            ],
            "type": "histogram2d"
           }
          ],
          "histogram2dcontour": [
           {
            "colorbar": {
             "outlinewidth": 0,
             "ticks": ""
            },
            "colorscale": [
             [
              0,
              "#0d0887"
             ],
             [
              0.1111111111111111,
              "#46039f"
             ],
             [
              0.2222222222222222,
              "#7201a8"
             ],
             [
              0.3333333333333333,
              "#9c179e"
             ],
             [
              0.4444444444444444,
              "#bd3786"
             ],
             [
              0.5555555555555556,
              "#d8576b"
             ],
             [
              0.6666666666666666,
              "#ed7953"
             ],
             [
              0.7777777777777778,
              "#fb9f3a"
             ],
             [
              0.8888888888888888,
              "#fdca26"
             ],
             [
              1,
              "#f0f921"
             ]
            ],
            "type": "histogram2dcontour"
           }
          ],
          "mesh3d": [
           {
            "colorbar": {
             "outlinewidth": 0,
             "ticks": ""
            },
            "type": "mesh3d"
           }
          ],
          "parcoords": [
           {
            "line": {
             "colorbar": {
              "outlinewidth": 0,
              "ticks": ""
             }
            },
            "type": "parcoords"
           }
          ],
          "pie": [
           {
            "automargin": true,
            "type": "pie"
           }
          ],
          "scatter": [
           {
            "fillpattern": {
             "fillmode": "overlay",
             "size": 10,
             "solidity": 0.2
            },
            "type": "scatter"
           }
          ],
          "scatter3d": [
           {
            "line": {
             "colorbar": {
              "outlinewidth": 0,
              "ticks": ""
             }
            },
            "marker": {
             "colorbar": {
              "outlinewidth": 0,
              "ticks": ""
             }
            },
            "type": "scatter3d"
           }
          ],
          "scattercarpet": [
           {
            "marker": {
             "colorbar": {
              "outlinewidth": 0,
              "ticks": ""
             }
            },
            "type": "scattercarpet"
           }
          ],
          "scattergeo": [
           {
            "marker": {
             "colorbar": {
              "outlinewidth": 0,
              "ticks": ""
             }
            },
            "type": "scattergeo"
           }
          ],
          "scattergl": [
           {
            "marker": {
             "colorbar": {
              "outlinewidth": 0,
              "ticks": ""
             }
            },
            "type": "scattergl"
           }
          ],
          "scattermapbox": [
           {
            "marker": {
             "colorbar": {
              "outlinewidth": 0,
              "ticks": ""
             }
            },
            "type": "scattermapbox"
           }
          ],
          "scatterpolar": [
           {
            "marker": {
             "colorbar": {
              "outlinewidth": 0,
              "ticks": ""
             }
            },
            "type": "scatterpolar"
           }
          ],
          "scatterpolargl": [
           {
            "marker": {
             "colorbar": {
              "outlinewidth": 0,
              "ticks": ""
             }
            },
            "type": "scatterpolargl"
           }
          ],
          "scatterternary": [
           {
            "marker": {
             "colorbar": {
              "outlinewidth": 0,
              "ticks": ""
             }
            },
            "type": "scatterternary"
           }
          ],
          "surface": [
           {
            "colorbar": {
             "outlinewidth": 0,
             "ticks": ""
            },
            "colorscale": [
             [
              0,
              "#0d0887"
             ],
             [
              0.1111111111111111,
              "#46039f"
             ],
             [
              0.2222222222222222,
              "#7201a8"
             ],
             [
              0.3333333333333333,
              "#9c179e"
             ],
             [
              0.4444444444444444,
              "#bd3786"
             ],
             [
              0.5555555555555556,
              "#d8576b"
             ],
             [
              0.6666666666666666,
              "#ed7953"
             ],
             [
              0.7777777777777778,
              "#fb9f3a"
             ],
             [
              0.8888888888888888,
              "#fdca26"
             ],
             [
              1,
              "#f0f921"
             ]
            ],
            "type": "surface"
           }
          ],
          "table": [
           {
            "cells": {
             "fill": {
              "color": "#EBF0F8"
             },
             "line": {
              "color": "white"
             }
            },
            "header": {
             "fill": {
              "color": "#C8D4E3"
             },
             "line": {
              "color": "white"
             }
            },
            "type": "table"
           }
          ]
         },
         "layout": {
          "annotationdefaults": {
           "arrowcolor": "#2a3f5f",
           "arrowhead": 0,
           "arrowwidth": 1
          },
          "autotypenumbers": "strict",
          "coloraxis": {
           "colorbar": {
            "outlinewidth": 0,
            "ticks": ""
           }
          },
          "colorscale": {
           "diverging": [
            [
             0,
             "#8e0152"
            ],
            [
             0.1,
             "#c51b7d"
            ],
            [
             0.2,
             "#de77ae"
            ],
            [
             0.3,
             "#f1b6da"
            ],
            [
             0.4,
             "#fde0ef"
            ],
            [
             0.5,
             "#f7f7f7"
            ],
            [
             0.6,
             "#e6f5d0"
            ],
            [
             0.7,
             "#b8e186"
            ],
            [
             0.8,
             "#7fbc41"
            ],
            [
             0.9,
             "#4d9221"
            ],
            [
             1,
             "#276419"
            ]
           ],
           "sequential": [
            [
             0,
             "#0d0887"
            ],
            [
             0.1111111111111111,
             "#46039f"
            ],
            [
             0.2222222222222222,
             "#7201a8"
            ],
            [
             0.3333333333333333,
             "#9c179e"
            ],
            [
             0.4444444444444444,
             "#bd3786"
            ],
            [
             0.5555555555555556,
             "#d8576b"
            ],
            [
             0.6666666666666666,
             "#ed7953"
            ],
            [
             0.7777777777777778,
             "#fb9f3a"
            ],
            [
             0.8888888888888888,
             "#fdca26"
            ],
            [
             1,
             "#f0f921"
            ]
           ],
           "sequentialminus": [
            [
             0,
             "#0d0887"
            ],
            [
             0.1111111111111111,
             "#46039f"
            ],
            [
             0.2222222222222222,
             "#7201a8"
            ],
            [
             0.3333333333333333,
             "#9c179e"
            ],
            [
             0.4444444444444444,
             "#bd3786"
            ],
            [
             0.5555555555555556,
             "#d8576b"
            ],
            [
             0.6666666666666666,
             "#ed7953"
            ],
            [
             0.7777777777777778,
             "#fb9f3a"
            ],
            [
             0.8888888888888888,
             "#fdca26"
            ],
            [
             1,
             "#f0f921"
            ]
           ]
          },
          "colorway": [
           "#636efa",
           "#EF553B",
           "#00cc96",
           "#ab63fa",
           "#FFA15A",
           "#19d3f3",
           "#FF6692",
           "#B6E880",
           "#FF97FF",
           "#FECB52"
          ],
          "font": {
           "color": "#2a3f5f"
          },
          "geo": {
           "bgcolor": "white",
           "lakecolor": "white",
           "landcolor": "white",
           "showlakes": true,
           "showland": true,
           "subunitcolor": "#C8D4E3"
          },
          "hoverlabel": {
           "align": "left"
          },
          "hovermode": "closest",
          "mapbox": {
           "style": "light"
          },
          "paper_bgcolor": "white",
          "plot_bgcolor": "white",
          "polar": {
           "angularaxis": {
            "gridcolor": "#EBF0F8",
            "linecolor": "#EBF0F8",
            "ticks": ""
           },
           "bgcolor": "white",
           "radialaxis": {
            "gridcolor": "#EBF0F8",
            "linecolor": "#EBF0F8",
            "ticks": ""
           }
          },
          "scene": {
           "xaxis": {
            "backgroundcolor": "white",
            "gridcolor": "#DFE8F3",
            "gridwidth": 2,
            "linecolor": "#EBF0F8",
            "showbackground": true,
            "ticks": "",
            "zerolinecolor": "#EBF0F8"
           },
           "yaxis": {
            "backgroundcolor": "white",
            "gridcolor": "#DFE8F3",
            "gridwidth": 2,
            "linecolor": "#EBF0F8",
            "showbackground": true,
            "ticks": "",
            "zerolinecolor": "#EBF0F8"
           },
           "zaxis": {
            "backgroundcolor": "white",
            "gridcolor": "#DFE8F3",
            "gridwidth": 2,
            "linecolor": "#EBF0F8",
            "showbackground": true,
            "ticks": "",
            "zerolinecolor": "#EBF0F8"
           }
          },
          "shapedefaults": {
           "line": {
            "color": "#2a3f5f"
           }
          },
          "ternary": {
           "aaxis": {
            "gridcolor": "#DFE8F3",
            "linecolor": "#A2B1C6",
            "ticks": ""
           },
           "baxis": {
            "gridcolor": "#DFE8F3",
            "linecolor": "#A2B1C6",
            "ticks": ""
           },
           "bgcolor": "white",
           "caxis": {
            "gridcolor": "#DFE8F3",
            "linecolor": "#A2B1C6",
            "ticks": ""
           }
          },
          "title": {
           "x": 0.05
          },
          "xaxis": {
           "automargin": true,
           "gridcolor": "#EBF0F8",
           "linecolor": "#EBF0F8",
           "ticks": "",
           "title": {
            "standoff": 15
           },
           "zerolinecolor": "#EBF0F8",
           "zerolinewidth": 2
          },
          "yaxis": {
           "automargin": true,
           "gridcolor": "#EBF0F8",
           "linecolor": "#EBF0F8",
           "ticks": "",
           "title": {
            "standoff": 15
           },
           "zerolinecolor": "#EBF0F8",
           "zerolinewidth": 2
          }
         }
        },
        "title": {
         "font": {
          "size": 20
         },
         "text": "Cohort 1 Student 5 (K-Means) Rankings per Condition with Perfect Ranking Reference"
        },
        "width": 1000,
        "xaxis": {
         "anchor": "y",
         "domain": [
          0,
          1
         ],
         "title": {
          "text": "Conditions (Low to High Quality)"
         }
        },
        "yaxis": {
         "anchor": "x",
         "autorange": "reversed",
         "domain": [
          0,
          1
         ],
         "title": {
          "text": "Ranking (Lower is Better)"
         }
        }
       }
      }
     },
     "metadata": {},
     "output_type": "display_data"
    }
   ],
   "source": [
    "# Spaghetti plot for BSU2_1 rankings\n",
    "\n",
    "reversed_BSU1_5_rankings = BSU1_5_rankings_kmeans_based[:, ::-1]\n",
    "\n",
    "# Reshape rankings data for Plotly\n",
    "BSU1_5_rankings_df = pd.DataFrame(reversed_BSU1_5_rankings, columns=conditions)\n",
    "\n",
    "BSU1_5_rankings_df['Sample'] = items\n",
    "\n",
    "# Melt dataframe for better visualization\n",
    "BSU1_5_rankings_df_melted = BSU1_5_rankings_df.melt(id_vars=['Sample'], var_name='Condition', value_name='Ranking')\n",
    "\n",
    "BSU1_5_rankings_df_melted = pd.concat([perfect_df, BSU1_5_rankings_df_melted])\n",
    "\n",
    "# Define custom colors\n",
    "color_map = {\n",
    "    \"Perfect Ranking\": \"black\"\n",
    "}\n",
    "\n",
    "# Assign green to easy items\n",
    "for item in easy_easiest_trials_competition_kmeans:\n",
    "    color_map[item] = \"green\"\n",
    "\n",
    "# Assign red to hard items\n",
    "for item in hard_hardest_trials_competition_kmeans:\n",
    "    color_map[item] = \"red\"\n",
    "\n",
    "# Assign light grey to all other samples\n",
    "all_samples = BSU1_5_rankings_df_melted['Sample'].unique()\n",
    "for item in all_samples:\n",
    "    if item not in color_map:\n",
    "        color_map[item] = \"lightgrey\"\n",
    "\n",
    "# Create the line plot with custom colors\n",
    "fig = px.line(BSU1_5_rankings_df_melted, x='Condition', y='Ranking', color='Sample', markers=True,\n",
    "              title=\"Cohort 1 Student 5 (K-Means) Rankings per Condition with Perfect Ranking Reference\",\n",
    "              labels={\"Ranking\": \"Ranking\", \"Condition\": \"Conditions (Low to High Quality)\"},\n",
    "              color_discrete_map=color_map,\n",
    "              template=\"plotly_white\")\n",
    "\n",
    "# Adjust figure dimensions\n",
    "fig.update_layout(width=1000, height=800)\n",
    "\n",
    "fig.update_layout(\n",
    "    title=dict(\n",
    "        text=\"Cohort 1 Student 5 (K-Means) Rankings per Condition with Perfect Ranking Reference\",\n",
    "        font=dict(size=20)  # Increase this value for a larger title\n",
    "    )\n",
    ")\n",
    "\n",
    "\n",
    "# Invert y-axis (lower ranks at top)\n",
    "fig.update_yaxes(autorange=\"reversed\")\n",
    "\n",
    "# Modify the \"Perfect Ranking\" line to be more visible\n",
    "fig.update_traces(\n",
    "    selector=dict(name=\"Perfect Ranking\"),\n",
    "    line=dict(width=10, color='black'),\n",
    "    marker=dict(size=14, color='black')\n",
    ")\n",
    "\n",
    "# Update all traces except \"Perfect Ranking\" to be slightly transparent\n",
    "fig.for_each_trace(\n",
    "    lambda trace: trace.update(line=dict(color='rgba(211,211,211,0.4)')) \n",
    "    if trace.name != \"Perfect Ranking\" and color_map.get(trace.name) == \"lightgrey\" else None\n",
    ")\n",
    "\n",
    "# Optional: update easy and hard items to semi-transparent green and red\n",
    "fig.for_each_trace(\n",
    "    lambda trace: trace.update(line=dict(color='rgba(0,128,0,0.5)'))  # green with opacity\n",
    "    if color_map.get(trace.name) == \"green\" else None\n",
    ")\n",
    "fig.for_each_trace(\n",
    "    lambda trace: trace.update(line=dict(color='rgba(255,0,0,0.5)'))  # red with opacity\n",
    "    if color_map.get(trace.name) == \"red\" else None\n",
    ")\n",
    "\n",
    "fig.show()"
   ]
  },
  {
   "cell_type": "code",
   "execution_count": null,
   "id": "16886295",
   "metadata": {},
   "outputs": [
    {
     "data": {
      "application/vnd.plotly.v1+json": {
       "config": {
        "plotlyServerURL": "https://plot.ly"
       },
       "data": [
        {
         "hovertemplate": "Sample=Perfect Ranking<br>Conditions (Low to High Quality)=%{x}<br>Ranking (Lower is Better)=%{y}<extra></extra>",
         "legendgroup": "Perfect Ranking",
         "line": {
          "color": "black",
          "dash": "solid",
          "width": 10
         },
         "marker": {
          "color": "black",
          "size": 14,
          "symbol": "circle"
         },
         "mode": "lines+markers",
         "name": "Perfect Ranking",
         "orientation": "v",
         "showlegend": true,
         "type": "scatter",
         "x": [
          "LP3.5",
          "LP7",
          "Q1",
          "Q2",
          "Q3",
          "Q4",
          "Q5",
          "Ref"
         ],
         "xaxis": "x",
         "y": [
          8,
          7,
          6,
          5,
          4,
          3,
          2,
          1
         ],
         "yaxis": "y"
        },
        {
         "hovertemplate": "Sample=LP_11_guitar<br>Conditions (Low to High Quality)=%{x}<br>Ranking (Lower is Better)=%{y}<extra></extra>",
         "legendgroup": "LP_11_guitar",
         "line": {
          "color": "rgba(211,211,211,0.4)",
          "dash": "solid"
         },
         "marker": {
          "symbol": "circle"
         },
         "mode": "lines+markers",
         "name": "LP_11_guitar",
         "orientation": "v",
         "showlegend": true,
         "type": "scatter",
         "x": [
          "LP3.5",
          "LP7",
          "Q1",
          "Q2",
          "Q3",
          "Q4",
          "Q5",
          "Ref"
         ],
         "xaxis": "x",
         "y": [
          8,
          6,
          7,
          5,
          2,
          1,
          6,
          3
         ],
         "yaxis": "y"
        },
        {
         "hovertemplate": "Sample=LP_23_jazz<br>Conditions (Low to High Quality)=%{x}<br>Ranking (Lower is Better)=%{y}<extra></extra>",
         "legendgroup": "LP_23_jazz",
         "line": {
          "color": "rgba(0,128,0,0.5)",
          "dash": "solid"
         },
         "marker": {
          "symbol": "circle"
         },
         "mode": "lines+markers",
         "name": "LP_23_jazz",
         "orientation": "v",
         "showlegend": true,
         "type": "scatter",
         "x": [
          "LP3.5",
          "LP7",
          "Q1",
          "Q2",
          "Q3",
          "Q4",
          "Q5",
          "Ref"
         ],
         "xaxis": "x",
         "y": [
          8,
          8,
          8,
          6,
          5,
          2,
          6,
          3
         ],
         "yaxis": "y"
        },
        {
         "hovertemplate": "Sample=LP_AmateurOnPurpose<br>Conditions (Low to High Quality)=%{x}<br>Ranking (Lower is Better)=%{y}<extra></extra>",
         "legendgroup": "LP_AmateurOnPurpose",
         "line": {
          "color": "rgba(0,128,0,0.5)",
          "dash": "solid"
         },
         "marker": {
          "symbol": "circle"
         },
         "mode": "lines+markers",
         "name": "LP_AmateurOnPurpose",
         "orientation": "v",
         "showlegend": true,
         "type": "scatter",
         "x": [
          "LP3.5",
          "LP7",
          "Q1",
          "Q2",
          "Q3",
          "Q4",
          "Q5",
          "Ref"
         ],
         "xaxis": "x",
         "y": [
          8,
          5,
          8,
          5,
          4,
          3,
          6,
          3
         ],
         "yaxis": "y"
        },
        {
         "hovertemplate": "Sample=LP_CreatureFromTheBlackjackTable<br>Conditions (Low to High Quality)=%{x}<br>Ranking (Lower is Better)=%{y}<extra></extra>",
         "legendgroup": "LP_CreatureFromTheBlackjackTable",
         "line": {
          "color": "rgba(211,211,211,0.4)",
          "dash": "solid"
         },
         "marker": {
          "symbol": "circle"
         },
         "mode": "lines+markers",
         "name": "LP_CreatureFromTheBlackjackTable",
         "orientation": "v",
         "showlegend": true,
         "type": "scatter",
         "x": [
          "LP3.5",
          "LP7",
          "Q1",
          "Q2",
          "Q3",
          "Q4",
          "Q5",
          "Ref"
         ],
         "xaxis": "x",
         "y": [
          8,
          8,
          6,
          5,
          8,
          4,
          5,
          3
         ],
         "yaxis": "y"
        },
        {
         "hovertemplate": "Sample=TM_01b_trumpet<br>Conditions (Low to High Quality)=%{x}<br>Ranking (Lower is Better)=%{y}<extra></extra>",
         "legendgroup": "TM_01b_trumpet",
         "line": {
          "color": "rgba(0,128,0,0.5)",
          "dash": "solid"
         },
         "marker": {
          "symbol": "circle"
         },
         "mode": "lines+markers",
         "name": "TM_01b_trumpet",
         "orientation": "v",
         "showlegend": true,
         "type": "scatter",
         "x": [
          "LP3.5",
          "LP7",
          "Q1",
          "Q2",
          "Q3",
          "Q4",
          "Q5",
          "Ref"
         ],
         "xaxis": "x",
         "y": [
          8,
          5,
          7,
          5,
          4,
          3,
          6,
          5
         ],
         "yaxis": "y"
        },
        {
         "hovertemplate": "Sample=TM_02_violin<br>Conditions (Low to High Quality)=%{x}<br>Ranking (Lower is Better)=%{y}<extra></extra>",
         "legendgroup": "TM_02_violin",
         "line": {
          "color": "rgba(211,211,211,0.4)",
          "dash": "solid"
         },
         "marker": {
          "symbol": "circle"
         },
         "mode": "lines+markers",
         "name": "TM_02_violin",
         "orientation": "v",
         "showlegend": true,
         "type": "scatter",
         "x": [
          "LP3.5",
          "LP7",
          "Q1",
          "Q2",
          "Q3",
          "Q4",
          "Q5",
          "Ref"
         ],
         "xaxis": "x",
         "y": [
          8,
          6,
          2,
          3,
          3,
          1,
          7,
          2
         ],
         "yaxis": "y"
        },
        {
         "hovertemplate": "Sample=TM_AmateurOnPurpose<br>Conditions (Low to High Quality)=%{x}<br>Ranking (Lower is Better)=%{y}<extra></extra>",
         "legendgroup": "TM_AmateurOnPurpose",
         "line": {
          "color": "rgba(211,211,211,0.4)",
          "dash": "solid"
         },
         "marker": {
          "symbol": "circle"
         },
         "mode": "lines+markers",
         "name": "TM_AmateurOnPurpose",
         "orientation": "v",
         "showlegend": true,
         "type": "scatter",
         "x": [
          "LP3.5",
          "LP7",
          "Q1",
          "Q2",
          "Q3",
          "Q4",
          "Q5",
          "Ref"
         ],
         "xaxis": "x",
         "y": [
          8,
          7,
          8,
          5,
          5,
          4,
          5,
          4
         ],
         "yaxis": "y"
        },
        {
         "hovertemplate": "Sample=TM_CreatureFromTheBlackjackTable<br>Conditions (Low to High Quality)=%{x}<br>Ranking (Lower is Better)=%{y}<extra></extra>",
         "legendgroup": "TM_CreatureFromTheBlackjackTable",
         "line": {
          "color": "rgba(211,211,211,0.4)",
          "dash": "solid"
         },
         "marker": {
          "symbol": "circle"
         },
         "mode": "lines+markers",
         "name": "TM_CreatureFromTheBlackjackTable",
         "orientation": "v",
         "showlegend": true,
         "type": "scatter",
         "x": [
          "LP3.5",
          "LP7",
          "Q1",
          "Q2",
          "Q3",
          "Q4",
          "Q5",
          "Ref"
         ],
         "xaxis": "x",
         "y": [
          8,
          5,
          4,
          4,
          5,
          1,
          6,
          3
         ],
         "yaxis": "y"
        },
        {
         "hovertemplate": "Sample=UN_20c_accordion<br>Conditions (Low to High Quality)=%{x}<br>Ranking (Lower is Better)=%{y}<extra></extra>",
         "legendgroup": "UN_20c_accordion",
         "line": {
          "color": "rgba(211,211,211,0.4)",
          "dash": "solid"
         },
         "marker": {
          "symbol": "circle"
         },
         "mode": "lines+markers",
         "name": "UN_20c_accordion",
         "orientation": "v",
         "showlegend": true,
         "type": "scatter",
         "x": [
          "LP3.5",
          "LP7",
          "Q1",
          "Q2",
          "Q3",
          "Q4",
          "Q5",
          "Ref"
         ],
         "xaxis": "x",
         "y": [
          8,
          8,
          5,
          8,
          8,
          2,
          4,
          5
         ],
         "yaxis": "y"
        },
        {
         "hovertemplate": "Sample=UN_21_violin<br>Conditions (Low to High Quality)=%{x}<br>Ranking (Lower is Better)=%{y}<extra></extra>",
         "legendgroup": "UN_21_violin",
         "line": {
          "color": "rgba(211,211,211,0.4)",
          "dash": "solid"
         },
         "marker": {
          "symbol": "circle"
         },
         "mode": "lines+markers",
         "name": "UN_21_violin",
         "orientation": "v",
         "showlegend": true,
         "type": "scatter",
         "x": [
          "LP3.5",
          "LP7",
          "Q1",
          "Q2",
          "Q3",
          "Q4",
          "Q5",
          "Ref"
         ],
         "xaxis": "x",
         "y": [
          8,
          5,
          4,
          4,
          3,
          2,
          7,
          5
         ],
         "yaxis": "y"
        },
        {
         "hovertemplate": "Sample=UN_AmateurOnPurpose<br>Conditions (Low to High Quality)=%{x}<br>Ranking (Lower is Better)=%{y}<extra></extra>",
         "legendgroup": "UN_AmateurOnPurpose",
         "line": {
          "color": "rgba(0,128,0,0.5)",
          "dash": "solid"
         },
         "marker": {
          "symbol": "circle"
         },
         "mode": "lines+markers",
         "name": "UN_AmateurOnPurpose",
         "orientation": "v",
         "showlegend": true,
         "type": "scatter",
         "x": [
          "LP3.5",
          "LP7",
          "Q1",
          "Q2",
          "Q3",
          "Q4",
          "Q5",
          "Ref"
         ],
         "xaxis": "x",
         "y": [
          8,
          8,
          8,
          8,
          8,
          5,
          7,
          2
         ],
         "yaxis": "y"
        },
        {
         "hovertemplate": "Sample=UN_CreatureFromTheBlackjackTable<br>Conditions (Low to High Quality)=%{x}<br>Ranking (Lower is Better)=%{y}<extra></extra>",
         "legendgroup": "UN_CreatureFromTheBlackjackTable",
         "line": {
          "color": "rgba(0,128,0,0.5)",
          "dash": "solid"
         },
         "marker": {
          "symbol": "circle"
         },
         "mode": "lines+markers",
         "name": "UN_CreatureFromTheBlackjackTable",
         "orientation": "v",
         "showlegend": true,
         "type": "scatter",
         "x": [
          "LP3.5",
          "LP7",
          "Q1",
          "Q2",
          "Q3",
          "Q4",
          "Q5",
          "Ref"
         ],
         "xaxis": "x",
         "y": [
          8,
          8,
          8,
          8,
          8,
          5,
          8,
          3
         ],
         "yaxis": "y"
        },
        {
         "hovertemplate": "Sample=SH_04_choral<br>Conditions (Low to High Quality)=%{x}<br>Ranking (Lower is Better)=%{y}<extra></extra>",
         "legendgroup": "SH_04_choral",
         "line": {
          "color": "rgba(211,211,211,0.4)",
          "dash": "solid"
         },
         "marker": {
          "symbol": "circle"
         },
         "mode": "lines+markers",
         "name": "SH_04_choral",
         "orientation": "v",
         "showlegend": true,
         "type": "scatter",
         "x": [
          "LP3.5",
          "LP7",
          "Q1",
          "Q2",
          "Q3",
          "Q4",
          "Q5",
          "Ref"
         ],
         "xaxis": "x",
         "y": [
          8,
          8,
          8,
          8,
          6,
          3,
          5,
          2
         ],
         "yaxis": "y"
        },
        {
         "hovertemplate": "Sample=SH_13_glockenspiel<br>Conditions (Low to High Quality)=%{x}<br>Ranking (Lower is Better)=%{y}<extra></extra>",
         "legendgroup": "SH_13_glockenspiel",
         "line": {
          "color": "rgba(211,211,211,0.4)",
          "dash": "solid"
         },
         "marker": {
          "symbol": "circle"
         },
         "mode": "lines+markers",
         "name": "SH_13_glockenspiel",
         "orientation": "v",
         "showlegend": true,
         "type": "scatter",
         "x": [
          "LP3.5",
          "LP7",
          "Q1",
          "Q2",
          "Q3",
          "Q4",
          "Q5",
          "Ref"
         ],
         "xaxis": "x",
         "y": [
          8,
          8,
          8,
          8,
          8,
          3,
          5,
          2
         ],
         "yaxis": "y"
        },
        {
         "hovertemplate": "Sample=SH_AmateurOnPurpose<br>Conditions (Low to High Quality)=%{x}<br>Ranking (Lower is Better)=%{y}<extra></extra>",
         "legendgroup": "SH_AmateurOnPurpose",
         "line": {
          "color": "rgba(255,0,0,0.5)",
          "dash": "solid"
         },
         "marker": {
          "symbol": "circle"
         },
         "mode": "lines+markers",
         "name": "SH_AmateurOnPurpose",
         "orientation": "v",
         "showlegend": true,
         "type": "scatter",
         "x": [
          "LP3.5",
          "LP7",
          "Q1",
          "Q2",
          "Q3",
          "Q4",
          "Q5",
          "Ref"
         ],
         "xaxis": "x",
         "y": [
          8,
          5,
          5,
          5,
          4,
          2,
          5,
          2
         ],
         "yaxis": "y"
        },
        {
         "hovertemplate": "Sample=SH_CreatureFromTheBlackjackTable<br>Conditions (Low to High Quality)=%{x}<br>Ranking (Lower is Better)=%{y}<extra></extra>",
         "legendgroup": "SH_CreatureFromTheBlackjackTable",
         "line": {
          "color": "rgba(255,0,0,0.5)",
          "dash": "solid"
         },
         "marker": {
          "symbol": "circle"
         },
         "mode": "lines+markers",
         "name": "SH_CreatureFromTheBlackjackTable",
         "orientation": "v",
         "showlegend": true,
         "type": "scatter",
         "x": [
          "LP3.5",
          "LP7",
          "Q1",
          "Q2",
          "Q3",
          "Q4",
          "Q5",
          "Ref"
         ],
         "xaxis": "x",
         "y": [
          8,
          4,
          2,
          1,
          1,
          1,
          6,
          3
         ],
         "yaxis": "y"
        },
        {
         "hovertemplate": "Sample=PE_27_castanets<br>Conditions (Low to High Quality)=%{x}<br>Ranking (Lower is Better)=%{y}<extra></extra>",
         "legendgroup": "PE_27_castanets",
         "line": {
          "color": "rgba(255,0,0,0.5)",
          "dash": "solid"
         },
         "marker": {
          "symbol": "circle"
         },
         "mode": "lines+markers",
         "name": "PE_27_castanets",
         "orientation": "v",
         "showlegend": true,
         "type": "scatter",
         "x": [
          "LP3.5",
          "LP7",
          "Q1",
          "Q2",
          "Q3",
          "Q4",
          "Q5",
          "Ref"
         ],
         "xaxis": "x",
         "y": [
          8,
          8,
          8,
          7,
          7,
          7,
          6,
          3
         ],
         "yaxis": "y"
        },
        {
         "hovertemplate": "Sample=PE_39_clapping<br>Conditions (Low to High Quality)=%{x}<br>Ranking (Lower is Better)=%{y}<extra></extra>",
         "legendgroup": "PE_39_clapping",
         "line": {
          "color": "rgba(211,211,211,0.4)",
          "dash": "solid"
         },
         "marker": {
          "symbol": "circle"
         },
         "mode": "lines+markers",
         "name": "PE_39_clapping",
         "orientation": "v",
         "showlegend": true,
         "type": "scatter",
         "x": [
          "LP3.5",
          "LP7",
          "Q1",
          "Q2",
          "Q3",
          "Q4",
          "Q5",
          "Ref"
         ],
         "xaxis": "x",
         "y": [
          8,
          8,
          8,
          8,
          8,
          6,
          5,
          3
         ],
         "yaxis": "y"
        },
        {
         "hovertemplate": "Sample=PE_AmateurOnPurpose<br>Conditions (Low to High Quality)=%{x}<br>Ranking (Lower is Better)=%{y}<extra></extra>",
         "legendgroup": "PE_AmateurOnPurpose",
         "line": {
          "color": "rgba(211,211,211,0.4)",
          "dash": "solid"
         },
         "marker": {
          "symbol": "circle"
         },
         "mode": "lines+markers",
         "name": "PE_AmateurOnPurpose",
         "orientation": "v",
         "showlegend": true,
         "type": "scatter",
         "x": [
          "LP3.5",
          "LP7",
          "Q1",
          "Q2",
          "Q3",
          "Q4",
          "Q5",
          "Ref"
         ],
         "xaxis": "x",
         "y": [
          8,
          5,
          5,
          4,
          4,
          2,
          5,
          3
         ],
         "yaxis": "y"
        },
        {
         "hovertemplate": "Sample=PE_CreatureFromTheBlackjackTable<br>Conditions (Low to High Quality)=%{x}<br>Ranking (Lower is Better)=%{y}<extra></extra>",
         "legendgroup": "PE_CreatureFromTheBlackjackTable",
         "line": {
          "color": "rgba(211,211,211,0.4)",
          "dash": "solid"
         },
         "marker": {
          "symbol": "circle"
         },
         "mode": "lines+markers",
         "name": "PE_CreatureFromTheBlackjackTable",
         "orientation": "v",
         "showlegend": true,
         "type": "scatter",
         "x": [
          "LP3.5",
          "LP7",
          "Q1",
          "Q2",
          "Q3",
          "Q4",
          "Q5",
          "Ref"
         ],
         "xaxis": "x",
         "y": [
          8,
          7,
          5,
          5,
          5,
          1,
          7,
          2
         ],
         "yaxis": "y"
        },
        {
         "hovertemplate": "Sample=DE_CosmosLandromat_remix1_LD6<br>Conditions (Low to High Quality)=%{x}<br>Ranking (Lower is Better)=%{y}<extra></extra>",
         "legendgroup": "DE_CosmosLandromat_remix1_LD6",
         "line": {
          "color": "rgba(211,211,211,0.4)",
          "dash": "solid"
         },
         "marker": {
          "symbol": "circle"
         },
         "mode": "lines+markers",
         "name": "DE_CosmosLandromat_remix1_LD6",
         "orientation": "v",
         "showlegend": true,
         "type": "scatter",
         "x": [
          "LP3.5",
          "LP7",
          "Q1",
          "Q2",
          "Q3",
          "Q4",
          "Q5",
          "Ref"
         ],
         "xaxis": "x",
         "y": [
          8,
          5,
          4,
          5,
          2,
          1,
          4,
          3
         ],
         "yaxis": "y"
        },
        {
         "hovertemplate": "Sample=DE_CosmosLandromat_remix3_LD3<br>Conditions (Low to High Quality)=%{x}<br>Ranking (Lower is Better)=%{y}<extra></extra>",
         "legendgroup": "DE_CosmosLandromat_remix3_LD3",
         "line": {
          "color": "rgba(211,211,211,0.4)",
          "dash": "solid"
         },
         "marker": {
          "symbol": "circle"
         },
         "mode": "lines+markers",
         "name": "DE_CosmosLandromat_remix3_LD3",
         "orientation": "v",
         "showlegend": true,
         "type": "scatter",
         "x": [
          "LP3.5",
          "LP7",
          "Q1",
          "Q2",
          "Q3",
          "Q4",
          "Q5",
          "Ref"
         ],
         "xaxis": "x",
         "y": [
          8,
          7,
          3,
          3,
          3,
          2,
          6,
          2
         ],
         "yaxis": "y"
        },
        {
         "hovertemplate": "Sample=DE_ElephantsDream_LD0<br>Conditions (Low to High Quality)=%{x}<br>Ranking (Lower is Better)=%{y}<extra></extra>",
         "legendgroup": "DE_ElephantsDream_LD0",
         "line": {
          "color": "rgba(0,128,0,0.5)",
          "dash": "solid"
         },
         "marker": {
          "symbol": "circle"
         },
         "mode": "lines+markers",
         "name": "DE_ElephantsDream_LD0",
         "orientation": "v",
         "showlegend": true,
         "type": "scatter",
         "x": [
          "LP3.5",
          "LP7",
          "Q1",
          "Q2",
          "Q3",
          "Q4",
          "Q5",
          "Ref"
         ],
         "xaxis": "x",
         "y": [
          8,
          8,
          8,
          7,
          5,
          2,
          6,
          4
         ],
         "yaxis": "y"
        },
        {
         "hovertemplate": "Sample=DE_female_speech_music_1_LD0<br>Conditions (Low to High Quality)=%{x}<br>Ranking (Lower is Better)=%{y}<extra></extra>",
         "legendgroup": "DE_female_speech_music_1_LD0",
         "line": {
          "color": "rgba(211,211,211,0.4)",
          "dash": "solid"
         },
         "marker": {
          "symbol": "circle"
         },
         "mode": "lines+markers",
         "name": "DE_female_speech_music_1_LD0",
         "orientation": "v",
         "showlegend": true,
         "type": "scatter",
         "x": [
          "LP3.5",
          "LP7",
          "Q1",
          "Q2",
          "Q3",
          "Q4",
          "Q5",
          "Ref"
         ],
         "xaxis": "x",
         "y": [
          8,
          8,
          8,
          8,
          5,
          4,
          6,
          4
         ],
         "yaxis": "y"
        },
        {
         "hovertemplate": "Sample=DE_female_speech_music_2_LD9<br>Conditions (Low to High Quality)=%{x}<br>Ranking (Lower is Better)=%{y}<extra></extra>",
         "legendgroup": "DE_female_speech_music_2_LD9",
         "line": {
          "color": "rgba(0,128,0,0.5)",
          "dash": "solid"
         },
         "marker": {
          "symbol": "circle"
         },
         "mode": "lines+markers",
         "name": "DE_female_speech_music_2_LD9",
         "orientation": "v",
         "showlegend": true,
         "type": "scatter",
         "x": [
          "LP3.5",
          "LP7",
          "Q1",
          "Q2",
          "Q3",
          "Q4",
          "Q5",
          "Ref"
         ],
         "xaxis": "x",
         "y": [
          8,
          8,
          8,
          8,
          1,
          1,
          6,
          3
         ],
         "yaxis": "y"
        },
        {
         "hovertemplate": "Sample=DE_female_speech_music_3_LD3<br>Conditions (Low to High Quality)=%{x}<br>Ranking (Lower is Better)=%{y}<extra></extra>",
         "legendgroup": "DE_female_speech_music_3_LD3",
         "line": {
          "color": "rgba(211,211,211,0.4)",
          "dash": "solid"
         },
         "marker": {
          "symbol": "circle"
         },
         "mode": "lines+markers",
         "name": "DE_female_speech_music_3_LD3",
         "orientation": "v",
         "showlegend": true,
         "type": "scatter",
         "x": [
          "LP3.5",
          "LP7",
          "Q1",
          "Q2",
          "Q3",
          "Q4",
          "Q5",
          "Ref"
         ],
         "xaxis": "x",
         "y": [
          8,
          8,
          8,
          7,
          2,
          2,
          6,
          2
         ],
         "yaxis": "y"
        },
        {
         "hovertemplate": "Sample=DE_Meridian_remix1_LD3<br>Conditions (Low to High Quality)=%{x}<br>Ranking (Lower is Better)=%{y}<extra></extra>",
         "legendgroup": "DE_Meridian_remix1_LD3",
         "line": {
          "color": "rgba(211,211,211,0.4)",
          "dash": "solid"
         },
         "marker": {
          "symbol": "circle"
         },
         "mode": "lines+markers",
         "name": "DE_Meridian_remix1_LD3",
         "orientation": "v",
         "showlegend": true,
         "type": "scatter",
         "x": [
          "LP3.5",
          "LP7",
          "Q1",
          "Q2",
          "Q3",
          "Q4",
          "Q5",
          "Ref"
         ],
         "xaxis": "x",
         "y": [
          8,
          8,
          8,
          4,
          3,
          1,
          6,
          5
         ],
         "yaxis": "y"
        },
        {
         "hovertemplate": "Sample=DE_Meridian_remix2_LD6<br>Conditions (Low to High Quality)=%{x}<br>Ranking (Lower is Better)=%{y}<extra></extra>",
         "legendgroup": "DE_Meridian_remix2_LD6",
         "line": {
          "color": "rgba(211,211,211,0.4)",
          "dash": "solid"
         },
         "marker": {
          "symbol": "circle"
         },
         "mode": "lines+markers",
         "name": "DE_Meridian_remix2_LD6",
         "orientation": "v",
         "showlegend": true,
         "type": "scatter",
         "x": [
          "LP3.5",
          "LP7",
          "Q1",
          "Q2",
          "Q3",
          "Q4",
          "Q5",
          "Ref"
         ],
         "xaxis": "x",
         "y": [
          8,
          8,
          8,
          2,
          1,
          1,
          6,
          3
         ],
         "yaxis": "y"
        },
        {
         "hovertemplate": "Sample=DE_SitaSings_remix1_LD0<br>Conditions (Low to High Quality)=%{x}<br>Ranking (Lower is Better)=%{y}<extra></extra>",
         "legendgroup": "DE_SitaSings_remix1_LD0",
         "line": {
          "color": "rgba(211,211,211,0.4)",
          "dash": "solid"
         },
         "marker": {
          "symbol": "circle"
         },
         "mode": "lines+markers",
         "name": "DE_SitaSings_remix1_LD0",
         "orientation": "v",
         "showlegend": true,
         "type": "scatter",
         "x": [
          "LP3.5",
          "LP7",
          "Q1",
          "Q2",
          "Q3",
          "Q4",
          "Q5",
          "Ref"
         ],
         "xaxis": "x",
         "y": [
          8,
          8,
          8,
          7,
          8,
          5,
          4,
          2
         ],
         "yaxis": "y"
        },
        {
         "hovertemplate": "Sample=DE_SitaSings_remix2_LD6<br>Conditions (Low to High Quality)=%{x}<br>Ranking (Lower is Better)=%{y}<extra></extra>",
         "legendgroup": "DE_SitaSings_remix2_LD6",
         "line": {
          "color": "rgba(255,0,0,0.5)",
          "dash": "solid"
         },
         "marker": {
          "symbol": "circle"
         },
         "mode": "lines+markers",
         "name": "DE_SitaSings_remix2_LD6",
         "orientation": "v",
         "showlegend": true,
         "type": "scatter",
         "x": [
          "LP3.5",
          "LP7",
          "Q1",
          "Q2",
          "Q3",
          "Q4",
          "Q5",
          "Ref"
         ],
         "xaxis": "x",
         "y": [
          8,
          8,
          8,
          8,
          8,
          5,
          6,
          3
         ],
         "yaxis": "y"
        }
       ],
       "layout": {
        "height": 800,
        "legend": {
         "title": {
          "text": "Sample"
         },
         "tracegroupgap": 0
        },
        "template": {
         "data": {
          "bar": [
           {
            "error_x": {
             "color": "#2a3f5f"
            },
            "error_y": {
             "color": "#2a3f5f"
            },
            "marker": {
             "line": {
              "color": "white",
              "width": 0.5
             },
             "pattern": {
              "fillmode": "overlay",
              "size": 10,
              "solidity": 0.2
             }
            },
            "type": "bar"
           }
          ],
          "barpolar": [
           {
            "marker": {
             "line": {
              "color": "white",
              "width": 0.5
             },
             "pattern": {
              "fillmode": "overlay",
              "size": 10,
              "solidity": 0.2
             }
            },
            "type": "barpolar"
           }
          ],
          "carpet": [
           {
            "aaxis": {
             "endlinecolor": "#2a3f5f",
             "gridcolor": "#C8D4E3",
             "linecolor": "#C8D4E3",
             "minorgridcolor": "#C8D4E3",
             "startlinecolor": "#2a3f5f"
            },
            "baxis": {
             "endlinecolor": "#2a3f5f",
             "gridcolor": "#C8D4E3",
             "linecolor": "#C8D4E3",
             "minorgridcolor": "#C8D4E3",
             "startlinecolor": "#2a3f5f"
            },
            "type": "carpet"
           }
          ],
          "choropleth": [
           {
            "colorbar": {
             "outlinewidth": 0,
             "ticks": ""
            },
            "type": "choropleth"
           }
          ],
          "contour": [
           {
            "colorbar": {
             "outlinewidth": 0,
             "ticks": ""
            },
            "colorscale": [
             [
              0,
              "#0d0887"
             ],
             [
              0.1111111111111111,
              "#46039f"
             ],
             [
              0.2222222222222222,
              "#7201a8"
             ],
             [
              0.3333333333333333,
              "#9c179e"
             ],
             [
              0.4444444444444444,
              "#bd3786"
             ],
             [
              0.5555555555555556,
              "#d8576b"
             ],
             [
              0.6666666666666666,
              "#ed7953"
             ],
             [
              0.7777777777777778,
              "#fb9f3a"
             ],
             [
              0.8888888888888888,
              "#fdca26"
             ],
             [
              1,
              "#f0f921"
             ]
            ],
            "type": "contour"
           }
          ],
          "contourcarpet": [
           {
            "colorbar": {
             "outlinewidth": 0,
             "ticks": ""
            },
            "type": "contourcarpet"
           }
          ],
          "heatmap": [
           {
            "colorbar": {
             "outlinewidth": 0,
             "ticks": ""
            },
            "colorscale": [
             [
              0,
              "#0d0887"
             ],
             [
              0.1111111111111111,
              "#46039f"
             ],
             [
              0.2222222222222222,
              "#7201a8"
             ],
             [
              0.3333333333333333,
              "#9c179e"
             ],
             [
              0.4444444444444444,
              "#bd3786"
             ],
             [
              0.5555555555555556,
              "#d8576b"
             ],
             [
              0.6666666666666666,
              "#ed7953"
             ],
             [
              0.7777777777777778,
              "#fb9f3a"
             ],
             [
              0.8888888888888888,
              "#fdca26"
             ],
             [
              1,
              "#f0f921"
             ]
            ],
            "type": "heatmap"
           }
          ],
          "heatmapgl": [
           {
            "colorbar": {
             "outlinewidth": 0,
             "ticks": ""
            },
            "colorscale": [
             [
              0,
              "#0d0887"
             ],
             [
              0.1111111111111111,
              "#46039f"
             ],
             [
              0.2222222222222222,
              "#7201a8"
             ],
             [
              0.3333333333333333,
              "#9c179e"
             ],
             [
              0.4444444444444444,
              "#bd3786"
             ],
             [
              0.5555555555555556,
              "#d8576b"
             ],
             [
              0.6666666666666666,
              "#ed7953"
             ],
             [
              0.7777777777777778,
              "#fb9f3a"
             ],
             [
              0.8888888888888888,
              "#fdca26"
             ],
             [
              1,
              "#f0f921"
             ]
            ],
            "type": "heatmapgl"
           }
          ],
          "histogram": [
           {
            "marker": {
             "pattern": {
              "fillmode": "overlay",
              "size": 10,
              "solidity": 0.2
             }
            },
            "type": "histogram"
           }
          ],
          "histogram2d": [
           {
            "colorbar": {
             "outlinewidth": 0,
             "ticks": ""
            },
            "colorscale": [
             [
              0,
              "#0d0887"
             ],
             [
              0.1111111111111111,
              "#46039f"
             ],
             [
              0.2222222222222222,
              "#7201a8"
             ],
             [
              0.3333333333333333,
              "#9c179e"
             ],
             [
              0.4444444444444444,
              "#bd3786"
             ],
             [
              0.5555555555555556,
              "#d8576b"
             ],
             [
              0.6666666666666666,
              "#ed7953"
             ],
             [
              0.7777777777777778,
              "#fb9f3a"
             ],
             [
              0.8888888888888888,
              "#fdca26"
             ],
             [
              1,
              "#f0f921"
             ]
            ],
            "type": "histogram2d"
           }
          ],
          "histogram2dcontour": [
           {
            "colorbar": {
             "outlinewidth": 0,
             "ticks": ""
            },
            "colorscale": [
             [
              0,
              "#0d0887"
             ],
             [
              0.1111111111111111,
              "#46039f"
             ],
             [
              0.2222222222222222,
              "#7201a8"
             ],
             [
              0.3333333333333333,
              "#9c179e"
             ],
             [
              0.4444444444444444,
              "#bd3786"
             ],
             [
              0.5555555555555556,
              "#d8576b"
             ],
             [
              0.6666666666666666,
              "#ed7953"
             ],
             [
              0.7777777777777778,
              "#fb9f3a"
             ],
             [
              0.8888888888888888,
              "#fdca26"
             ],
             [
              1,
              "#f0f921"
             ]
            ],
            "type": "histogram2dcontour"
           }
          ],
          "mesh3d": [
           {
            "colorbar": {
             "outlinewidth": 0,
             "ticks": ""
            },
            "type": "mesh3d"
           }
          ],
          "parcoords": [
           {
            "line": {
             "colorbar": {
              "outlinewidth": 0,
              "ticks": ""
             }
            },
            "type": "parcoords"
           }
          ],
          "pie": [
           {
            "automargin": true,
            "type": "pie"
           }
          ],
          "scatter": [
           {
            "fillpattern": {
             "fillmode": "overlay",
             "size": 10,
             "solidity": 0.2
            },
            "type": "scatter"
           }
          ],
          "scatter3d": [
           {
            "line": {
             "colorbar": {
              "outlinewidth": 0,
              "ticks": ""
             }
            },
            "marker": {
             "colorbar": {
              "outlinewidth": 0,
              "ticks": ""
             }
            },
            "type": "scatter3d"
           }
          ],
          "scattercarpet": [
           {
            "marker": {
             "colorbar": {
              "outlinewidth": 0,
              "ticks": ""
             }
            },
            "type": "scattercarpet"
           }
          ],
          "scattergeo": [
           {
            "marker": {
             "colorbar": {
              "outlinewidth": 0,
              "ticks": ""
             }
            },
            "type": "scattergeo"
           }
          ],
          "scattergl": [
           {
            "marker": {
             "colorbar": {
              "outlinewidth": 0,
              "ticks": ""
             }
            },
            "type": "scattergl"
           }
          ],
          "scattermapbox": [
           {
            "marker": {
             "colorbar": {
              "outlinewidth": 0,
              "ticks": ""
             }
            },
            "type": "scattermapbox"
           }
          ],
          "scatterpolar": [
           {
            "marker": {
             "colorbar": {
              "outlinewidth": 0,
              "ticks": ""
             }
            },
            "type": "scatterpolar"
           }
          ],
          "scatterpolargl": [
           {
            "marker": {
             "colorbar": {
              "outlinewidth": 0,
              "ticks": ""
             }
            },
            "type": "scatterpolargl"
           }
          ],
          "scatterternary": [
           {
            "marker": {
             "colorbar": {
              "outlinewidth": 0,
              "ticks": ""
             }
            },
            "type": "scatterternary"
           }
          ],
          "surface": [
           {
            "colorbar": {
             "outlinewidth": 0,
             "ticks": ""
            },
            "colorscale": [
             [
              0,
              "#0d0887"
             ],
             [
              0.1111111111111111,
              "#46039f"
             ],
             [
              0.2222222222222222,
              "#7201a8"
             ],
             [
              0.3333333333333333,
              "#9c179e"
             ],
             [
              0.4444444444444444,
              "#bd3786"
             ],
             [
              0.5555555555555556,
              "#d8576b"
             ],
             [
              0.6666666666666666,
              "#ed7953"
             ],
             [
              0.7777777777777778,
              "#fb9f3a"
             ],
             [
              0.8888888888888888,
              "#fdca26"
             ],
             [
              1,
              "#f0f921"
             ]
            ],
            "type": "surface"
           }
          ],
          "table": [
           {
            "cells": {
             "fill": {
              "color": "#EBF0F8"
             },
             "line": {
              "color": "white"
             }
            },
            "header": {
             "fill": {
              "color": "#C8D4E3"
             },
             "line": {
              "color": "white"
             }
            },
            "type": "table"
           }
          ]
         },
         "layout": {
          "annotationdefaults": {
           "arrowcolor": "#2a3f5f",
           "arrowhead": 0,
           "arrowwidth": 1
          },
          "autotypenumbers": "strict",
          "coloraxis": {
           "colorbar": {
            "outlinewidth": 0,
            "ticks": ""
           }
          },
          "colorscale": {
           "diverging": [
            [
             0,
             "#8e0152"
            ],
            [
             0.1,
             "#c51b7d"
            ],
            [
             0.2,
             "#de77ae"
            ],
            [
             0.3,
             "#f1b6da"
            ],
            [
             0.4,
             "#fde0ef"
            ],
            [
             0.5,
             "#f7f7f7"
            ],
            [
             0.6,
             "#e6f5d0"
            ],
            [
             0.7,
             "#b8e186"
            ],
            [
             0.8,
             "#7fbc41"
            ],
            [
             0.9,
             "#4d9221"
            ],
            [
             1,
             "#276419"
            ]
           ],
           "sequential": [
            [
             0,
             "#0d0887"
            ],
            [
             0.1111111111111111,
             "#46039f"
            ],
            [
             0.2222222222222222,
             "#7201a8"
            ],
            [
             0.3333333333333333,
             "#9c179e"
            ],
            [
             0.4444444444444444,
             "#bd3786"
            ],
            [
             0.5555555555555556,
             "#d8576b"
            ],
            [
             0.6666666666666666,
             "#ed7953"
            ],
            [
             0.7777777777777778,
             "#fb9f3a"
            ],
            [
             0.8888888888888888,
             "#fdca26"
            ],
            [
             1,
             "#f0f921"
            ]
           ],
           "sequentialminus": [
            [
             0,
             "#0d0887"
            ],
            [
             0.1111111111111111,
             "#46039f"
            ],
            [
             0.2222222222222222,
             "#7201a8"
            ],
            [
             0.3333333333333333,
             "#9c179e"
            ],
            [
             0.4444444444444444,
             "#bd3786"
            ],
            [
             0.5555555555555556,
             "#d8576b"
            ],
            [
             0.6666666666666666,
             "#ed7953"
            ],
            [
             0.7777777777777778,
             "#fb9f3a"
            ],
            [
             0.8888888888888888,
             "#fdca26"
            ],
            [
             1,
             "#f0f921"
            ]
           ]
          },
          "colorway": [
           "#636efa",
           "#EF553B",
           "#00cc96",
           "#ab63fa",
           "#FFA15A",
           "#19d3f3",
           "#FF6692",
           "#B6E880",
           "#FF97FF",
           "#FECB52"
          ],
          "font": {
           "color": "#2a3f5f"
          },
          "geo": {
           "bgcolor": "white",
           "lakecolor": "white",
           "landcolor": "white",
           "showlakes": true,
           "showland": true,
           "subunitcolor": "#C8D4E3"
          },
          "hoverlabel": {
           "align": "left"
          },
          "hovermode": "closest",
          "mapbox": {
           "style": "light"
          },
          "paper_bgcolor": "white",
          "plot_bgcolor": "white",
          "polar": {
           "angularaxis": {
            "gridcolor": "#EBF0F8",
            "linecolor": "#EBF0F8",
            "ticks": ""
           },
           "bgcolor": "white",
           "radialaxis": {
            "gridcolor": "#EBF0F8",
            "linecolor": "#EBF0F8",
            "ticks": ""
           }
          },
          "scene": {
           "xaxis": {
            "backgroundcolor": "white",
            "gridcolor": "#DFE8F3",
            "gridwidth": 2,
            "linecolor": "#EBF0F8",
            "showbackground": true,
            "ticks": "",
            "zerolinecolor": "#EBF0F8"
           },
           "yaxis": {
            "backgroundcolor": "white",
            "gridcolor": "#DFE8F3",
            "gridwidth": 2,
            "linecolor": "#EBF0F8",
            "showbackground": true,
            "ticks": "",
            "zerolinecolor": "#EBF0F8"
           },
           "zaxis": {
            "backgroundcolor": "white",
            "gridcolor": "#DFE8F3",
            "gridwidth": 2,
            "linecolor": "#EBF0F8",
            "showbackground": true,
            "ticks": "",
            "zerolinecolor": "#EBF0F8"
           }
          },
          "shapedefaults": {
           "line": {
            "color": "#2a3f5f"
           }
          },
          "ternary": {
           "aaxis": {
            "gridcolor": "#DFE8F3",
            "linecolor": "#A2B1C6",
            "ticks": ""
           },
           "baxis": {
            "gridcolor": "#DFE8F3",
            "linecolor": "#A2B1C6",
            "ticks": ""
           },
           "bgcolor": "white",
           "caxis": {
            "gridcolor": "#DFE8F3",
            "linecolor": "#A2B1C6",
            "ticks": ""
           }
          },
          "title": {
           "x": 0.05
          },
          "xaxis": {
           "automargin": true,
           "gridcolor": "#EBF0F8",
           "linecolor": "#EBF0F8",
           "ticks": "",
           "title": {
            "standoff": 15
           },
           "zerolinecolor": "#EBF0F8",
           "zerolinewidth": 2
          },
          "yaxis": {
           "automargin": true,
           "gridcolor": "#EBF0F8",
           "linecolor": "#EBF0F8",
           "ticks": "",
           "title": {
            "standoff": 15
           },
           "zerolinecolor": "#EBF0F8",
           "zerolinewidth": 2
          }
         }
        },
        "title": {
         "font": {
          "size": 20
         },
         "text": "Expert 16 (K-Means) Rankings per Condition with Perfect Ranking Reference"
        },
        "width": 1000,
        "xaxis": {
         "anchor": "y",
         "domain": [
          0,
          1
         ],
         "title": {
          "text": "Conditions (Low to High Quality)"
         }
        },
        "yaxis": {
         "anchor": "x",
         "autorange": "reversed",
         "domain": [
          0,
          1
         ],
         "title": {
          "text": "Ranking (Lower is Better)"
         }
        }
       }
      }
     },
     "metadata": {},
     "output_type": "display_data"
    }
   ],
   "source": [
    "# Spaghetti plot for Expert 16 rankings\n",
    "\n",
    "reversed_expert16_rankings_hard_hardest = expert16_rankings_kmeans_based[:, ::-1]\n",
    "\n",
    "# Reshape rankings data for Plotly\n",
    "expert16_rankings_df = pd.DataFrame(reversed_expert16_rankings_hard_hardest, columns=conditions)\n",
    "expert16_rankings_df['Sample'] = items\n",
    "\n",
    "# Melt dataframe for better visualization\n",
    "expert16_rankings_df_melted = expert16_rankings_df.melt(id_vars=['Sample'], var_name='Condition', value_name='Ranking')\n",
    "\n",
    "expert16_rankings_df_melted = pd.concat([perfect_df, expert16_rankings_df_melted])\n",
    "\n",
    "\n",
    "# Define custom colors\n",
    "color_map = {\n",
    "    \"Perfect Ranking\": \"black\"\n",
    "}\n",
    "\n",
    "# Assign green to easy items\n",
    "for item in easy_easiest_trials_competition_kmeans:\n",
    "    color_map[item] = \"green\"\n",
    "\n",
    "# Assign red to hard items\n",
    "for item in hard_hardest_trials_competition_kmeans:\n",
    "    color_map[item] = \"red\"\n",
    "\n",
    "# Assign light grey to all other samples\n",
    "all_samples = expert16_rankings_df_melted['Sample'].unique()\n",
    "for item in all_samples:\n",
    "    if item not in color_map:\n",
    "        color_map[item] = \"lightgrey\"\n",
    "\n",
    "# Create plot\n",
    "fig = px.line(expert16_rankings_df_melted, x='Condition', y='Ranking', color='Sample', markers=True,\n",
    "              title=\"Expert 16 (K-Means) Rankings per Condition with Perfect Ranking Reference\",\n",
    "              labels={\"Ranking\": \"Ranking\", \"Condition\": \"Conditions (Low to High Quality)\"},\n",
    "              color_discrete_map=color_map,\n",
    "              template=\"plotly_white\")\n",
    "\n",
    "# Adjust figure dimensions\n",
    "fig.update_layout(width=1000, height=800)\n",
    "\n",
    "# Invert y-axis (lower ranks at top)\n",
    "fig.update_yaxes(autorange=\"reversed\")\n",
    "\n",
    "# Modify the \"Perfect Ranking\" line to be more visible\n",
    "fig.update_traces(\n",
    "    selector=dict(name=\"Perfect Ranking\"),\n",
    "    line=dict(width=10, color='black'),\n",
    "    marker=dict(size=14, color='black')\n",
    ")\n",
    "\n",
    "fig.update_layout(\n",
    "    title=dict(\n",
    "        text=\"Expert 16 (K-Means) Rankings per Condition with Perfect Ranking Reference\",\n",
    "        font=dict(size=20)  # Increase this value for a larger title\n",
    "    )\n",
    ")\n",
    "\n",
    "\n",
    "# Update all traces except \"Perfect Ranking\" to be slightly transparent\n",
    "fig.for_each_trace(\n",
    "    lambda trace: trace.update(line=dict(color='rgba(211,211,211,0.4)')) \n",
    "    if trace.name != \"Perfect Ranking\" and color_map.get(trace.name) == \"lightgrey\" else None\n",
    ")\n",
    "\n",
    "# Optional: update easy and hard items to semi-transparent green and red\n",
    "fig.for_each_trace(\n",
    "    lambda trace: trace.update(line=dict(color='rgba(0,128,0,0.5)'))  # green with opacity\n",
    "    if color_map.get(trace.name) == \"green\" else None\n",
    ")\n",
    "fig.for_each_trace(\n",
    "    lambda trace: trace.update(line=dict(color='rgba(255,0,0,0.5)'))  # red with opacity\n",
    "    if color_map.get(trace.name) == \"red\" else None\n",
    ")\n",
    "\n",
    "\n",
    "# Show figure\n",
    "fig.show()"
   ]
  }
 ],
 "metadata": {
  "kernelspec": {
   "display_name": "env",
   "language": "python",
   "name": "python3"
  },
  "language_info": {
   "codemirror_mode": {
    "name": "ipython",
    "version": 3
   },
   "file_extension": ".py",
   "mimetype": "text/x-python",
   "name": "python",
   "nbconvert_exporter": "python",
   "pygments_lexer": "ipython3",
   "version": "3.12.7"
  }
 },
 "nbformat": 4,
 "nbformat_minor": 5
}
