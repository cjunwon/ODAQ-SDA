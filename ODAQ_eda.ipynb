{
 "cells": [
  {
   "cell_type": "code",
   "execution_count": 84,
   "metadata": {},
   "outputs": [],
   "source": [
    "import pandas\n",
    "\n",
    "ODAQ_results = pandas.read_csv('./ODAQ/ODAQ_listening_test/ODAQ_results.csv')\n",
    "ODAQ_results_BSU1 = pandas.read_csv('./ODAQ_v1_BSU/Cohort_B1_results.csv')\n",
    "ODAQ_results_BSU2 = pandas.read_csv('./ODAQ_v1_BSU/Cohort_B2_results.csv')"
   ]
  },
  {
   "cell_type": "code",
   "execution_count": 85,
   "metadata": {},
   "outputs": [
    {
     "data": {
      "text/html": [
       "<div>\n",
       "<style scoped>\n",
       "    .dataframe tbody tr th:only-of-type {\n",
       "        vertical-align: middle;\n",
       "    }\n",
       "\n",
       "    .dataframe tbody tr th {\n",
       "        vertical-align: top;\n",
       "    }\n",
       "\n",
       "    .dataframe thead th {\n",
       "        text-align: right;\n",
       "    }\n",
       "</style>\n",
       "<table border=\"1\" class=\"dataframe\">\n",
       "  <thead>\n",
       "    <tr style=\"text-align: right;\">\n",
       "      <th></th>\n",
       "      <th>score</th>\n",
       "      <th>method</th>\n",
       "      <th>condition</th>\n",
       "      <th>process</th>\n",
       "      <th>item</th>\n",
       "      <th>subject</th>\n",
       "    </tr>\n",
       "  </thead>\n",
       "  <tbody>\n",
       "    <tr>\n",
       "      <th>0</th>\n",
       "      <td>47.0</td>\n",
       "      <td>LP</td>\n",
       "      <td>LP3.5</td>\n",
       "      <td>LP35</td>\n",
       "      <td>LP_11_guitar</td>\n",
       "      <td>Subject 1: USLA08</td>\n",
       "    </tr>\n",
       "    <tr>\n",
       "      <th>1</th>\n",
       "      <td>5.0</td>\n",
       "      <td>LP</td>\n",
       "      <td>LP3.5</td>\n",
       "      <td>LP35</td>\n",
       "      <td>LP_11_guitar</td>\n",
       "      <td>Subject 2: DEID44</td>\n",
       "    </tr>\n",
       "    <tr>\n",
       "      <th>2</th>\n",
       "      <td>10.0</td>\n",
       "      <td>LP</td>\n",
       "      <td>LP3.5</td>\n",
       "      <td>LP35</td>\n",
       "      <td>LP_11_guitar</td>\n",
       "      <td>Subject 3: DEID1115</td>\n",
       "    </tr>\n",
       "    <tr>\n",
       "      <th>3</th>\n",
       "      <td>20.0</td>\n",
       "      <td>LP</td>\n",
       "      <td>LP3.5</td>\n",
       "      <td>LP35</td>\n",
       "      <td>LP_11_guitar</td>\n",
       "      <td>Subject 4: DEID337</td>\n",
       "    </tr>\n",
       "    <tr>\n",
       "      <th>4</th>\n",
       "      <td>30.0</td>\n",
       "      <td>LP</td>\n",
       "      <td>LP3.5</td>\n",
       "      <td>LP35</td>\n",
       "      <td>LP_11_guitar</td>\n",
       "      <td>Subject 5: USLA06</td>\n",
       "    </tr>\n",
       "    <tr>\n",
       "      <th>5</th>\n",
       "      <td>0.0</td>\n",
       "      <td>LP</td>\n",
       "      <td>LP3.5</td>\n",
       "      <td>LP35</td>\n",
       "      <td>LP_11_guitar</td>\n",
       "      <td>Subject 6: DEID5</td>\n",
       "    </tr>\n",
       "    <tr>\n",
       "      <th>6</th>\n",
       "      <td>25.0</td>\n",
       "      <td>LP</td>\n",
       "      <td>LP3.5</td>\n",
       "      <td>LP35</td>\n",
       "      <td>LP_11_guitar</td>\n",
       "      <td>Subject 7: DEID9</td>\n",
       "    </tr>\n",
       "    <tr>\n",
       "      <th>7</th>\n",
       "      <td>10.0</td>\n",
       "      <td>LP</td>\n",
       "      <td>LP3.5</td>\n",
       "      <td>LP35</td>\n",
       "      <td>LP_11_guitar</td>\n",
       "      <td>Subject 8: DEID4</td>\n",
       "    </tr>\n",
       "    <tr>\n",
       "      <th>8</th>\n",
       "      <td>40.0</td>\n",
       "      <td>LP</td>\n",
       "      <td>LP3.5</td>\n",
       "      <td>LP35</td>\n",
       "      <td>LP_11_guitar</td>\n",
       "      <td>Subject 9: USLG04</td>\n",
       "    </tr>\n",
       "    <tr>\n",
       "      <th>9</th>\n",
       "      <td>13.0</td>\n",
       "      <td>LP</td>\n",
       "      <td>LP3.5</td>\n",
       "      <td>LP35</td>\n",
       "      <td>LP_11_guitar</td>\n",
       "      <td>Subject 10: USLA04</td>\n",
       "    </tr>\n",
       "    <tr>\n",
       "      <th>10</th>\n",
       "      <td>5.0</td>\n",
       "      <td>LP</td>\n",
       "      <td>LP3.5</td>\n",
       "      <td>LP35</td>\n",
       "      <td>LP_11_guitar</td>\n",
       "      <td>Subject 11: USLA07</td>\n",
       "    </tr>\n",
       "    <tr>\n",
       "      <th>11</th>\n",
       "      <td>9.0</td>\n",
       "      <td>LP</td>\n",
       "      <td>LP3.5</td>\n",
       "      <td>LP35</td>\n",
       "      <td>LP_11_guitar</td>\n",
       "      <td>Subject 12: DEID256</td>\n",
       "    </tr>\n",
       "    <tr>\n",
       "      <th>12</th>\n",
       "      <td>20.0</td>\n",
       "      <td>LP</td>\n",
       "      <td>LP3.5</td>\n",
       "      <td>LP35</td>\n",
       "      <td>LP_11_guitar</td>\n",
       "      <td>Subject 13: DEID6</td>\n",
       "    </tr>\n",
       "    <tr>\n",
       "      <th>13</th>\n",
       "      <td>15.0</td>\n",
       "      <td>LP</td>\n",
       "      <td>LP3.5</td>\n",
       "      <td>LP35</td>\n",
       "      <td>LP_11_guitar</td>\n",
       "      <td>Subject 14: USLG05</td>\n",
       "    </tr>\n",
       "    <tr>\n",
       "      <th>14</th>\n",
       "      <td>17.0</td>\n",
       "      <td>LP</td>\n",
       "      <td>LP3.5</td>\n",
       "      <td>LP35</td>\n",
       "      <td>LP_11_guitar</td>\n",
       "      <td>Subject 15: USLA09</td>\n",
       "    </tr>\n",
       "    <tr>\n",
       "      <th>15</th>\n",
       "      <td>23.0</td>\n",
       "      <td>LP</td>\n",
       "      <td>LP3.5</td>\n",
       "      <td>LP35</td>\n",
       "      <td>LP_11_guitar</td>\n",
       "      <td>Subject 16: USLG02</td>\n",
       "    </tr>\n",
       "    <tr>\n",
       "      <th>16</th>\n",
       "      <td>35.0</td>\n",
       "      <td>LP</td>\n",
       "      <td>LP3.5</td>\n",
       "      <td>LP35</td>\n",
       "      <td>LP_11_guitar</td>\n",
       "      <td>Subject 17: USLG03</td>\n",
       "    </tr>\n",
       "    <tr>\n",
       "      <th>17</th>\n",
       "      <td>20.0</td>\n",
       "      <td>LP</td>\n",
       "      <td>LP3.5</td>\n",
       "      <td>LP35</td>\n",
       "      <td>LP_11_guitar</td>\n",
       "      <td>Subject 18: DEID7</td>\n",
       "    </tr>\n",
       "    <tr>\n",
       "      <th>18</th>\n",
       "      <td>11.0</td>\n",
       "      <td>LP</td>\n",
       "      <td>LP3.5</td>\n",
       "      <td>LP35</td>\n",
       "      <td>LP_11_guitar</td>\n",
       "      <td>Subject 19: USLA12</td>\n",
       "    </tr>\n",
       "    <tr>\n",
       "      <th>19</th>\n",
       "      <td>24.0</td>\n",
       "      <td>LP</td>\n",
       "      <td>LP3.5</td>\n",
       "      <td>LP35</td>\n",
       "      <td>LP_11_guitar</td>\n",
       "      <td>Subject 20: DEID10</td>\n",
       "    </tr>\n",
       "    <tr>\n",
       "      <th>20</th>\n",
       "      <td>20.0</td>\n",
       "      <td>LP</td>\n",
       "      <td>LP3.5</td>\n",
       "      <td>LP35</td>\n",
       "      <td>LP_11_guitar</td>\n",
       "      <td>Subject 21: DEID8</td>\n",
       "    </tr>\n",
       "    <tr>\n",
       "      <th>21</th>\n",
       "      <td>20.0</td>\n",
       "      <td>LP</td>\n",
       "      <td>LP3.5</td>\n",
       "      <td>LP35</td>\n",
       "      <td>LP_11_guitar</td>\n",
       "      <td>Subject 22: DEID2</td>\n",
       "    </tr>\n",
       "    <tr>\n",
       "      <th>22</th>\n",
       "      <td>60.0</td>\n",
       "      <td>LP</td>\n",
       "      <td>LP3.5</td>\n",
       "      <td>LP35</td>\n",
       "      <td>LP_11_guitar</td>\n",
       "      <td>Subject 23: USLA01</td>\n",
       "    </tr>\n",
       "    <tr>\n",
       "      <th>23</th>\n",
       "      <td>20.0</td>\n",
       "      <td>LP</td>\n",
       "      <td>LP3.5</td>\n",
       "      <td>LP35</td>\n",
       "      <td>LP_11_guitar</td>\n",
       "      <td>Subject 24: USLA05</td>\n",
       "    </tr>\n",
       "    <tr>\n",
       "      <th>24</th>\n",
       "      <td>10.0</td>\n",
       "      <td>LP</td>\n",
       "      <td>LP3.5</td>\n",
       "      <td>LP35</td>\n",
       "      <td>LP_11_guitar</td>\n",
       "      <td>Subject 25: DEID1</td>\n",
       "    </tr>\n",
       "    <tr>\n",
       "      <th>25</th>\n",
       "      <td>35.0</td>\n",
       "      <td>LP</td>\n",
       "      <td>LP3.5</td>\n",
       "      <td>LP35</td>\n",
       "      <td>LP_11_guitar</td>\n",
       "      <td>Subject 26: DEID3</td>\n",
       "    </tr>\n",
       "    <tr>\n",
       "      <th>26</th>\n",
       "      <td>17.0</td>\n",
       "      <td>LP</td>\n",
       "      <td>LP3.5</td>\n",
       "      <td>LP35</td>\n",
       "      <td>LP_23_jazz</td>\n",
       "      <td>Subject 1: USLA08</td>\n",
       "    </tr>\n",
       "    <tr>\n",
       "      <th>27</th>\n",
       "      <td>5.0</td>\n",
       "      <td>LP</td>\n",
       "      <td>LP3.5</td>\n",
       "      <td>LP35</td>\n",
       "      <td>LP_23_jazz</td>\n",
       "      <td>Subject 2: DEID44</td>\n",
       "    </tr>\n",
       "    <tr>\n",
       "      <th>28</th>\n",
       "      <td>10.0</td>\n",
       "      <td>LP</td>\n",
       "      <td>LP3.5</td>\n",
       "      <td>LP35</td>\n",
       "      <td>LP_23_jazz</td>\n",
       "      <td>Subject 3: DEID1115</td>\n",
       "    </tr>\n",
       "    <tr>\n",
       "      <th>29</th>\n",
       "      <td>20.0</td>\n",
       "      <td>LP</td>\n",
       "      <td>LP3.5</td>\n",
       "      <td>LP35</td>\n",
       "      <td>LP_23_jazz</td>\n",
       "      <td>Subject 4: DEID337</td>\n",
       "    </tr>\n",
       "    <tr>\n",
       "      <th>30</th>\n",
       "      <td>30.0</td>\n",
       "      <td>LP</td>\n",
       "      <td>LP3.5</td>\n",
       "      <td>LP35</td>\n",
       "      <td>LP_23_jazz</td>\n",
       "      <td>Subject 5: USLA06</td>\n",
       "    </tr>\n",
       "    <tr>\n",
       "      <th>31</th>\n",
       "      <td>0.0</td>\n",
       "      <td>LP</td>\n",
       "      <td>LP3.5</td>\n",
       "      <td>LP35</td>\n",
       "      <td>LP_23_jazz</td>\n",
       "      <td>Subject 6: DEID5</td>\n",
       "    </tr>\n",
       "    <tr>\n",
       "      <th>32</th>\n",
       "      <td>25.0</td>\n",
       "      <td>LP</td>\n",
       "      <td>LP3.5</td>\n",
       "      <td>LP35</td>\n",
       "      <td>LP_23_jazz</td>\n",
       "      <td>Subject 7: DEID9</td>\n",
       "    </tr>\n",
       "    <tr>\n",
       "      <th>33</th>\n",
       "      <td>6.0</td>\n",
       "      <td>LP</td>\n",
       "      <td>LP3.5</td>\n",
       "      <td>LP35</td>\n",
       "      <td>LP_23_jazz</td>\n",
       "      <td>Subject 8: DEID4</td>\n",
       "    </tr>\n",
       "    <tr>\n",
       "      <th>34</th>\n",
       "      <td>30.0</td>\n",
       "      <td>LP</td>\n",
       "      <td>LP3.5</td>\n",
       "      <td>LP35</td>\n",
       "      <td>LP_23_jazz</td>\n",
       "      <td>Subject 9: USLG04</td>\n",
       "    </tr>\n",
       "    <tr>\n",
       "      <th>35</th>\n",
       "      <td>13.0</td>\n",
       "      <td>LP</td>\n",
       "      <td>LP3.5</td>\n",
       "      <td>LP35</td>\n",
       "      <td>LP_23_jazz</td>\n",
       "      <td>Subject 10: USLA04</td>\n",
       "    </tr>\n",
       "    <tr>\n",
       "      <th>36</th>\n",
       "      <td>9.0</td>\n",
       "      <td>LP</td>\n",
       "      <td>LP3.5</td>\n",
       "      <td>LP35</td>\n",
       "      <td>LP_23_jazz</td>\n",
       "      <td>Subject 11: USLA07</td>\n",
       "    </tr>\n",
       "    <tr>\n",
       "      <th>37</th>\n",
       "      <td>0.0</td>\n",
       "      <td>LP</td>\n",
       "      <td>LP3.5</td>\n",
       "      <td>LP35</td>\n",
       "      <td>LP_23_jazz</td>\n",
       "      <td>Subject 12: DEID256</td>\n",
       "    </tr>\n",
       "    <tr>\n",
       "      <th>38</th>\n",
       "      <td>20.0</td>\n",
       "      <td>LP</td>\n",
       "      <td>LP3.5</td>\n",
       "      <td>LP35</td>\n",
       "      <td>LP_23_jazz</td>\n",
       "      <td>Subject 13: DEID6</td>\n",
       "    </tr>\n",
       "    <tr>\n",
       "      <th>39</th>\n",
       "      <td>15.0</td>\n",
       "      <td>LP</td>\n",
       "      <td>LP3.5</td>\n",
       "      <td>LP35</td>\n",
       "      <td>LP_23_jazz</td>\n",
       "      <td>Subject 14: USLG05</td>\n",
       "    </tr>\n",
       "  </tbody>\n",
       "</table>\n",
       "</div>"
      ],
      "text/plain": [
       "    score method condition process          item              subject\n",
       "0    47.0     LP     LP3.5    LP35  LP_11_guitar    Subject 1: USLA08\n",
       "1     5.0     LP     LP3.5    LP35  LP_11_guitar    Subject 2: DEID44\n",
       "2    10.0     LP     LP3.5    LP35  LP_11_guitar  Subject 3: DEID1115\n",
       "3    20.0     LP     LP3.5    LP35  LP_11_guitar   Subject 4: DEID337\n",
       "4    30.0     LP     LP3.5    LP35  LP_11_guitar    Subject 5: USLA06\n",
       "5     0.0     LP     LP3.5    LP35  LP_11_guitar     Subject 6: DEID5\n",
       "6    25.0     LP     LP3.5    LP35  LP_11_guitar     Subject 7: DEID9\n",
       "7    10.0     LP     LP3.5    LP35  LP_11_guitar     Subject 8: DEID4\n",
       "8    40.0     LP     LP3.5    LP35  LP_11_guitar    Subject 9: USLG04\n",
       "9    13.0     LP     LP3.5    LP35  LP_11_guitar   Subject 10: USLA04\n",
       "10    5.0     LP     LP3.5    LP35  LP_11_guitar   Subject 11: USLA07\n",
       "11    9.0     LP     LP3.5    LP35  LP_11_guitar  Subject 12: DEID256\n",
       "12   20.0     LP     LP3.5    LP35  LP_11_guitar    Subject 13: DEID6\n",
       "13   15.0     LP     LP3.5    LP35  LP_11_guitar   Subject 14: USLG05\n",
       "14   17.0     LP     LP3.5    LP35  LP_11_guitar   Subject 15: USLA09\n",
       "15   23.0     LP     LP3.5    LP35  LP_11_guitar   Subject 16: USLG02\n",
       "16   35.0     LP     LP3.5    LP35  LP_11_guitar   Subject 17: USLG03\n",
       "17   20.0     LP     LP3.5    LP35  LP_11_guitar    Subject 18: DEID7\n",
       "18   11.0     LP     LP3.5    LP35  LP_11_guitar   Subject 19: USLA12\n",
       "19   24.0     LP     LP3.5    LP35  LP_11_guitar   Subject 20: DEID10\n",
       "20   20.0     LP     LP3.5    LP35  LP_11_guitar    Subject 21: DEID8\n",
       "21   20.0     LP     LP3.5    LP35  LP_11_guitar    Subject 22: DEID2\n",
       "22   60.0     LP     LP3.5    LP35  LP_11_guitar   Subject 23: USLA01\n",
       "23   20.0     LP     LP3.5    LP35  LP_11_guitar   Subject 24: USLA05\n",
       "24   10.0     LP     LP3.5    LP35  LP_11_guitar    Subject 25: DEID1\n",
       "25   35.0     LP     LP3.5    LP35  LP_11_guitar    Subject 26: DEID3\n",
       "26   17.0     LP     LP3.5    LP35    LP_23_jazz    Subject 1: USLA08\n",
       "27    5.0     LP     LP3.5    LP35    LP_23_jazz    Subject 2: DEID44\n",
       "28   10.0     LP     LP3.5    LP35    LP_23_jazz  Subject 3: DEID1115\n",
       "29   20.0     LP     LP3.5    LP35    LP_23_jazz   Subject 4: DEID337\n",
       "30   30.0     LP     LP3.5    LP35    LP_23_jazz    Subject 5: USLA06\n",
       "31    0.0     LP     LP3.5    LP35    LP_23_jazz     Subject 6: DEID5\n",
       "32   25.0     LP     LP3.5    LP35    LP_23_jazz     Subject 7: DEID9\n",
       "33    6.0     LP     LP3.5    LP35    LP_23_jazz     Subject 8: DEID4\n",
       "34   30.0     LP     LP3.5    LP35    LP_23_jazz    Subject 9: USLG04\n",
       "35   13.0     LP     LP3.5    LP35    LP_23_jazz   Subject 10: USLA04\n",
       "36    9.0     LP     LP3.5    LP35    LP_23_jazz   Subject 11: USLA07\n",
       "37    0.0     LP     LP3.5    LP35    LP_23_jazz  Subject 12: DEID256\n",
       "38   20.0     LP     LP3.5    LP35    LP_23_jazz    Subject 13: DEID6\n",
       "39   15.0     LP     LP3.5    LP35    LP_23_jazz   Subject 14: USLG05"
      ]
     },
     "execution_count": 85,
     "metadata": {},
     "output_type": "execute_result"
    }
   ],
   "source": [
    "ODAQ_results.head(40)"
   ]
  },
  {
   "cell_type": "code",
   "execution_count": 86,
   "metadata": {},
   "outputs": [
    {
     "name": "stdout",
     "output_type": "stream",
     "text": [
      "['LP' 'TM' 'UN' 'SH' 'PE' 'DE']\n",
      "['LP3.5' 'LP7' 'Q1' 'Q2' 'Q3' 'Q4' 'Q5' 'Ref']\n",
      "['LP_11_guitar' 'LP_23_jazz' 'LP_AmateurOnPurpose'\n",
      " 'LP_CreatureFromTheBlackjackTable' 'TM_01b_trumpet' 'TM_02_violin'\n",
      " 'TM_AmateurOnPurpose' 'TM_CreatureFromTheBlackjackTable'\n",
      " 'UN_20c_accordion' 'UN_21_violin' 'UN_AmateurOnPurpose'\n",
      " 'UN_CreatureFromTheBlackjackTable' 'SH_04_choral' 'SH_13_glockenspiel'\n",
      " 'SH_AmateurOnPurpose' 'SH_CreatureFromTheBlackjackTable'\n",
      " 'PE_27_castanets' 'PE_39_clapping' 'PE_AmateurOnPurpose'\n",
      " 'PE_CreatureFromTheBlackjackTable' 'DE_CosmosLandromat_remix1_LD6'\n",
      " 'DE_CosmosLandromat_remix3_LD3' 'DE_ElephantsDream_LD0'\n",
      " 'DE_female_speech_music_1_LD0' 'DE_female_speech_music_2_LD9'\n",
      " 'DE_female_speech_music_3_LD3' 'DE_Meridian_remix1_LD3'\n",
      " 'DE_Meridian_remix2_LD6' 'DE_SitaSings_remix1_LD0'\n",
      " 'DE_SitaSings_remix2_LD6']\n"
     ]
    }
   ],
   "source": [
    "methods = ODAQ_results['method'].unique()\n",
    "conditions = ODAQ_results['condition'].unique()\n",
    "items = ODAQ_results['item'].unique()\n",
    "\n",
    "print(methods)\n",
    "print(conditions)\n",
    "print(items)"
   ]
  },
  {
   "cell_type": "code",
   "execution_count": 87,
   "metadata": {},
   "outputs": [
    {
     "name": "stdout",
     "output_type": "stream",
     "text": [
      "['Subject 1: USLA08' 'Subject 2: DEID44' 'Subject 3: DEID1115'\n",
      " 'Subject 4: DEID337' 'Subject 5: USLA06' 'Subject 6: DEID5'\n",
      " 'Subject 7: DEID9' 'Subject 8: DEID4' 'Subject 9: USLG04'\n",
      " 'Subject 10: USLA04' 'Subject 11: USLA07' 'Subject 12: DEID256'\n",
      " 'Subject 13: DEID6' 'Subject 14: USLG05' 'Subject 15: USLA09'\n",
      " 'Subject 16: USLG02' 'Subject 17: USLG03' 'Subject 18: DEID7'\n",
      " 'Subject 19: USLA12' 'Subject 20: DEID10' 'Subject 21: DEID8'\n",
      " 'Subject 22: DEID2' 'Subject 23: USLA01' 'Subject 24: USLA05'\n",
      " 'Subject 25: DEID1' 'Subject 26: DEID3']\n",
      "['D001' 'D002' 'D003' 'D004' 'D008' 'D009' 'D010' 'D011']\n",
      "['D005' 'D013' 'D014' 'D015' 'D016' 'D017' 'D018' 'D019']\n"
     ]
    }
   ],
   "source": [
    "# return unique values in 'subject' column of ODAQ_results, ODAQ_results_BSU1, and ODAQ_results_BSU2\n",
    "\n",
    "print(ODAQ_results['subject'].unique())\n",
    "print(ODAQ_results_BSU1['subject'].unique())\n",
    "print(ODAQ_results_BSU2['subject'].unique())"
   ]
  },
  {
   "cell_type": "code",
   "execution_count": 88,
   "metadata": {},
   "outputs": [],
   "source": [
    "# 'Subject 1: USLA08' in ODAQ_results\n",
    "expert1 = ODAQ_results[ODAQ_results['subject'] == 'Subject 1: USLA08'][['method', 'condition', 'item', 'score']]\n",
    "\n",
    "# 'Subject 2: DEID44' in ODAQ_results\n",
    "expert2 = ODAQ_results[ODAQ_results['subject'] == 'Subject 2: DEID44'][['method', 'condition', 'item', 'score']]"
   ]
  },
  {
   "cell_type": "code",
   "execution_count": 89,
   "metadata": {},
   "outputs": [],
   "source": [
    "# 'D001' in ODAQ_results_BSU1\n",
    "student1 = ODAQ_results_BSU1[ODAQ_results_BSU1['subject'] == 'D001'][['method', 'condition', 'item', 'score']]\n",
    "\n",
    "# 'D005' in ODAQ_results_BSU2\n",
    "student2 = ODAQ_results_BSU2[ODAQ_results_BSU2['subject'] == 'D005'][['method', 'condition', 'item', 'score']]"
   ]
  },
  {
   "cell_type": "code",
   "execution_count": 90,
   "metadata": {},
   "outputs": [
    {
     "data": {
      "application/vnd.plotly.v1+json": {
       "config": {
        "plotlyServerURL": "https://plot.ly"
       },
       "data": [
        {
         "alignmentgroup": "True",
         "boxpoints": "all",
         "customdata": [
          [
           "Expert 1"
          ],
          [
           "Expert 1"
          ],
          [
           "Expert 1"
          ],
          [
           "Expert 1"
          ],
          [
           "Expert 1"
          ],
          [
           "Expert 1"
          ],
          [
           "Expert 1"
          ],
          [
           "Expert 1"
          ],
          [
           "Expert 1"
          ],
          [
           "Expert 1"
          ],
          [
           "Expert 1"
          ],
          [
           "Expert 1"
          ],
          [
           "Expert 1"
          ],
          [
           "Expert 1"
          ],
          [
           "Expert 1"
          ],
          [
           "Expert 1"
          ],
          [
           "Expert 1"
          ],
          [
           "Expert 1"
          ],
          [
           "Expert 1"
          ],
          [
           "Expert 1"
          ],
          [
           "Expert 1"
          ],
          [
           "Expert 1"
          ],
          [
           "Expert 1"
          ],
          [
           "Expert 1"
          ],
          [
           "Expert 1"
          ],
          [
           "Expert 1"
          ],
          [
           "Expert 1"
          ],
          [
           "Expert 1"
          ],
          [
           "Expert 1"
          ],
          [
           "Expert 1"
          ],
          [
           "Expert 1"
          ],
          [
           "Expert 1"
          ],
          [
           "Expert 1"
          ],
          [
           "Expert 1"
          ],
          [
           "Expert 1"
          ],
          [
           "Expert 1"
          ],
          [
           "Expert 1"
          ],
          [
           "Expert 1"
          ],
          [
           "Expert 1"
          ],
          [
           "Expert 1"
          ],
          [
           "Expert 1"
          ],
          [
           "Expert 1"
          ],
          [
           "Expert 1"
          ],
          [
           "Expert 1"
          ],
          [
           "Expert 1"
          ],
          [
           "Expert 1"
          ],
          [
           "Expert 1"
          ],
          [
           "Expert 1"
          ],
          [
           "Expert 1"
          ],
          [
           "Expert 1"
          ],
          [
           "Expert 1"
          ],
          [
           "Expert 1"
          ],
          [
           "Expert 1"
          ],
          [
           "Expert 1"
          ],
          [
           "Expert 1"
          ],
          [
           "Expert 1"
          ],
          [
           "Expert 1"
          ],
          [
           "Expert 1"
          ],
          [
           "Expert 1"
          ],
          [
           "Expert 1"
          ],
          [
           "Expert 1"
          ],
          [
           "Expert 1"
          ],
          [
           "Expert 1"
          ],
          [
           "Expert 1"
          ],
          [
           "Expert 1"
          ],
          [
           "Expert 1"
          ],
          [
           "Expert 1"
          ],
          [
           "Expert 1"
          ],
          [
           "Expert 1"
          ],
          [
           "Expert 1"
          ],
          [
           "Expert 1"
          ],
          [
           "Expert 1"
          ],
          [
           "Expert 1"
          ],
          [
           "Expert 1"
          ],
          [
           "Expert 1"
          ],
          [
           "Expert 1"
          ],
          [
           "Expert 1"
          ],
          [
           "Expert 1"
          ],
          [
           "Expert 1"
          ],
          [
           "Expert 1"
          ],
          [
           "Expert 1"
          ],
          [
           "Expert 1"
          ],
          [
           "Expert 1"
          ],
          [
           "Expert 1"
          ],
          [
           "Expert 1"
          ],
          [
           "Expert 1"
          ],
          [
           "Expert 1"
          ],
          [
           "Expert 1"
          ],
          [
           "Expert 1"
          ],
          [
           "Expert 1"
          ],
          [
           "Expert 1"
          ],
          [
           "Expert 1"
          ],
          [
           "Expert 1"
          ],
          [
           "Expert 1"
          ],
          [
           "Expert 1"
          ],
          [
           "Expert 1"
          ],
          [
           "Expert 1"
          ],
          [
           "Expert 1"
          ],
          [
           "Expert 1"
          ],
          [
           "Expert 1"
          ],
          [
           "Expert 1"
          ],
          [
           "Expert 1"
          ],
          [
           "Expert 1"
          ],
          [
           "Expert 1"
          ],
          [
           "Expert 1"
          ],
          [
           "Expert 1"
          ],
          [
           "Expert 1"
          ],
          [
           "Expert 1"
          ],
          [
           "Expert 1"
          ],
          [
           "Expert 1"
          ],
          [
           "Expert 1"
          ],
          [
           "Expert 1"
          ],
          [
           "Expert 1"
          ],
          [
           "Expert 1"
          ],
          [
           "Expert 1"
          ],
          [
           "Expert 1"
          ],
          [
           "Expert 1"
          ],
          [
           "Expert 1"
          ],
          [
           "Expert 1"
          ],
          [
           "Expert 1"
          ],
          [
           "Expert 1"
          ],
          [
           "Expert 1"
          ],
          [
           "Expert 1"
          ],
          [
           "Expert 1"
          ],
          [
           "Expert 1"
          ],
          [
           "Expert 1"
          ],
          [
           "Expert 1"
          ],
          [
           "Expert 1"
          ],
          [
           "Expert 1"
          ],
          [
           "Expert 1"
          ],
          [
           "Expert 1"
          ],
          [
           "Expert 1"
          ],
          [
           "Expert 1"
          ],
          [
           "Expert 1"
          ],
          [
           "Expert 1"
          ],
          [
           "Expert 1"
          ],
          [
           "Expert 1"
          ],
          [
           "Expert 1"
          ],
          [
           "Expert 1"
          ],
          [
           "Expert 1"
          ],
          [
           "Expert 1"
          ],
          [
           "Expert 1"
          ],
          [
           "Expert 1"
          ],
          [
           "Expert 1"
          ],
          [
           "Expert 1"
          ],
          [
           "Expert 1"
          ],
          [
           "Expert 1"
          ],
          [
           "Expert 1"
          ],
          [
           "Expert 1"
          ],
          [
           "Expert 1"
          ],
          [
           "Expert 1"
          ],
          [
           "Expert 1"
          ],
          [
           "Expert 1"
          ],
          [
           "Expert 1"
          ],
          [
           "Expert 1"
          ],
          [
           "Expert 1"
          ],
          [
           "Expert 1"
          ],
          [
           "Expert 1"
          ],
          [
           "Expert 1"
          ],
          [
           "Expert 1"
          ],
          [
           "Expert 1"
          ],
          [
           "Expert 1"
          ],
          [
           "Expert 1"
          ],
          [
           "Expert 1"
          ],
          [
           "Expert 1"
          ],
          [
           "Expert 1"
          ],
          [
           "Expert 1"
          ],
          [
           "Expert 1"
          ],
          [
           "Expert 1"
          ],
          [
           "Expert 1"
          ],
          [
           "Expert 1"
          ],
          [
           "Expert 1"
          ],
          [
           "Expert 1"
          ],
          [
           "Expert 1"
          ],
          [
           "Expert 1"
          ],
          [
           "Expert 1"
          ],
          [
           "Expert 1"
          ],
          [
           "Expert 1"
          ],
          [
           "Expert 1"
          ],
          [
           "Expert 1"
          ],
          [
           "Expert 1"
          ],
          [
           "Expert 1"
          ],
          [
           "Expert 1"
          ],
          [
           "Expert 1"
          ],
          [
           "Expert 1"
          ],
          [
           "Expert 1"
          ],
          [
           "Expert 1"
          ],
          [
           "Expert 1"
          ],
          [
           "Expert 1"
          ],
          [
           "Expert 1"
          ],
          [
           "Expert 1"
          ],
          [
           "Expert 1"
          ],
          [
           "Expert 1"
          ],
          [
           "Expert 1"
          ],
          [
           "Expert 1"
          ],
          [
           "Expert 1"
          ],
          [
           "Expert 1"
          ],
          [
           "Expert 1"
          ],
          [
           "Expert 1"
          ],
          [
           "Expert 1"
          ],
          [
           "Expert 1"
          ],
          [
           "Expert 1"
          ],
          [
           "Expert 1"
          ],
          [
           "Expert 1"
          ],
          [
           "Expert 1"
          ],
          [
           "Expert 1"
          ],
          [
           "Expert 1"
          ],
          [
           "Expert 1"
          ],
          [
           "Expert 1"
          ],
          [
           "Expert 1"
          ],
          [
           "Expert 1"
          ],
          [
           "Expert 1"
          ],
          [
           "Expert 1"
          ],
          [
           "Expert 1"
          ],
          [
           "Expert 1"
          ],
          [
           "Expert 1"
          ],
          [
           "Expert 1"
          ],
          [
           "Expert 1"
          ],
          [
           "Expert 1"
          ],
          [
           "Expert 1"
          ],
          [
           "Expert 1"
          ],
          [
           "Expert 1"
          ],
          [
           "Expert 1"
          ],
          [
           "Expert 1"
          ],
          [
           "Expert 1"
          ],
          [
           "Expert 1"
          ],
          [
           "Expert 1"
          ],
          [
           "Expert 1"
          ],
          [
           "Expert 1"
          ],
          [
           "Expert 1"
          ],
          [
           "Expert 1"
          ],
          [
           "Expert 1"
          ],
          [
           "Expert 1"
          ],
          [
           "Expert 1"
          ],
          [
           "Expert 1"
          ],
          [
           "Expert 1"
          ],
          [
           "Expert 1"
          ],
          [
           "Expert 1"
          ],
          [
           "Expert 1"
          ],
          [
           "Expert 1"
          ]
         ],
         "fillcolor": "rgba(255,255,255,0)",
         "hoveron": "points",
         "hovertemplate": "source=%{customdata[0]}<br>condition=%{x}<br>score=%{y}<extra></extra>",
         "legendgroup": "Expert 1",
         "line": {
          "color": "rgba(255,255,255,0)"
         },
         "marker": {
          "color": "red",
          "opacity": 0.5
         },
         "name": "Expert 1",
         "offsetgroup": "Expert 1",
         "orientation": "v",
         "pointpos": 0,
         "showlegend": true,
         "type": "box",
         "x": [
          "LP3.5",
          "LP3.5",
          "LP3.5",
          "LP3.5",
          "LP7",
          "LP7",
          "LP7",
          "LP7",
          "Q1",
          "Q1",
          "Q1",
          "Q1",
          "Q2",
          "Q2",
          "Q2",
          "Q2",
          "Q3",
          "Q3",
          "Q3",
          "Q3",
          "Q4",
          "Q4",
          "Q4",
          "Q4",
          "Q5",
          "Q5",
          "Q5",
          "Q5",
          "Ref",
          "Ref",
          "Ref",
          "Ref",
          "LP3.5",
          "LP3.5",
          "LP3.5",
          "LP3.5",
          "LP7",
          "LP7",
          "LP7",
          "LP7",
          "Q1",
          "Q1",
          "Q1",
          "Q1",
          "Q2",
          "Q2",
          "Q2",
          "Q2",
          "Q3",
          "Q3",
          "Q3",
          "Q3",
          "Q4",
          "Q4",
          "Q4",
          "Q4",
          "Q5",
          "Q5",
          "Q5",
          "Q5",
          "Ref",
          "Ref",
          "Ref",
          "Ref",
          "LP3.5",
          "LP3.5",
          "LP3.5",
          "LP3.5",
          "LP7",
          "LP7",
          "LP7",
          "LP7",
          "Q1",
          "Q1",
          "Q1",
          "Q1",
          "Q2",
          "Q2",
          "Q2",
          "Q2",
          "Q3",
          "Q3",
          "Q3",
          "Q3",
          "Q4",
          "Q4",
          "Q4",
          "Q4",
          "Q5",
          "Q5",
          "Q5",
          "Q5",
          "Ref",
          "Ref",
          "Ref",
          "Ref",
          "LP3.5",
          "LP3.5",
          "LP3.5",
          "LP3.5",
          "LP7",
          "LP7",
          "LP7",
          "LP7",
          "Q1",
          "Q1",
          "Q1",
          "Q1",
          "Q2",
          "Q2",
          "Q2",
          "Q2",
          "Q3",
          "Q3",
          "Q3",
          "Q3",
          "Q4",
          "Q4",
          "Q4",
          "Q4",
          "Q5",
          "Q5",
          "Q5",
          "Q5",
          "Ref",
          "Ref",
          "Ref",
          "Ref",
          "LP3.5",
          "LP3.5",
          "LP3.5",
          "LP3.5",
          "LP7",
          "LP7",
          "LP7",
          "LP7",
          "Q1",
          "Q1",
          "Q1",
          "Q1",
          "Q2",
          "Q2",
          "Q2",
          "Q2",
          "Q3",
          "Q3",
          "Q3",
          "Q3",
          "Q4",
          "Q4",
          "Q4",
          "Q4",
          "Q5",
          "Q5",
          "Q5",
          "Q5",
          "Ref",
          "Ref",
          "Ref",
          "Ref",
          "LP3.5",
          "LP3.5",
          "LP3.5",
          "LP3.5",
          "LP3.5",
          "LP3.5",
          "LP3.5",
          "LP3.5",
          "LP3.5",
          "LP3.5",
          "LP7",
          "LP7",
          "LP7",
          "LP7",
          "LP7",
          "LP7",
          "LP7",
          "LP7",
          "LP7",
          "LP7",
          "Q1",
          "Q1",
          "Q1",
          "Q1",
          "Q1",
          "Q1",
          "Q1",
          "Q1",
          "Q1",
          "Q1",
          "Q2",
          "Q2",
          "Q2",
          "Q2",
          "Q2",
          "Q2",
          "Q2",
          "Q2",
          "Q2",
          "Q2",
          "Q3",
          "Q3",
          "Q3",
          "Q3",
          "Q3",
          "Q3",
          "Q3",
          "Q3",
          "Q3",
          "Q3",
          "Q4",
          "Q4",
          "Q4",
          "Q4",
          "Q4",
          "Q4",
          "Q4",
          "Q4",
          "Q4",
          "Q4",
          "Q5",
          "Q5",
          "Q5",
          "Q5",
          "Q5",
          "Q5",
          "Q5",
          "Q5",
          "Q5",
          "Q5",
          "Ref",
          "Ref",
          "Ref",
          "Ref",
          "Ref",
          "Ref",
          "Ref",
          "Ref",
          "Ref",
          "Ref"
         ],
         "x0": " ",
         "xaxis": "x",
         "y": [
          47,
          17,
          13,
          38,
          66,
          50,
          43,
          60,
          56,
          35,
          35,
          47,
          76,
          46,
          55,
          73,
          90,
          100,
          53,
          83,
          100,
          100,
          100,
          100,
          91,
          100,
          78,
          92,
          94,
          100,
          100,
          92,
          22,
          25,
          11,
          18,
          53,
          43,
          38,
          42,
          44,
          13,
          37,
          28,
          60,
          50,
          54,
          39,
          69,
          57,
          71,
          77,
          78,
          63,
          81,
          49,
          100,
          68,
          79,
          72,
          82,
          100,
          100,
          100,
          55,
          35,
          25,
          16,
          74,
          68,
          42,
          32,
          40,
          16,
          59,
          64,
          54,
          44,
          79,
          85,
          62,
          52,
          75,
          100,
          74,
          87,
          89,
          100,
          100,
          100,
          60,
          100,
          85,
          100,
          100,
          100,
          37,
          15,
          37,
          17,
          65,
          66,
          58,
          42,
          12,
          18,
          49,
          11,
          27,
          26,
          69,
          20,
          32,
          40,
          66,
          29,
          32,
          52,
          78,
          43,
          37,
          56,
          87,
          77,
          100,
          100,
          100,
          100,
          46,
          45,
          17,
          44,
          72,
          78,
          30,
          63,
          32,
          15,
          63,
          67,
          65,
          29,
          61,
          74,
          37,
          47,
          37,
          80,
          61,
          37,
          78,
          83,
          74,
          49,
          100,
          83,
          100,
          100,
          100,
          100,
          20,
          26,
          13,
          22,
          17,
          14,
          59,
          32,
          34,
          21,
          36,
          51,
          63,
          52,
          40,
          45,
          84,
          81,
          54,
          64,
          18,
          18,
          43,
          28,
          29,
          25,
          48,
          33,
          37,
          29,
          45,
          35,
          62,
          38,
          76,
          48,
          62,
          42,
          61,
          44,
          55,
          59,
          59,
          28,
          51,
          62,
          67,
          53,
          69,
          60,
          74,
          60,
          60,
          32,
          75,
          56,
          80,
          74,
          79,
          74,
          100,
          82,
          75,
          85,
          100,
          82,
          87,
          75,
          90,
          65,
          85,
          100,
          100,
          100,
          100,
          100,
          100,
          100,
          100,
          100
         ],
         "y0": " ",
         "yaxis": "y"
        },
        {
         "alignmentgroup": "True",
         "boxpoints": "all",
         "customdata": [
          [
           "Expert 2"
          ],
          [
           "Expert 2"
          ],
          [
           "Expert 2"
          ],
          [
           "Expert 2"
          ],
          [
           "Expert 2"
          ],
          [
           "Expert 2"
          ],
          [
           "Expert 2"
          ],
          [
           "Expert 2"
          ],
          [
           "Expert 2"
          ],
          [
           "Expert 2"
          ],
          [
           "Expert 2"
          ],
          [
           "Expert 2"
          ],
          [
           "Expert 2"
          ],
          [
           "Expert 2"
          ],
          [
           "Expert 2"
          ],
          [
           "Expert 2"
          ],
          [
           "Expert 2"
          ],
          [
           "Expert 2"
          ],
          [
           "Expert 2"
          ],
          [
           "Expert 2"
          ],
          [
           "Expert 2"
          ],
          [
           "Expert 2"
          ],
          [
           "Expert 2"
          ],
          [
           "Expert 2"
          ],
          [
           "Expert 2"
          ],
          [
           "Expert 2"
          ],
          [
           "Expert 2"
          ],
          [
           "Expert 2"
          ],
          [
           "Expert 2"
          ],
          [
           "Expert 2"
          ],
          [
           "Expert 2"
          ],
          [
           "Expert 2"
          ],
          [
           "Expert 2"
          ],
          [
           "Expert 2"
          ],
          [
           "Expert 2"
          ],
          [
           "Expert 2"
          ],
          [
           "Expert 2"
          ],
          [
           "Expert 2"
          ],
          [
           "Expert 2"
          ],
          [
           "Expert 2"
          ],
          [
           "Expert 2"
          ],
          [
           "Expert 2"
          ],
          [
           "Expert 2"
          ],
          [
           "Expert 2"
          ],
          [
           "Expert 2"
          ],
          [
           "Expert 2"
          ],
          [
           "Expert 2"
          ],
          [
           "Expert 2"
          ],
          [
           "Expert 2"
          ],
          [
           "Expert 2"
          ],
          [
           "Expert 2"
          ],
          [
           "Expert 2"
          ],
          [
           "Expert 2"
          ],
          [
           "Expert 2"
          ],
          [
           "Expert 2"
          ],
          [
           "Expert 2"
          ],
          [
           "Expert 2"
          ],
          [
           "Expert 2"
          ],
          [
           "Expert 2"
          ],
          [
           "Expert 2"
          ],
          [
           "Expert 2"
          ],
          [
           "Expert 2"
          ],
          [
           "Expert 2"
          ],
          [
           "Expert 2"
          ],
          [
           "Expert 2"
          ],
          [
           "Expert 2"
          ],
          [
           "Expert 2"
          ],
          [
           "Expert 2"
          ],
          [
           "Expert 2"
          ],
          [
           "Expert 2"
          ],
          [
           "Expert 2"
          ],
          [
           "Expert 2"
          ],
          [
           "Expert 2"
          ],
          [
           "Expert 2"
          ],
          [
           "Expert 2"
          ],
          [
           "Expert 2"
          ],
          [
           "Expert 2"
          ],
          [
           "Expert 2"
          ],
          [
           "Expert 2"
          ],
          [
           "Expert 2"
          ],
          [
           "Expert 2"
          ],
          [
           "Expert 2"
          ],
          [
           "Expert 2"
          ],
          [
           "Expert 2"
          ],
          [
           "Expert 2"
          ],
          [
           "Expert 2"
          ],
          [
           "Expert 2"
          ],
          [
           "Expert 2"
          ],
          [
           "Expert 2"
          ],
          [
           "Expert 2"
          ],
          [
           "Expert 2"
          ],
          [
           "Expert 2"
          ],
          [
           "Expert 2"
          ],
          [
           "Expert 2"
          ],
          [
           "Expert 2"
          ],
          [
           "Expert 2"
          ],
          [
           "Expert 2"
          ],
          [
           "Expert 2"
          ],
          [
           "Expert 2"
          ],
          [
           "Expert 2"
          ],
          [
           "Expert 2"
          ],
          [
           "Expert 2"
          ],
          [
           "Expert 2"
          ],
          [
           "Expert 2"
          ],
          [
           "Expert 2"
          ],
          [
           "Expert 2"
          ],
          [
           "Expert 2"
          ],
          [
           "Expert 2"
          ],
          [
           "Expert 2"
          ],
          [
           "Expert 2"
          ],
          [
           "Expert 2"
          ],
          [
           "Expert 2"
          ],
          [
           "Expert 2"
          ],
          [
           "Expert 2"
          ],
          [
           "Expert 2"
          ],
          [
           "Expert 2"
          ],
          [
           "Expert 2"
          ],
          [
           "Expert 2"
          ],
          [
           "Expert 2"
          ],
          [
           "Expert 2"
          ],
          [
           "Expert 2"
          ],
          [
           "Expert 2"
          ],
          [
           "Expert 2"
          ],
          [
           "Expert 2"
          ],
          [
           "Expert 2"
          ],
          [
           "Expert 2"
          ],
          [
           "Expert 2"
          ],
          [
           "Expert 2"
          ],
          [
           "Expert 2"
          ],
          [
           "Expert 2"
          ],
          [
           "Expert 2"
          ],
          [
           "Expert 2"
          ],
          [
           "Expert 2"
          ],
          [
           "Expert 2"
          ],
          [
           "Expert 2"
          ],
          [
           "Expert 2"
          ],
          [
           "Expert 2"
          ],
          [
           "Expert 2"
          ],
          [
           "Expert 2"
          ],
          [
           "Expert 2"
          ],
          [
           "Expert 2"
          ],
          [
           "Expert 2"
          ],
          [
           "Expert 2"
          ],
          [
           "Expert 2"
          ],
          [
           "Expert 2"
          ],
          [
           "Expert 2"
          ],
          [
           "Expert 2"
          ],
          [
           "Expert 2"
          ],
          [
           "Expert 2"
          ],
          [
           "Expert 2"
          ],
          [
           "Expert 2"
          ],
          [
           "Expert 2"
          ],
          [
           "Expert 2"
          ],
          [
           "Expert 2"
          ],
          [
           "Expert 2"
          ],
          [
           "Expert 2"
          ],
          [
           "Expert 2"
          ],
          [
           "Expert 2"
          ],
          [
           "Expert 2"
          ],
          [
           "Expert 2"
          ],
          [
           "Expert 2"
          ],
          [
           "Expert 2"
          ],
          [
           "Expert 2"
          ],
          [
           "Expert 2"
          ],
          [
           "Expert 2"
          ],
          [
           "Expert 2"
          ],
          [
           "Expert 2"
          ],
          [
           "Expert 2"
          ],
          [
           "Expert 2"
          ],
          [
           "Expert 2"
          ],
          [
           "Expert 2"
          ],
          [
           "Expert 2"
          ],
          [
           "Expert 2"
          ],
          [
           "Expert 2"
          ],
          [
           "Expert 2"
          ],
          [
           "Expert 2"
          ],
          [
           "Expert 2"
          ],
          [
           "Expert 2"
          ],
          [
           "Expert 2"
          ],
          [
           "Expert 2"
          ],
          [
           "Expert 2"
          ],
          [
           "Expert 2"
          ],
          [
           "Expert 2"
          ],
          [
           "Expert 2"
          ],
          [
           "Expert 2"
          ],
          [
           "Expert 2"
          ],
          [
           "Expert 2"
          ],
          [
           "Expert 2"
          ],
          [
           "Expert 2"
          ],
          [
           "Expert 2"
          ],
          [
           "Expert 2"
          ],
          [
           "Expert 2"
          ],
          [
           "Expert 2"
          ],
          [
           "Expert 2"
          ],
          [
           "Expert 2"
          ],
          [
           "Expert 2"
          ],
          [
           "Expert 2"
          ],
          [
           "Expert 2"
          ],
          [
           "Expert 2"
          ],
          [
           "Expert 2"
          ],
          [
           "Expert 2"
          ],
          [
           "Expert 2"
          ],
          [
           "Expert 2"
          ],
          [
           "Expert 2"
          ],
          [
           "Expert 2"
          ],
          [
           "Expert 2"
          ],
          [
           "Expert 2"
          ],
          [
           "Expert 2"
          ],
          [
           "Expert 2"
          ],
          [
           "Expert 2"
          ],
          [
           "Expert 2"
          ],
          [
           "Expert 2"
          ],
          [
           "Expert 2"
          ],
          [
           "Expert 2"
          ],
          [
           "Expert 2"
          ],
          [
           "Expert 2"
          ],
          [
           "Expert 2"
          ],
          [
           "Expert 2"
          ],
          [
           "Expert 2"
          ],
          [
           "Expert 2"
          ],
          [
           "Expert 2"
          ],
          [
           "Expert 2"
          ],
          [
           "Expert 2"
          ],
          [
           "Expert 2"
          ],
          [
           "Expert 2"
          ],
          [
           "Expert 2"
          ],
          [
           "Expert 2"
          ],
          [
           "Expert 2"
          ],
          [
           "Expert 2"
          ],
          [
           "Expert 2"
          ],
          [
           "Expert 2"
          ],
          [
           "Expert 2"
          ],
          [
           "Expert 2"
          ],
          [
           "Expert 2"
          ],
          [
           "Expert 2"
          ],
          [
           "Expert 2"
          ],
          [
           "Expert 2"
          ],
          [
           "Expert 2"
          ],
          [
           "Expert 2"
          ],
          [
           "Expert 2"
          ]
         ],
         "fillcolor": "rgba(255,255,255,0)",
         "hoveron": "points",
         "hovertemplate": "source=%{customdata[0]}<br>condition=%{x}<br>score=%{y}<extra></extra>",
         "legendgroup": "Expert 2",
         "line": {
          "color": "rgba(255,255,255,0)"
         },
         "marker": {
          "color": "blue",
          "opacity": 0.5
         },
         "name": "Expert 2",
         "offsetgroup": "Expert 2",
         "orientation": "v",
         "pointpos": 0,
         "showlegend": true,
         "type": "box",
         "x": [
          "LP3.5",
          "LP3.5",
          "LP3.5",
          "LP3.5",
          "LP7",
          "LP7",
          "LP7",
          "LP7",
          "Q1",
          "Q1",
          "Q1",
          "Q1",
          "Q2",
          "Q2",
          "Q2",
          "Q2",
          "Q3",
          "Q3",
          "Q3",
          "Q3",
          "Q4",
          "Q4",
          "Q4",
          "Q4",
          "Q5",
          "Q5",
          "Q5",
          "Q5",
          "Ref",
          "Ref",
          "Ref",
          "Ref",
          "LP3.5",
          "LP3.5",
          "LP3.5",
          "LP3.5",
          "LP7",
          "LP7",
          "LP7",
          "LP7",
          "Q1",
          "Q1",
          "Q1",
          "Q1",
          "Q2",
          "Q2",
          "Q2",
          "Q2",
          "Q3",
          "Q3",
          "Q3",
          "Q3",
          "Q4",
          "Q4",
          "Q4",
          "Q4",
          "Q5",
          "Q5",
          "Q5",
          "Q5",
          "Ref",
          "Ref",
          "Ref",
          "Ref",
          "LP3.5",
          "LP3.5",
          "LP3.5",
          "LP3.5",
          "LP7",
          "LP7",
          "LP7",
          "LP7",
          "Q1",
          "Q1",
          "Q1",
          "Q1",
          "Q2",
          "Q2",
          "Q2",
          "Q2",
          "Q3",
          "Q3",
          "Q3",
          "Q3",
          "Q4",
          "Q4",
          "Q4",
          "Q4",
          "Q5",
          "Q5",
          "Q5",
          "Q5",
          "Ref",
          "Ref",
          "Ref",
          "Ref",
          "LP3.5",
          "LP3.5",
          "LP3.5",
          "LP3.5",
          "LP7",
          "LP7",
          "LP7",
          "LP7",
          "Q1",
          "Q1",
          "Q1",
          "Q1",
          "Q2",
          "Q2",
          "Q2",
          "Q2",
          "Q3",
          "Q3",
          "Q3",
          "Q3",
          "Q4",
          "Q4",
          "Q4",
          "Q4",
          "Q5",
          "Q5",
          "Q5",
          "Q5",
          "Ref",
          "Ref",
          "Ref",
          "Ref",
          "LP3.5",
          "LP3.5",
          "LP3.5",
          "LP3.5",
          "LP7",
          "LP7",
          "LP7",
          "LP7",
          "Q1",
          "Q1",
          "Q1",
          "Q1",
          "Q2",
          "Q2",
          "Q2",
          "Q2",
          "Q3",
          "Q3",
          "Q3",
          "Q3",
          "Q4",
          "Q4",
          "Q4",
          "Q4",
          "Q5",
          "Q5",
          "Q5",
          "Q5",
          "Ref",
          "Ref",
          "Ref",
          "Ref",
          "LP3.5",
          "LP3.5",
          "LP3.5",
          "LP3.5",
          "LP3.5",
          "LP3.5",
          "LP3.5",
          "LP3.5",
          "LP3.5",
          "LP3.5",
          "LP7",
          "LP7",
          "LP7",
          "LP7",
          "LP7",
          "LP7",
          "LP7",
          "LP7",
          "LP7",
          "LP7",
          "Q1",
          "Q1",
          "Q1",
          "Q1",
          "Q1",
          "Q1",
          "Q1",
          "Q1",
          "Q1",
          "Q1",
          "Q2",
          "Q2",
          "Q2",
          "Q2",
          "Q2",
          "Q2",
          "Q2",
          "Q2",
          "Q2",
          "Q2",
          "Q3",
          "Q3",
          "Q3",
          "Q3",
          "Q3",
          "Q3",
          "Q3",
          "Q3",
          "Q3",
          "Q3",
          "Q4",
          "Q4",
          "Q4",
          "Q4",
          "Q4",
          "Q4",
          "Q4",
          "Q4",
          "Q4",
          "Q4",
          "Q5",
          "Q5",
          "Q5",
          "Q5",
          "Q5",
          "Q5",
          "Q5",
          "Q5",
          "Q5",
          "Q5",
          "Ref",
          "Ref",
          "Ref",
          "Ref",
          "Ref",
          "Ref",
          "Ref",
          "Ref",
          "Ref",
          "Ref"
         ],
         "x0": " ",
         "xaxis": "x",
         "y": [
          5,
          5,
          5,
          5,
          15,
          7,
          7,
          7,
          6,
          6,
          6,
          6,
          30,
          8,
          8,
          8,
          50,
          64,
          45,
          9,
          95,
          72,
          71,
          35,
          100,
          95,
          90,
          95,
          95,
          100,
          100,
          100,
          5,
          5,
          5,
          5,
          6,
          6,
          6,
          6,
          18,
          20,
          10,
          6,
          40,
          62,
          15,
          25,
          45,
          30,
          20,
          40,
          80,
          75,
          50,
          60,
          95,
          70,
          95,
          80,
          100,
          100,
          100,
          100,
          5,
          5,
          5,
          5,
          6,
          7,
          6,
          6,
          23,
          8,
          40,
          45,
          26,
          10,
          35,
          68,
          22,
          8,
          55,
          52,
          73,
          62,
          50,
          80,
          90,
          80,
          90,
          67,
          100,
          100,
          100,
          100,
          5,
          5,
          5,
          5,
          6,
          20,
          6,
          6,
          15,
          1,
          15,
          2,
          40,
          29,
          20,
          20,
          30,
          15,
          45,
          10,
          45,
          37,
          60,
          30,
          65,
          49,
          50,
          50,
          100,
          100,
          100,
          100,
          5,
          5,
          5,
          5,
          6,
          6,
          6,
          6,
          17,
          5,
          20,
          25,
          22,
          6,
          36,
          30,
          51,
          20,
          37,
          60,
          43,
          17,
          85,
          85,
          53,
          30,
          80,
          90,
          100,
          100,
          100,
          100,
          5,
          5,
          5,
          10,
          13,
          5,
          5,
          5,
          5,
          5,
          6,
          7,
          6,
          9,
          15,
          6,
          6,
          6,
          6,
          5,
          5,
          25,
          12,
          15,
          24,
          5,
          23,
          60,
          28,
          5,
          16,
          25,
          46,
          9,
          42,
          50,
          63,
          34,
          70,
          35,
          28,
          35,
          31,
          5,
          31,
          35,
          38,
          41,
          40,
          40,
          40,
          65,
          56,
          5,
          45,
          10,
          28,
          100,
          41,
          40,
          55,
          70,
          67,
          30,
          53,
          100,
          90,
          45,
          57,
          88,
          100,
          100,
          100,
          100,
          100,
          75,
          100,
          50,
          100,
          100
         ],
         "y0": " ",
         "yaxis": "y"
        }
       ],
       "layout": {
        "boxmode": "overlay",
        "legend": {
         "title": {
          "text": "Source"
         },
         "tracegroupgap": 0
        },
        "margin": {
         "t": 60
        },
        "template": {
         "data": {
          "bar": [
           {
            "error_x": {
             "color": "#2a3f5f"
            },
            "error_y": {
             "color": "#2a3f5f"
            },
            "marker": {
             "line": {
              "color": "#E5ECF6",
              "width": 0.5
             },
             "pattern": {
              "fillmode": "overlay",
              "size": 10,
              "solidity": 0.2
             }
            },
            "type": "bar"
           }
          ],
          "barpolar": [
           {
            "marker": {
             "line": {
              "color": "#E5ECF6",
              "width": 0.5
             },
             "pattern": {
              "fillmode": "overlay",
              "size": 10,
              "solidity": 0.2
             }
            },
            "type": "barpolar"
           }
          ],
          "carpet": [
           {
            "aaxis": {
             "endlinecolor": "#2a3f5f",
             "gridcolor": "white",
             "linecolor": "white",
             "minorgridcolor": "white",
             "startlinecolor": "#2a3f5f"
            },
            "baxis": {
             "endlinecolor": "#2a3f5f",
             "gridcolor": "white",
             "linecolor": "white",
             "minorgridcolor": "white",
             "startlinecolor": "#2a3f5f"
            },
            "type": "carpet"
           }
          ],
          "choropleth": [
           {
            "colorbar": {
             "outlinewidth": 0,
             "ticks": ""
            },
            "type": "choropleth"
           }
          ],
          "contour": [
           {
            "colorbar": {
             "outlinewidth": 0,
             "ticks": ""
            },
            "colorscale": [
             [
              0,
              "#0d0887"
             ],
             [
              0.1111111111111111,
              "#46039f"
             ],
             [
              0.2222222222222222,
              "#7201a8"
             ],
             [
              0.3333333333333333,
              "#9c179e"
             ],
             [
              0.4444444444444444,
              "#bd3786"
             ],
             [
              0.5555555555555556,
              "#d8576b"
             ],
             [
              0.6666666666666666,
              "#ed7953"
             ],
             [
              0.7777777777777778,
              "#fb9f3a"
             ],
             [
              0.8888888888888888,
              "#fdca26"
             ],
             [
              1,
              "#f0f921"
             ]
            ],
            "type": "contour"
           }
          ],
          "contourcarpet": [
           {
            "colorbar": {
             "outlinewidth": 0,
             "ticks": ""
            },
            "type": "contourcarpet"
           }
          ],
          "heatmap": [
           {
            "colorbar": {
             "outlinewidth": 0,
             "ticks": ""
            },
            "colorscale": [
             [
              0,
              "#0d0887"
             ],
             [
              0.1111111111111111,
              "#46039f"
             ],
             [
              0.2222222222222222,
              "#7201a8"
             ],
             [
              0.3333333333333333,
              "#9c179e"
             ],
             [
              0.4444444444444444,
              "#bd3786"
             ],
             [
              0.5555555555555556,
              "#d8576b"
             ],
             [
              0.6666666666666666,
              "#ed7953"
             ],
             [
              0.7777777777777778,
              "#fb9f3a"
             ],
             [
              0.8888888888888888,
              "#fdca26"
             ],
             [
              1,
              "#f0f921"
             ]
            ],
            "type": "heatmap"
           }
          ],
          "heatmapgl": [
           {
            "colorbar": {
             "outlinewidth": 0,
             "ticks": ""
            },
            "colorscale": [
             [
              0,
              "#0d0887"
             ],
             [
              0.1111111111111111,
              "#46039f"
             ],
             [
              0.2222222222222222,
              "#7201a8"
             ],
             [
              0.3333333333333333,
              "#9c179e"
             ],
             [
              0.4444444444444444,
              "#bd3786"
             ],
             [
              0.5555555555555556,
              "#d8576b"
             ],
             [
              0.6666666666666666,
              "#ed7953"
             ],
             [
              0.7777777777777778,
              "#fb9f3a"
             ],
             [
              0.8888888888888888,
              "#fdca26"
             ],
             [
              1,
              "#f0f921"
             ]
            ],
            "type": "heatmapgl"
           }
          ],
          "histogram": [
           {
            "marker": {
             "pattern": {
              "fillmode": "overlay",
              "size": 10,
              "solidity": 0.2
             }
            },
            "type": "histogram"
           }
          ],
          "histogram2d": [
           {
            "colorbar": {
             "outlinewidth": 0,
             "ticks": ""
            },
            "colorscale": [
             [
              0,
              "#0d0887"
             ],
             [
              0.1111111111111111,
              "#46039f"
             ],
             [
              0.2222222222222222,
              "#7201a8"
             ],
             [
              0.3333333333333333,
              "#9c179e"
             ],
             [
              0.4444444444444444,
              "#bd3786"
             ],
             [
              0.5555555555555556,
              "#d8576b"
             ],
             [
              0.6666666666666666,
              "#ed7953"
             ],
             [
              0.7777777777777778,
              "#fb9f3a"
             ],
             [
              0.8888888888888888,
              "#fdca26"
             ],
             [
              1,
              "#f0f921"
             ]
            ],
            "type": "histogram2d"
           }
          ],
          "histogram2dcontour": [
           {
            "colorbar": {
             "outlinewidth": 0,
             "ticks": ""
            },
            "colorscale": [
             [
              0,
              "#0d0887"
             ],
             [
              0.1111111111111111,
              "#46039f"
             ],
             [
              0.2222222222222222,
              "#7201a8"
             ],
             [
              0.3333333333333333,
              "#9c179e"
             ],
             [
              0.4444444444444444,
              "#bd3786"
             ],
             [
              0.5555555555555556,
              "#d8576b"
             ],
             [
              0.6666666666666666,
              "#ed7953"
             ],
             [
              0.7777777777777778,
              "#fb9f3a"
             ],
             [
              0.8888888888888888,
              "#fdca26"
             ],
             [
              1,
              "#f0f921"
             ]
            ],
            "type": "histogram2dcontour"
           }
          ],
          "mesh3d": [
           {
            "colorbar": {
             "outlinewidth": 0,
             "ticks": ""
            },
            "type": "mesh3d"
           }
          ],
          "parcoords": [
           {
            "line": {
             "colorbar": {
              "outlinewidth": 0,
              "ticks": ""
             }
            },
            "type": "parcoords"
           }
          ],
          "pie": [
           {
            "automargin": true,
            "type": "pie"
           }
          ],
          "scatter": [
           {
            "fillpattern": {
             "fillmode": "overlay",
             "size": 10,
             "solidity": 0.2
            },
            "type": "scatter"
           }
          ],
          "scatter3d": [
           {
            "line": {
             "colorbar": {
              "outlinewidth": 0,
              "ticks": ""
             }
            },
            "marker": {
             "colorbar": {
              "outlinewidth": 0,
              "ticks": ""
             }
            },
            "type": "scatter3d"
           }
          ],
          "scattercarpet": [
           {
            "marker": {
             "colorbar": {
              "outlinewidth": 0,
              "ticks": ""
             }
            },
            "type": "scattercarpet"
           }
          ],
          "scattergeo": [
           {
            "marker": {
             "colorbar": {
              "outlinewidth": 0,
              "ticks": ""
             }
            },
            "type": "scattergeo"
           }
          ],
          "scattergl": [
           {
            "marker": {
             "colorbar": {
              "outlinewidth": 0,
              "ticks": ""
             }
            },
            "type": "scattergl"
           }
          ],
          "scattermapbox": [
           {
            "marker": {
             "colorbar": {
              "outlinewidth": 0,
              "ticks": ""
             }
            },
            "type": "scattermapbox"
           }
          ],
          "scatterpolar": [
           {
            "marker": {
             "colorbar": {
              "outlinewidth": 0,
              "ticks": ""
             }
            },
            "type": "scatterpolar"
           }
          ],
          "scatterpolargl": [
           {
            "marker": {
             "colorbar": {
              "outlinewidth": 0,
              "ticks": ""
             }
            },
            "type": "scatterpolargl"
           }
          ],
          "scatterternary": [
           {
            "marker": {
             "colorbar": {
              "outlinewidth": 0,
              "ticks": ""
             }
            },
            "type": "scatterternary"
           }
          ],
          "surface": [
           {
            "colorbar": {
             "outlinewidth": 0,
             "ticks": ""
            },
            "colorscale": [
             [
              0,
              "#0d0887"
             ],
             [
              0.1111111111111111,
              "#46039f"
             ],
             [
              0.2222222222222222,
              "#7201a8"
             ],
             [
              0.3333333333333333,
              "#9c179e"
             ],
             [
              0.4444444444444444,
              "#bd3786"
             ],
             [
              0.5555555555555556,
              "#d8576b"
             ],
             [
              0.6666666666666666,
              "#ed7953"
             ],
             [
              0.7777777777777778,
              "#fb9f3a"
             ],
             [
              0.8888888888888888,
              "#fdca26"
             ],
             [
              1,
              "#f0f921"
             ]
            ],
            "type": "surface"
           }
          ],
          "table": [
           {
            "cells": {
             "fill": {
              "color": "#EBF0F8"
             },
             "line": {
              "color": "white"
             }
            },
            "header": {
             "fill": {
              "color": "#C8D4E3"
             },
             "line": {
              "color": "white"
             }
            },
            "type": "table"
           }
          ]
         },
         "layout": {
          "annotationdefaults": {
           "arrowcolor": "#2a3f5f",
           "arrowhead": 0,
           "arrowwidth": 1
          },
          "autotypenumbers": "strict",
          "coloraxis": {
           "colorbar": {
            "outlinewidth": 0,
            "ticks": ""
           }
          },
          "colorscale": {
           "diverging": [
            [
             0,
             "#8e0152"
            ],
            [
             0.1,
             "#c51b7d"
            ],
            [
             0.2,
             "#de77ae"
            ],
            [
             0.3,
             "#f1b6da"
            ],
            [
             0.4,
             "#fde0ef"
            ],
            [
             0.5,
             "#f7f7f7"
            ],
            [
             0.6,
             "#e6f5d0"
            ],
            [
             0.7,
             "#b8e186"
            ],
            [
             0.8,
             "#7fbc41"
            ],
            [
             0.9,
             "#4d9221"
            ],
            [
             1,
             "#276419"
            ]
           ],
           "sequential": [
            [
             0,
             "#0d0887"
            ],
            [
             0.1111111111111111,
             "#46039f"
            ],
            [
             0.2222222222222222,
             "#7201a8"
            ],
            [
             0.3333333333333333,
             "#9c179e"
            ],
            [
             0.4444444444444444,
             "#bd3786"
            ],
            [
             0.5555555555555556,
             "#d8576b"
            ],
            [
             0.6666666666666666,
             "#ed7953"
            ],
            [
             0.7777777777777778,
             "#fb9f3a"
            ],
            [
             0.8888888888888888,
             "#fdca26"
            ],
            [
             1,
             "#f0f921"
            ]
           ],
           "sequentialminus": [
            [
             0,
             "#0d0887"
            ],
            [
             0.1111111111111111,
             "#46039f"
            ],
            [
             0.2222222222222222,
             "#7201a8"
            ],
            [
             0.3333333333333333,
             "#9c179e"
            ],
            [
             0.4444444444444444,
             "#bd3786"
            ],
            [
             0.5555555555555556,
             "#d8576b"
            ],
            [
             0.6666666666666666,
             "#ed7953"
            ],
            [
             0.7777777777777778,
             "#fb9f3a"
            ],
            [
             0.8888888888888888,
             "#fdca26"
            ],
            [
             1,
             "#f0f921"
            ]
           ]
          },
          "colorway": [
           "#636efa",
           "#EF553B",
           "#00cc96",
           "#ab63fa",
           "#FFA15A",
           "#19d3f3",
           "#FF6692",
           "#B6E880",
           "#FF97FF",
           "#FECB52"
          ],
          "font": {
           "color": "#2a3f5f"
          },
          "geo": {
           "bgcolor": "white",
           "lakecolor": "white",
           "landcolor": "#E5ECF6",
           "showlakes": true,
           "showland": true,
           "subunitcolor": "white"
          },
          "hoverlabel": {
           "align": "left"
          },
          "hovermode": "closest",
          "mapbox": {
           "style": "light"
          },
          "paper_bgcolor": "white",
          "plot_bgcolor": "#E5ECF6",
          "polar": {
           "angularaxis": {
            "gridcolor": "white",
            "linecolor": "white",
            "ticks": ""
           },
           "bgcolor": "#E5ECF6",
           "radialaxis": {
            "gridcolor": "white",
            "linecolor": "white",
            "ticks": ""
           }
          },
          "scene": {
           "xaxis": {
            "backgroundcolor": "#E5ECF6",
            "gridcolor": "white",
            "gridwidth": 2,
            "linecolor": "white",
            "showbackground": true,
            "ticks": "",
            "zerolinecolor": "white"
           },
           "yaxis": {
            "backgroundcolor": "#E5ECF6",
            "gridcolor": "white",
            "gridwidth": 2,
            "linecolor": "white",
            "showbackground": true,
            "ticks": "",
            "zerolinecolor": "white"
           },
           "zaxis": {
            "backgroundcolor": "#E5ECF6",
            "gridcolor": "white",
            "gridwidth": 2,
            "linecolor": "white",
            "showbackground": true,
            "ticks": "",
            "zerolinecolor": "white"
           }
          },
          "shapedefaults": {
           "line": {
            "color": "#2a3f5f"
           }
          },
          "ternary": {
           "aaxis": {
            "gridcolor": "white",
            "linecolor": "white",
            "ticks": ""
           },
           "baxis": {
            "gridcolor": "white",
            "linecolor": "white",
            "ticks": ""
           },
           "bgcolor": "#E5ECF6",
           "caxis": {
            "gridcolor": "white",
            "linecolor": "white",
            "ticks": ""
           }
          },
          "title": {
           "x": 0.05
          },
          "xaxis": {
           "automargin": true,
           "gridcolor": "white",
           "linecolor": "white",
           "ticks": "",
           "title": {
            "standoff": 15
           },
           "zerolinecolor": "white",
           "zerolinewidth": 2
          },
          "yaxis": {
           "automargin": true,
           "gridcolor": "white",
           "linecolor": "white",
           "ticks": "",
           "title": {
            "standoff": 15
           },
           "zerolinecolor": "white",
           "zerolinewidth": 2
          }
         }
        },
        "title": {
         "text": "Scores by Condition for Expert 1 and Expert 2"
        },
        "xaxis": {
         "anchor": "y",
         "domain": [
          0,
          1
         ],
         "title": {
          "text": "Condition"
         }
        },
        "yaxis": {
         "anchor": "x",
         "domain": [
          0,
          1
         ],
         "title": {
          "text": "Score"
         }
        }
       }
      }
     },
     "metadata": {},
     "output_type": "display_data"
    }
   ],
   "source": [
    "import plotly.express as px\n",
    "import pandas as pd\n",
    "\n",
    "# Add a column to indicate the source of the data\n",
    "expert1['source'] = 'Expert 1'\n",
    "expert2['source'] = 'Expert 2'\n",
    "\n",
    "# Combine the data\n",
    "combined_data = pd.concat([expert1, expert2])\n",
    "\n",
    "# Define specific colors for each source\n",
    "color_discrete_map = {\n",
    "    'Expert 1': 'red',\n",
    "    'Expert 2': 'blue'\n",
    "}\n",
    "\n",
    "# Plot using Plotly Express\n",
    "fig = px.strip(combined_data, x='condition', y='score', color='source',\n",
    "               stripmode='overlay', hover_data=['source'],\n",
    "               color_discrete_map=color_discrete_map)\n",
    "\n",
    "# Set dots opacity to 50%\n",
    "fig.update_traces(marker=dict(opacity=0.5))\n",
    "\n",
    "fig.update_layout(\n",
    "    title=\"Scores by Condition for Expert 1 and Expert 2\",\n",
    "    xaxis_title=\"Condition\",\n",
    "    yaxis_title=\"Score\",\n",
    "    legend_title=\"Source\"\n",
    ")\n",
    "\n",
    "fig.show()"
   ]
  },
  {
   "cell_type": "code",
   "execution_count": 91,
   "metadata": {},
   "outputs": [
    {
     "data": {
      "application/vnd.plotly.v1+json": {
       "config": {
        "plotlyServerURL": "https://plot.ly"
       },
       "data": [
        {
         "alignmentgroup": "True",
         "boxpoints": "all",
         "customdata": [
          [
           "Student 1"
          ],
          [
           "Student 1"
          ],
          [
           "Student 1"
          ],
          [
           "Student 1"
          ],
          [
           "Student 1"
          ],
          [
           "Student 1"
          ],
          [
           "Student 1"
          ],
          [
           "Student 1"
          ],
          [
           "Student 1"
          ],
          [
           "Student 1"
          ],
          [
           "Student 1"
          ],
          [
           "Student 1"
          ],
          [
           "Student 1"
          ],
          [
           "Student 1"
          ],
          [
           "Student 1"
          ],
          [
           "Student 1"
          ],
          [
           "Student 1"
          ],
          [
           "Student 1"
          ],
          [
           "Student 1"
          ],
          [
           "Student 1"
          ],
          [
           "Student 1"
          ],
          [
           "Student 1"
          ],
          [
           "Student 1"
          ],
          [
           "Student 1"
          ],
          [
           "Student 1"
          ],
          [
           "Student 1"
          ],
          [
           "Student 1"
          ],
          [
           "Student 1"
          ],
          [
           "Student 1"
          ],
          [
           "Student 1"
          ],
          [
           "Student 1"
          ],
          [
           "Student 1"
          ],
          [
           "Student 1"
          ],
          [
           "Student 1"
          ],
          [
           "Student 1"
          ],
          [
           "Student 1"
          ],
          [
           "Student 1"
          ],
          [
           "Student 1"
          ],
          [
           "Student 1"
          ],
          [
           "Student 1"
          ],
          [
           "Student 1"
          ],
          [
           "Student 1"
          ],
          [
           "Student 1"
          ],
          [
           "Student 1"
          ],
          [
           "Student 1"
          ],
          [
           "Student 1"
          ],
          [
           "Student 1"
          ],
          [
           "Student 1"
          ],
          [
           "Student 1"
          ],
          [
           "Student 1"
          ],
          [
           "Student 1"
          ],
          [
           "Student 1"
          ],
          [
           "Student 1"
          ],
          [
           "Student 1"
          ],
          [
           "Student 1"
          ],
          [
           "Student 1"
          ],
          [
           "Student 1"
          ],
          [
           "Student 1"
          ],
          [
           "Student 1"
          ],
          [
           "Student 1"
          ],
          [
           "Student 1"
          ],
          [
           "Student 1"
          ],
          [
           "Student 1"
          ],
          [
           "Student 1"
          ],
          [
           "Student 1"
          ],
          [
           "Student 1"
          ],
          [
           "Student 1"
          ],
          [
           "Student 1"
          ],
          [
           "Student 1"
          ],
          [
           "Student 1"
          ],
          [
           "Student 1"
          ],
          [
           "Student 1"
          ],
          [
           "Student 1"
          ],
          [
           "Student 1"
          ],
          [
           "Student 1"
          ],
          [
           "Student 1"
          ],
          [
           "Student 1"
          ],
          [
           "Student 1"
          ],
          [
           "Student 1"
          ],
          [
           "Student 1"
          ],
          [
           "Student 1"
          ],
          [
           "Student 1"
          ],
          [
           "Student 1"
          ],
          [
           "Student 1"
          ],
          [
           "Student 1"
          ],
          [
           "Student 1"
          ],
          [
           "Student 1"
          ],
          [
           "Student 1"
          ],
          [
           "Student 1"
          ],
          [
           "Student 1"
          ],
          [
           "Student 1"
          ],
          [
           "Student 1"
          ],
          [
           "Student 1"
          ],
          [
           "Student 1"
          ],
          [
           "Student 1"
          ],
          [
           "Student 1"
          ],
          [
           "Student 1"
          ],
          [
           "Student 1"
          ],
          [
           "Student 1"
          ],
          [
           "Student 1"
          ],
          [
           "Student 1"
          ],
          [
           "Student 1"
          ],
          [
           "Student 1"
          ],
          [
           "Student 1"
          ],
          [
           "Student 1"
          ],
          [
           "Student 1"
          ],
          [
           "Student 1"
          ],
          [
           "Student 1"
          ],
          [
           "Student 1"
          ],
          [
           "Student 1"
          ],
          [
           "Student 1"
          ],
          [
           "Student 1"
          ],
          [
           "Student 1"
          ],
          [
           "Student 1"
          ],
          [
           "Student 1"
          ],
          [
           "Student 1"
          ],
          [
           "Student 1"
          ],
          [
           "Student 1"
          ],
          [
           "Student 1"
          ],
          [
           "Student 1"
          ],
          [
           "Student 1"
          ],
          [
           "Student 1"
          ],
          [
           "Student 1"
          ],
          [
           "Student 1"
          ],
          [
           "Student 1"
          ],
          [
           "Student 1"
          ],
          [
           "Student 1"
          ],
          [
           "Student 1"
          ],
          [
           "Student 1"
          ],
          [
           "Student 1"
          ],
          [
           "Student 1"
          ],
          [
           "Student 1"
          ],
          [
           "Student 1"
          ],
          [
           "Student 1"
          ],
          [
           "Student 1"
          ],
          [
           "Student 1"
          ],
          [
           "Student 1"
          ],
          [
           "Student 1"
          ],
          [
           "Student 1"
          ],
          [
           "Student 1"
          ],
          [
           "Student 1"
          ],
          [
           "Student 1"
          ],
          [
           "Student 1"
          ],
          [
           "Student 1"
          ],
          [
           "Student 1"
          ],
          [
           "Student 1"
          ],
          [
           "Student 1"
          ],
          [
           "Student 1"
          ],
          [
           "Student 1"
          ],
          [
           "Student 1"
          ],
          [
           "Student 1"
          ],
          [
           "Student 1"
          ],
          [
           "Student 1"
          ],
          [
           "Student 1"
          ],
          [
           "Student 1"
          ],
          [
           "Student 1"
          ],
          [
           "Student 1"
          ],
          [
           "Student 1"
          ],
          [
           "Student 1"
          ],
          [
           "Student 1"
          ],
          [
           "Student 1"
          ],
          [
           "Student 1"
          ],
          [
           "Student 1"
          ],
          [
           "Student 1"
          ],
          [
           "Student 1"
          ],
          [
           "Student 1"
          ],
          [
           "Student 1"
          ],
          [
           "Student 1"
          ],
          [
           "Student 1"
          ],
          [
           "Student 1"
          ],
          [
           "Student 1"
          ],
          [
           "Student 1"
          ],
          [
           "Student 1"
          ],
          [
           "Student 1"
          ],
          [
           "Student 1"
          ],
          [
           "Student 1"
          ],
          [
           "Student 1"
          ],
          [
           "Student 1"
          ],
          [
           "Student 1"
          ],
          [
           "Student 1"
          ],
          [
           "Student 1"
          ],
          [
           "Student 1"
          ],
          [
           "Student 1"
          ],
          [
           "Student 1"
          ],
          [
           "Student 1"
          ],
          [
           "Student 1"
          ],
          [
           "Student 1"
          ],
          [
           "Student 1"
          ],
          [
           "Student 1"
          ],
          [
           "Student 1"
          ],
          [
           "Student 1"
          ],
          [
           "Student 1"
          ],
          [
           "Student 1"
          ],
          [
           "Student 1"
          ],
          [
           "Student 1"
          ],
          [
           "Student 1"
          ],
          [
           "Student 1"
          ],
          [
           "Student 1"
          ],
          [
           "Student 1"
          ],
          [
           "Student 1"
          ],
          [
           "Student 1"
          ],
          [
           "Student 1"
          ],
          [
           "Student 1"
          ],
          [
           "Student 1"
          ],
          [
           "Student 1"
          ],
          [
           "Student 1"
          ],
          [
           "Student 1"
          ],
          [
           "Student 1"
          ],
          [
           "Student 1"
          ],
          [
           "Student 1"
          ],
          [
           "Student 1"
          ],
          [
           "Student 1"
          ],
          [
           "Student 1"
          ],
          [
           "Student 1"
          ],
          [
           "Student 1"
          ],
          [
           "Student 1"
          ],
          [
           "Student 1"
          ],
          [
           "Student 1"
          ],
          [
           "Student 1"
          ],
          [
           "Student 1"
          ],
          [
           "Student 1"
          ],
          [
           "Student 1"
          ],
          [
           "Student 1"
          ],
          [
           "Student 1"
          ],
          [
           "Student 1"
          ],
          [
           "Student 1"
          ],
          [
           "Student 1"
          ],
          [
           "Student 1"
          ],
          [
           "Student 1"
          ],
          [
           "Student 1"
          ],
          [
           "Student 1"
          ],
          [
           "Student 1"
          ],
          [
           "Student 1"
          ],
          [
           "Student 1"
          ],
          [
           "Student 1"
          ],
          [
           "Student 1"
          ],
          [
           "Student 1"
          ],
          [
           "Student 1"
          ],
          [
           "Student 1"
          ],
          [
           "Student 1"
          ]
         ],
         "fillcolor": "rgba(255,255,255,0)",
         "hoveron": "points",
         "hovertemplate": "source=%{customdata[0]}<br>condition=%{x}<br>score=%{y}<extra></extra>",
         "legendgroup": "Student 1",
         "line": {
          "color": "rgba(255,255,255,0)"
         },
         "marker": {
          "color": "green",
          "opacity": 0.5
         },
         "name": "Student 1",
         "offsetgroup": "Student 1",
         "orientation": "v",
         "pointpos": 0,
         "showlegend": true,
         "type": "box",
         "x": [
          "LP3.5",
          "LP3.5",
          "LP3.5",
          "LP3.5",
          "LP3.5",
          "LP3.5",
          "LP3.5",
          "LP3.5",
          "LP3.5",
          "LP3.5",
          "LP7",
          "LP7",
          "LP7",
          "LP7",
          "LP7",
          "LP7",
          "LP7",
          "LP7",
          "LP7",
          "LP7",
          "Q1",
          "Q1",
          "Q1",
          "Q1",
          "Q1",
          "Q1",
          "Q1",
          "Q1",
          "Q1",
          "Q1",
          "Q2",
          "Q2",
          "Q2",
          "Q2",
          "Q2",
          "Q2",
          "Q2",
          "Q2",
          "Q2",
          "Q2",
          "Q3",
          "Q3",
          "Q3",
          "Q3",
          "Q3",
          "Q3",
          "Q3",
          "Q3",
          "Q3",
          "Q3",
          "Q4",
          "Q4",
          "Q4",
          "Q4",
          "Q4",
          "Q4",
          "Q4",
          "Q4",
          "Q4",
          "Q4",
          "Q5",
          "Q5",
          "Q5",
          "Q5",
          "Q5",
          "Q5",
          "Q5",
          "Q5",
          "Q5",
          "Q5",
          "Ref",
          "Ref",
          "Ref",
          "Ref",
          "Ref",
          "Ref",
          "Ref",
          "Ref",
          "Ref",
          "Ref",
          "LP3.5",
          "LP3.5",
          "LP3.5",
          "LP3.5",
          "LP7",
          "LP7",
          "LP7",
          "LP7",
          "Q1",
          "Q1",
          "Q1",
          "Q1",
          "Q2",
          "Q2",
          "Q2",
          "Q2",
          "Q3",
          "Q3",
          "Q3",
          "Q3",
          "Q4",
          "Q4",
          "Q4",
          "Q4",
          "Q5",
          "Q5",
          "Q5",
          "Q5",
          "Ref",
          "Ref",
          "Ref",
          "Ref",
          "LP3.5",
          "LP3.5",
          "LP3.5",
          "LP3.5",
          "LP7",
          "LP7",
          "LP7",
          "LP7",
          "Q1",
          "Q1",
          "Q1",
          "Q1",
          "Q2",
          "Q2",
          "Q2",
          "Q2",
          "Q3",
          "Q3",
          "Q3",
          "Q3",
          "Q4",
          "Q4",
          "Q4",
          "Q4",
          "Q5",
          "Q5",
          "Q5",
          "Q5",
          "Ref",
          "Ref",
          "Ref",
          "Ref",
          "LP3.5",
          "LP3.5",
          "LP3.5",
          "LP3.5",
          "LP7",
          "LP7",
          "LP7",
          "LP7",
          "Q1",
          "Q1",
          "Q1",
          "Q1",
          "Q2",
          "Q2",
          "Q2",
          "Q2",
          "Q3",
          "Q3",
          "Q3",
          "Q3",
          "Q4",
          "Q4",
          "Q4",
          "Q4",
          "Q5",
          "Q5",
          "Q5",
          "Q5",
          "Ref",
          "Ref",
          "Ref",
          "Ref",
          "LP3.5",
          "LP3.5",
          "LP3.5",
          "LP3.5",
          "LP7",
          "LP7",
          "LP7",
          "LP7",
          "Q1",
          "Q1",
          "Q1",
          "Q1",
          "Q2",
          "Q2",
          "Q2",
          "Q2",
          "Q3",
          "Q3",
          "Q3",
          "Q3",
          "Q4",
          "Q4",
          "Q4",
          "Q4",
          "Q5",
          "Q5",
          "Q5",
          "Q5",
          "Ref",
          "Ref",
          "Ref",
          "Ref",
          "LP3.5",
          "LP3.5",
          "LP3.5",
          "LP3.5",
          "LP7",
          "LP7",
          "LP7",
          "LP7",
          "Q1",
          "Q1",
          "Q1",
          "Q1",
          "Q2",
          "Q2",
          "Q2",
          "Q2",
          "Q3",
          "Q3",
          "Q3",
          "Q3",
          "Q4",
          "Q4",
          "Q4",
          "Q4",
          "Q5",
          "Q5",
          "Q5",
          "Q5",
          "Ref",
          "Ref",
          "Ref",
          "Ref"
         ],
         "x0": " ",
         "xaxis": "x",
         "y": [
          10,
          18,
          13,
          9,
          13,
          19,
          10,
          9,
          15,
          5,
          19,
          29,
          27,
          38,
          22,
          34,
          20,
          15,
          43,
          13,
          28,
          32,
          45,
          24,
          32,
          30,
          31,
          35,
          36,
          19,
          60,
          40,
          40,
          57,
          67,
          46,
          40,
          74,
          84,
          52,
          77,
          80,
          97,
          77,
          83,
          53,
          54,
          53,
          58,
          84,
          68,
          70,
          90,
          82,
          75,
          66,
          67,
          89,
          78,
          68,
          92,
          91,
          69,
          87,
          100,
          96,
          77,
          69,
          95,
          86,
          100,
          100,
          100,
          100,
          99,
          100,
          100,
          100,
          100,
          100,
          7,
          12,
          15,
          8,
          35,
          30,
          24,
          22,
          18,
          20,
          18,
          13,
          41,
          38,
          44,
          67,
          59,
          48,
          50,
          48,
          79,
          80,
          76,
          57,
          100,
          100,
          100,
          100,
          94,
          99,
          77,
          98,
          18,
          25,
          10,
          15,
          19,
          42,
          19,
          23,
          7,
          4,
          55,
          58,
          24,
          34,
          82,
          39,
          28,
          56,
          63,
          75,
          38,
          63,
          99,
          95,
          46,
          83,
          95,
          90,
          100,
          100,
          100,
          100,
          15,
          21,
          13,
          10,
          23,
          33,
          23,
          27,
          34,
          12,
          21,
          37,
          44,
          12,
          71,
          48,
          91,
          46,
          94,
          67,
          90,
          58,
          75,
          88,
          63,
          81,
          40,
          99,
          100,
          100,
          100,
          100,
          12,
          15,
          9,
          12,
          22,
          27,
          16,
          28,
          58,
          9,
          24,
          43,
          78,
          86,
          49,
          68,
          84,
          93,
          79,
          99,
          98,
          69,
          72,
          95,
          93,
          42,
          86,
          87,
          100,
          100,
          100,
          100,
          11,
          14,
          17,
          14,
          24,
          36,
          25,
          25,
          35,
          29,
          43,
          59,
          60,
          46,
          61,
          96,
          66,
          41,
          75,
          94,
          87,
          52,
          67,
          90,
          93,
          69,
          95,
          97,
          100,
          100,
          100,
          100
         ],
         "y0": " ",
         "yaxis": "y"
        },
        {
         "alignmentgroup": "True",
         "boxpoints": "all",
         "customdata": [
          [
           "Student 2"
          ],
          [
           "Student 2"
          ],
          [
           "Student 2"
          ],
          [
           "Student 2"
          ],
          [
           "Student 2"
          ],
          [
           "Student 2"
          ],
          [
           "Student 2"
          ],
          [
           "Student 2"
          ],
          [
           "Student 2"
          ],
          [
           "Student 2"
          ],
          [
           "Student 2"
          ],
          [
           "Student 2"
          ],
          [
           "Student 2"
          ],
          [
           "Student 2"
          ],
          [
           "Student 2"
          ],
          [
           "Student 2"
          ],
          [
           "Student 2"
          ],
          [
           "Student 2"
          ],
          [
           "Student 2"
          ],
          [
           "Student 2"
          ],
          [
           "Student 2"
          ],
          [
           "Student 2"
          ],
          [
           "Student 2"
          ],
          [
           "Student 2"
          ],
          [
           "Student 2"
          ],
          [
           "Student 2"
          ],
          [
           "Student 2"
          ],
          [
           "Student 2"
          ],
          [
           "Student 2"
          ],
          [
           "Student 2"
          ],
          [
           "Student 2"
          ],
          [
           "Student 2"
          ],
          [
           "Student 2"
          ],
          [
           "Student 2"
          ],
          [
           "Student 2"
          ],
          [
           "Student 2"
          ],
          [
           "Student 2"
          ],
          [
           "Student 2"
          ],
          [
           "Student 2"
          ],
          [
           "Student 2"
          ],
          [
           "Student 2"
          ],
          [
           "Student 2"
          ],
          [
           "Student 2"
          ],
          [
           "Student 2"
          ],
          [
           "Student 2"
          ],
          [
           "Student 2"
          ],
          [
           "Student 2"
          ],
          [
           "Student 2"
          ],
          [
           "Student 2"
          ],
          [
           "Student 2"
          ],
          [
           "Student 2"
          ],
          [
           "Student 2"
          ],
          [
           "Student 2"
          ],
          [
           "Student 2"
          ],
          [
           "Student 2"
          ],
          [
           "Student 2"
          ],
          [
           "Student 2"
          ],
          [
           "Student 2"
          ],
          [
           "Student 2"
          ],
          [
           "Student 2"
          ],
          [
           "Student 2"
          ],
          [
           "Student 2"
          ],
          [
           "Student 2"
          ],
          [
           "Student 2"
          ],
          [
           "Student 2"
          ],
          [
           "Student 2"
          ],
          [
           "Student 2"
          ],
          [
           "Student 2"
          ],
          [
           "Student 2"
          ],
          [
           "Student 2"
          ],
          [
           "Student 2"
          ],
          [
           "Student 2"
          ],
          [
           "Student 2"
          ],
          [
           "Student 2"
          ],
          [
           "Student 2"
          ],
          [
           "Student 2"
          ],
          [
           "Student 2"
          ],
          [
           "Student 2"
          ],
          [
           "Student 2"
          ],
          [
           "Student 2"
          ],
          [
           "Student 2"
          ],
          [
           "Student 2"
          ],
          [
           "Student 2"
          ],
          [
           "Student 2"
          ],
          [
           "Student 2"
          ],
          [
           "Student 2"
          ],
          [
           "Student 2"
          ],
          [
           "Student 2"
          ],
          [
           "Student 2"
          ],
          [
           "Student 2"
          ],
          [
           "Student 2"
          ],
          [
           "Student 2"
          ],
          [
           "Student 2"
          ],
          [
           "Student 2"
          ],
          [
           "Student 2"
          ],
          [
           "Student 2"
          ],
          [
           "Student 2"
          ],
          [
           "Student 2"
          ],
          [
           "Student 2"
          ],
          [
           "Student 2"
          ],
          [
           "Student 2"
          ],
          [
           "Student 2"
          ],
          [
           "Student 2"
          ],
          [
           "Student 2"
          ],
          [
           "Student 2"
          ],
          [
           "Student 2"
          ],
          [
           "Student 2"
          ],
          [
           "Student 2"
          ],
          [
           "Student 2"
          ],
          [
           "Student 2"
          ],
          [
           "Student 2"
          ],
          [
           "Student 2"
          ],
          [
           "Student 2"
          ],
          [
           "Student 2"
          ],
          [
           "Student 2"
          ],
          [
           "Student 2"
          ],
          [
           "Student 2"
          ],
          [
           "Student 2"
          ],
          [
           "Student 2"
          ],
          [
           "Student 2"
          ],
          [
           "Student 2"
          ],
          [
           "Student 2"
          ],
          [
           "Student 2"
          ],
          [
           "Student 2"
          ],
          [
           "Student 2"
          ],
          [
           "Student 2"
          ],
          [
           "Student 2"
          ],
          [
           "Student 2"
          ],
          [
           "Student 2"
          ],
          [
           "Student 2"
          ],
          [
           "Student 2"
          ],
          [
           "Student 2"
          ],
          [
           "Student 2"
          ],
          [
           "Student 2"
          ],
          [
           "Student 2"
          ],
          [
           "Student 2"
          ],
          [
           "Student 2"
          ],
          [
           "Student 2"
          ],
          [
           "Student 2"
          ],
          [
           "Student 2"
          ],
          [
           "Student 2"
          ],
          [
           "Student 2"
          ],
          [
           "Student 2"
          ],
          [
           "Student 2"
          ],
          [
           "Student 2"
          ],
          [
           "Student 2"
          ],
          [
           "Student 2"
          ],
          [
           "Student 2"
          ],
          [
           "Student 2"
          ],
          [
           "Student 2"
          ],
          [
           "Student 2"
          ],
          [
           "Student 2"
          ],
          [
           "Student 2"
          ],
          [
           "Student 2"
          ],
          [
           "Student 2"
          ],
          [
           "Student 2"
          ],
          [
           "Student 2"
          ],
          [
           "Student 2"
          ],
          [
           "Student 2"
          ],
          [
           "Student 2"
          ],
          [
           "Student 2"
          ],
          [
           "Student 2"
          ],
          [
           "Student 2"
          ],
          [
           "Student 2"
          ],
          [
           "Student 2"
          ],
          [
           "Student 2"
          ],
          [
           "Student 2"
          ],
          [
           "Student 2"
          ],
          [
           "Student 2"
          ],
          [
           "Student 2"
          ],
          [
           "Student 2"
          ],
          [
           "Student 2"
          ],
          [
           "Student 2"
          ],
          [
           "Student 2"
          ],
          [
           "Student 2"
          ],
          [
           "Student 2"
          ],
          [
           "Student 2"
          ],
          [
           "Student 2"
          ],
          [
           "Student 2"
          ],
          [
           "Student 2"
          ],
          [
           "Student 2"
          ],
          [
           "Student 2"
          ],
          [
           "Student 2"
          ],
          [
           "Student 2"
          ],
          [
           "Student 2"
          ],
          [
           "Student 2"
          ],
          [
           "Student 2"
          ],
          [
           "Student 2"
          ],
          [
           "Student 2"
          ],
          [
           "Student 2"
          ],
          [
           "Student 2"
          ],
          [
           "Student 2"
          ],
          [
           "Student 2"
          ],
          [
           "Student 2"
          ],
          [
           "Student 2"
          ],
          [
           "Student 2"
          ],
          [
           "Student 2"
          ],
          [
           "Student 2"
          ],
          [
           "Student 2"
          ],
          [
           "Student 2"
          ],
          [
           "Student 2"
          ],
          [
           "Student 2"
          ],
          [
           "Student 2"
          ],
          [
           "Student 2"
          ],
          [
           "Student 2"
          ],
          [
           "Student 2"
          ],
          [
           "Student 2"
          ],
          [
           "Student 2"
          ],
          [
           "Student 2"
          ],
          [
           "Student 2"
          ],
          [
           "Student 2"
          ],
          [
           "Student 2"
          ],
          [
           "Student 2"
          ],
          [
           "Student 2"
          ],
          [
           "Student 2"
          ],
          [
           "Student 2"
          ],
          [
           "Student 2"
          ],
          [
           "Student 2"
          ],
          [
           "Student 2"
          ],
          [
           "Student 2"
          ],
          [
           "Student 2"
          ],
          [
           "Student 2"
          ],
          [
           "Student 2"
          ],
          [
           "Student 2"
          ],
          [
           "Student 2"
          ],
          [
           "Student 2"
          ],
          [
           "Student 2"
          ],
          [
           "Student 2"
          ],
          [
           "Student 2"
          ],
          [
           "Student 2"
          ],
          [
           "Student 2"
          ],
          [
           "Student 2"
          ],
          [
           "Student 2"
          ],
          [
           "Student 2"
          ],
          [
           "Student 2"
          ],
          [
           "Student 2"
          ],
          [
           "Student 2"
          ],
          [
           "Student 2"
          ],
          [
           "Student 2"
          ],
          [
           "Student 2"
          ]
         ],
         "fillcolor": "rgba(255,255,255,0)",
         "hoveron": "points",
         "hovertemplate": "source=%{customdata[0]}<br>condition=%{x}<br>score=%{y}<extra></extra>",
         "legendgroup": "Student 2",
         "line": {
          "color": "rgba(255,255,255,0)"
         },
         "marker": {
          "color": "orange",
          "opacity": 0.5
         },
         "name": "Student 2",
         "offsetgroup": "Student 2",
         "orientation": "v",
         "pointpos": 0,
         "showlegend": true,
         "type": "box",
         "x": [
          "LP3.5",
          "LP3.5",
          "LP3.5",
          "LP3.5",
          "LP3.5",
          "LP3.5",
          "LP3.5",
          "LP3.5",
          "LP3.5",
          "LP3.5",
          "LP7",
          "LP7",
          "LP7",
          "LP7",
          "LP7",
          "LP7",
          "LP7",
          "LP7",
          "LP7",
          "LP7",
          "Q1",
          "Q1",
          "Q1",
          "Q1",
          "Q1",
          "Q1",
          "Q1",
          "Q1",
          "Q1",
          "Q1",
          "Q2",
          "Q2",
          "Q2",
          "Q2",
          "Q2",
          "Q2",
          "Q2",
          "Q2",
          "Q2",
          "Q2",
          "Q3",
          "Q3",
          "Q3",
          "Q3",
          "Q3",
          "Q3",
          "Q3",
          "Q3",
          "Q3",
          "Q3",
          "Q4",
          "Q4",
          "Q4",
          "Q4",
          "Q4",
          "Q4",
          "Q4",
          "Q4",
          "Q4",
          "Q4",
          "Q5",
          "Q5",
          "Q5",
          "Q5",
          "Q5",
          "Q5",
          "Q5",
          "Q5",
          "Q5",
          "Q5",
          "Ref",
          "Ref",
          "Ref",
          "Ref",
          "Ref",
          "Ref",
          "Ref",
          "Ref",
          "Ref",
          "Ref",
          "LP3.5",
          "LP3.5",
          "LP3.5",
          "LP3.5",
          "LP7",
          "LP7",
          "LP7",
          "LP7",
          "Q1",
          "Q1",
          "Q1",
          "Q1",
          "Q2",
          "Q2",
          "Q2",
          "Q2",
          "Q3",
          "Q3",
          "Q3",
          "Q3",
          "Q4",
          "Q4",
          "Q4",
          "Q4",
          "Q5",
          "Q5",
          "Q5",
          "Q5",
          "Ref",
          "Ref",
          "Ref",
          "Ref",
          "LP3.5",
          "LP3.5",
          "LP3.5",
          "LP3.5",
          "LP7",
          "LP7",
          "LP7",
          "LP7",
          "Q1",
          "Q1",
          "Q1",
          "Q1",
          "Q2",
          "Q2",
          "Q2",
          "Q2",
          "Q3",
          "Q3",
          "Q3",
          "Q3",
          "Q4",
          "Q4",
          "Q4",
          "Q4",
          "Q5",
          "Q5",
          "Q5",
          "Q5",
          "Ref",
          "Ref",
          "Ref",
          "Ref",
          "LP3.5",
          "LP3.5",
          "LP3.5",
          "LP3.5",
          "LP7",
          "LP7",
          "LP7",
          "LP7",
          "Q1",
          "Q1",
          "Q1",
          "Q1",
          "Q2",
          "Q2",
          "Q2",
          "Q2",
          "Q3",
          "Q3",
          "Q3",
          "Q3",
          "Q4",
          "Q4",
          "Q4",
          "Q4",
          "Q5",
          "Q5",
          "Q5",
          "Q5",
          "Ref",
          "Ref",
          "Ref",
          "Ref",
          "LP3.5",
          "LP3.5",
          "LP3.5",
          "LP3.5",
          "LP7",
          "LP7",
          "LP7",
          "LP7",
          "Q1",
          "Q1",
          "Q1",
          "Q1",
          "Q2",
          "Q2",
          "Q2",
          "Q2",
          "Q3",
          "Q3",
          "Q3",
          "Q3",
          "Q4",
          "Q4",
          "Q4",
          "Q4",
          "Q5",
          "Q5",
          "Q5",
          "Q5",
          "Ref",
          "Ref",
          "Ref",
          "Ref",
          "LP3.5",
          "LP3.5",
          "LP3.5",
          "LP3.5",
          "LP7",
          "LP7",
          "LP7",
          "LP7",
          "Q1",
          "Q1",
          "Q1",
          "Q1",
          "Q2",
          "Q2",
          "Q2",
          "Q2",
          "Q3",
          "Q3",
          "Q3",
          "Q3",
          "Q4",
          "Q4",
          "Q4",
          "Q4",
          "Q5",
          "Q5",
          "Q5",
          "Q5",
          "Ref",
          "Ref",
          "Ref",
          "Ref"
         ],
         "x0": " ",
         "xaxis": "x",
         "y": [
          29,
          30,
          27,
          30,
          33,
          30,
          24,
          25,
          34,
          27,
          38,
          40,
          40,
          47,
          46,
          39,
          31,
          34,
          48,
          38,
          45,
          48,
          61,
          66,
          52,
          49,
          44,
          50,
          63,
          52,
          60,
          59,
          70,
          69,
          63,
          67,
          66,
          66,
          80,
          72,
          71,
          64,
          78,
          82,
          76,
          59,
          71,
          84,
          70,
          78,
          89,
          86,
          86,
          85,
          97,
          75,
          90,
          76,
          82,
          81,
          94,
          92,
          92,
          96,
          84,
          92,
          84,
          74,
          100,
          89,
          100,
          100,
          100,
          100,
          100,
          100,
          100,
          100,
          99,
          100,
          19,
          17,
          21,
          28,
          52,
          46,
          48,
          42,
          30,
          26,
          32,
          38,
          68,
          54,
          57,
          63,
          75,
          70,
          69,
          52,
          81,
          86,
          82,
          70,
          100,
          97,
          95,
          90,
          98,
          100,
          100,
          100,
          23,
          31,
          32,
          24,
          34,
          37,
          44,
          36,
          44,
          42,
          70,
          42,
          53,
          58,
          81,
          50,
          84,
          67,
          78,
          77,
          68,
          72,
          86,
          89,
          87,
          89,
          100,
          95,
          100,
          100,
          95,
          100,
          28,
          20,
          26,
          21,
          40,
          29,
          32,
          28,
          55,
          39,
          37,
          48,
          59,
          54,
          50,
          54,
          89,
          64,
          82,
          61,
          81,
          72,
          88,
          83,
          91,
          85,
          72,
          67,
          100,
          100,
          100,
          100,
          34,
          28,
          24,
          20,
          43,
          37,
          34,
          32,
          63,
          48,
          45,
          49,
          72,
          58,
          51,
          59,
          84,
          73,
          72,
          70,
          90,
          66,
          81,
          85,
          96,
          92,
          90,
          92,
          100,
          100,
          100,
          100,
          24,
          24,
          29,
          26,
          35,
          35,
          35,
          40,
          44,
          41,
          60,
          63,
          58,
          50,
          80,
          78,
          62,
          65,
          83,
          81,
          80,
          72,
          89,
          100,
          94,
          87,
          68,
          98,
          100,
          100,
          100,
          89
         ],
         "y0": " ",
         "yaxis": "y"
        }
       ],
       "layout": {
        "boxmode": "overlay",
        "legend": {
         "title": {
          "text": "Source"
         },
         "tracegroupgap": 0
        },
        "margin": {
         "t": 60
        },
        "template": {
         "data": {
          "bar": [
           {
            "error_x": {
             "color": "#2a3f5f"
            },
            "error_y": {
             "color": "#2a3f5f"
            },
            "marker": {
             "line": {
              "color": "#E5ECF6",
              "width": 0.5
             },
             "pattern": {
              "fillmode": "overlay",
              "size": 10,
              "solidity": 0.2
             }
            },
            "type": "bar"
           }
          ],
          "barpolar": [
           {
            "marker": {
             "line": {
              "color": "#E5ECF6",
              "width": 0.5
             },
             "pattern": {
              "fillmode": "overlay",
              "size": 10,
              "solidity": 0.2
             }
            },
            "type": "barpolar"
           }
          ],
          "carpet": [
           {
            "aaxis": {
             "endlinecolor": "#2a3f5f",
             "gridcolor": "white",
             "linecolor": "white",
             "minorgridcolor": "white",
             "startlinecolor": "#2a3f5f"
            },
            "baxis": {
             "endlinecolor": "#2a3f5f",
             "gridcolor": "white",
             "linecolor": "white",
             "minorgridcolor": "white",
             "startlinecolor": "#2a3f5f"
            },
            "type": "carpet"
           }
          ],
          "choropleth": [
           {
            "colorbar": {
             "outlinewidth": 0,
             "ticks": ""
            },
            "type": "choropleth"
           }
          ],
          "contour": [
           {
            "colorbar": {
             "outlinewidth": 0,
             "ticks": ""
            },
            "colorscale": [
             [
              0,
              "#0d0887"
             ],
             [
              0.1111111111111111,
              "#46039f"
             ],
             [
              0.2222222222222222,
              "#7201a8"
             ],
             [
              0.3333333333333333,
              "#9c179e"
             ],
             [
              0.4444444444444444,
              "#bd3786"
             ],
             [
              0.5555555555555556,
              "#d8576b"
             ],
             [
              0.6666666666666666,
              "#ed7953"
             ],
             [
              0.7777777777777778,
              "#fb9f3a"
             ],
             [
              0.8888888888888888,
              "#fdca26"
             ],
             [
              1,
              "#f0f921"
             ]
            ],
            "type": "contour"
           }
          ],
          "contourcarpet": [
           {
            "colorbar": {
             "outlinewidth": 0,
             "ticks": ""
            },
            "type": "contourcarpet"
           }
          ],
          "heatmap": [
           {
            "colorbar": {
             "outlinewidth": 0,
             "ticks": ""
            },
            "colorscale": [
             [
              0,
              "#0d0887"
             ],
             [
              0.1111111111111111,
              "#46039f"
             ],
             [
              0.2222222222222222,
              "#7201a8"
             ],
             [
              0.3333333333333333,
              "#9c179e"
             ],
             [
              0.4444444444444444,
              "#bd3786"
             ],
             [
              0.5555555555555556,
              "#d8576b"
             ],
             [
              0.6666666666666666,
              "#ed7953"
             ],
             [
              0.7777777777777778,
              "#fb9f3a"
             ],
             [
              0.8888888888888888,
              "#fdca26"
             ],
             [
              1,
              "#f0f921"
             ]
            ],
            "type": "heatmap"
           }
          ],
          "heatmapgl": [
           {
            "colorbar": {
             "outlinewidth": 0,
             "ticks": ""
            },
            "colorscale": [
             [
              0,
              "#0d0887"
             ],
             [
              0.1111111111111111,
              "#46039f"
             ],
             [
              0.2222222222222222,
              "#7201a8"
             ],
             [
              0.3333333333333333,
              "#9c179e"
             ],
             [
              0.4444444444444444,
              "#bd3786"
             ],
             [
              0.5555555555555556,
              "#d8576b"
             ],
             [
              0.6666666666666666,
              "#ed7953"
             ],
             [
              0.7777777777777778,
              "#fb9f3a"
             ],
             [
              0.8888888888888888,
              "#fdca26"
             ],
             [
              1,
              "#f0f921"
             ]
            ],
            "type": "heatmapgl"
           }
          ],
          "histogram": [
           {
            "marker": {
             "pattern": {
              "fillmode": "overlay",
              "size": 10,
              "solidity": 0.2
             }
            },
            "type": "histogram"
           }
          ],
          "histogram2d": [
           {
            "colorbar": {
             "outlinewidth": 0,
             "ticks": ""
            },
            "colorscale": [
             [
              0,
              "#0d0887"
             ],
             [
              0.1111111111111111,
              "#46039f"
             ],
             [
              0.2222222222222222,
              "#7201a8"
             ],
             [
              0.3333333333333333,
              "#9c179e"
             ],
             [
              0.4444444444444444,
              "#bd3786"
             ],
             [
              0.5555555555555556,
              "#d8576b"
             ],
             [
              0.6666666666666666,
              "#ed7953"
             ],
             [
              0.7777777777777778,
              "#fb9f3a"
             ],
             [
              0.8888888888888888,
              "#fdca26"
             ],
             [
              1,
              "#f0f921"
             ]
            ],
            "type": "histogram2d"
           }
          ],
          "histogram2dcontour": [
           {
            "colorbar": {
             "outlinewidth": 0,
             "ticks": ""
            },
            "colorscale": [
             [
              0,
              "#0d0887"
             ],
             [
              0.1111111111111111,
              "#46039f"
             ],
             [
              0.2222222222222222,
              "#7201a8"
             ],
             [
              0.3333333333333333,
              "#9c179e"
             ],
             [
              0.4444444444444444,
              "#bd3786"
             ],
             [
              0.5555555555555556,
              "#d8576b"
             ],
             [
              0.6666666666666666,
              "#ed7953"
             ],
             [
              0.7777777777777778,
              "#fb9f3a"
             ],
             [
              0.8888888888888888,
              "#fdca26"
             ],
             [
              1,
              "#f0f921"
             ]
            ],
            "type": "histogram2dcontour"
           }
          ],
          "mesh3d": [
           {
            "colorbar": {
             "outlinewidth": 0,
             "ticks": ""
            },
            "type": "mesh3d"
           }
          ],
          "parcoords": [
           {
            "line": {
             "colorbar": {
              "outlinewidth": 0,
              "ticks": ""
             }
            },
            "type": "parcoords"
           }
          ],
          "pie": [
           {
            "automargin": true,
            "type": "pie"
           }
          ],
          "scatter": [
           {
            "fillpattern": {
             "fillmode": "overlay",
             "size": 10,
             "solidity": 0.2
            },
            "type": "scatter"
           }
          ],
          "scatter3d": [
           {
            "line": {
             "colorbar": {
              "outlinewidth": 0,
              "ticks": ""
             }
            },
            "marker": {
             "colorbar": {
              "outlinewidth": 0,
              "ticks": ""
             }
            },
            "type": "scatter3d"
           }
          ],
          "scattercarpet": [
           {
            "marker": {
             "colorbar": {
              "outlinewidth": 0,
              "ticks": ""
             }
            },
            "type": "scattercarpet"
           }
          ],
          "scattergeo": [
           {
            "marker": {
             "colorbar": {
              "outlinewidth": 0,
              "ticks": ""
             }
            },
            "type": "scattergeo"
           }
          ],
          "scattergl": [
           {
            "marker": {
             "colorbar": {
              "outlinewidth": 0,
              "ticks": ""
             }
            },
            "type": "scattergl"
           }
          ],
          "scattermapbox": [
           {
            "marker": {
             "colorbar": {
              "outlinewidth": 0,
              "ticks": ""
             }
            },
            "type": "scattermapbox"
           }
          ],
          "scatterpolar": [
           {
            "marker": {
             "colorbar": {
              "outlinewidth": 0,
              "ticks": ""
             }
            },
            "type": "scatterpolar"
           }
          ],
          "scatterpolargl": [
           {
            "marker": {
             "colorbar": {
              "outlinewidth": 0,
              "ticks": ""
             }
            },
            "type": "scatterpolargl"
           }
          ],
          "scatterternary": [
           {
            "marker": {
             "colorbar": {
              "outlinewidth": 0,
              "ticks": ""
             }
            },
            "type": "scatterternary"
           }
          ],
          "surface": [
           {
            "colorbar": {
             "outlinewidth": 0,
             "ticks": ""
            },
            "colorscale": [
             [
              0,
              "#0d0887"
             ],
             [
              0.1111111111111111,
              "#46039f"
             ],
             [
              0.2222222222222222,
              "#7201a8"
             ],
             [
              0.3333333333333333,
              "#9c179e"
             ],
             [
              0.4444444444444444,
              "#bd3786"
             ],
             [
              0.5555555555555556,
              "#d8576b"
             ],
             [
              0.6666666666666666,
              "#ed7953"
             ],
             [
              0.7777777777777778,
              "#fb9f3a"
             ],
             [
              0.8888888888888888,
              "#fdca26"
             ],
             [
              1,
              "#f0f921"
             ]
            ],
            "type": "surface"
           }
          ],
          "table": [
           {
            "cells": {
             "fill": {
              "color": "#EBF0F8"
             },
             "line": {
              "color": "white"
             }
            },
            "header": {
             "fill": {
              "color": "#C8D4E3"
             },
             "line": {
              "color": "white"
             }
            },
            "type": "table"
           }
          ]
         },
         "layout": {
          "annotationdefaults": {
           "arrowcolor": "#2a3f5f",
           "arrowhead": 0,
           "arrowwidth": 1
          },
          "autotypenumbers": "strict",
          "coloraxis": {
           "colorbar": {
            "outlinewidth": 0,
            "ticks": ""
           }
          },
          "colorscale": {
           "diverging": [
            [
             0,
             "#8e0152"
            ],
            [
             0.1,
             "#c51b7d"
            ],
            [
             0.2,
             "#de77ae"
            ],
            [
             0.3,
             "#f1b6da"
            ],
            [
             0.4,
             "#fde0ef"
            ],
            [
             0.5,
             "#f7f7f7"
            ],
            [
             0.6,
             "#e6f5d0"
            ],
            [
             0.7,
             "#b8e186"
            ],
            [
             0.8,
             "#7fbc41"
            ],
            [
             0.9,
             "#4d9221"
            ],
            [
             1,
             "#276419"
            ]
           ],
           "sequential": [
            [
             0,
             "#0d0887"
            ],
            [
             0.1111111111111111,
             "#46039f"
            ],
            [
             0.2222222222222222,
             "#7201a8"
            ],
            [
             0.3333333333333333,
             "#9c179e"
            ],
            [
             0.4444444444444444,
             "#bd3786"
            ],
            [
             0.5555555555555556,
             "#d8576b"
            ],
            [
             0.6666666666666666,
             "#ed7953"
            ],
            [
             0.7777777777777778,
             "#fb9f3a"
            ],
            [
             0.8888888888888888,
             "#fdca26"
            ],
            [
             1,
             "#f0f921"
            ]
           ],
           "sequentialminus": [
            [
             0,
             "#0d0887"
            ],
            [
             0.1111111111111111,
             "#46039f"
            ],
            [
             0.2222222222222222,
             "#7201a8"
            ],
            [
             0.3333333333333333,
             "#9c179e"
            ],
            [
             0.4444444444444444,
             "#bd3786"
            ],
            [
             0.5555555555555556,
             "#d8576b"
            ],
            [
             0.6666666666666666,
             "#ed7953"
            ],
            [
             0.7777777777777778,
             "#fb9f3a"
            ],
            [
             0.8888888888888888,
             "#fdca26"
            ],
            [
             1,
             "#f0f921"
            ]
           ]
          },
          "colorway": [
           "#636efa",
           "#EF553B",
           "#00cc96",
           "#ab63fa",
           "#FFA15A",
           "#19d3f3",
           "#FF6692",
           "#B6E880",
           "#FF97FF",
           "#FECB52"
          ],
          "font": {
           "color": "#2a3f5f"
          },
          "geo": {
           "bgcolor": "white",
           "lakecolor": "white",
           "landcolor": "#E5ECF6",
           "showlakes": true,
           "showland": true,
           "subunitcolor": "white"
          },
          "hoverlabel": {
           "align": "left"
          },
          "hovermode": "closest",
          "mapbox": {
           "style": "light"
          },
          "paper_bgcolor": "white",
          "plot_bgcolor": "#E5ECF6",
          "polar": {
           "angularaxis": {
            "gridcolor": "white",
            "linecolor": "white",
            "ticks": ""
           },
           "bgcolor": "#E5ECF6",
           "radialaxis": {
            "gridcolor": "white",
            "linecolor": "white",
            "ticks": ""
           }
          },
          "scene": {
           "xaxis": {
            "backgroundcolor": "#E5ECF6",
            "gridcolor": "white",
            "gridwidth": 2,
            "linecolor": "white",
            "showbackground": true,
            "ticks": "",
            "zerolinecolor": "white"
           },
           "yaxis": {
            "backgroundcolor": "#E5ECF6",
            "gridcolor": "white",
            "gridwidth": 2,
            "linecolor": "white",
            "showbackground": true,
            "ticks": "",
            "zerolinecolor": "white"
           },
           "zaxis": {
            "backgroundcolor": "#E5ECF6",
            "gridcolor": "white",
            "gridwidth": 2,
            "linecolor": "white",
            "showbackground": true,
            "ticks": "",
            "zerolinecolor": "white"
           }
          },
          "shapedefaults": {
           "line": {
            "color": "#2a3f5f"
           }
          },
          "ternary": {
           "aaxis": {
            "gridcolor": "white",
            "linecolor": "white",
            "ticks": ""
           },
           "baxis": {
            "gridcolor": "white",
            "linecolor": "white",
            "ticks": ""
           },
           "bgcolor": "#E5ECF6",
           "caxis": {
            "gridcolor": "white",
            "linecolor": "white",
            "ticks": ""
           }
          },
          "title": {
           "x": 0.05
          },
          "xaxis": {
           "automargin": true,
           "gridcolor": "white",
           "linecolor": "white",
           "ticks": "",
           "title": {
            "standoff": 15
           },
           "zerolinecolor": "white",
           "zerolinewidth": 2
          },
          "yaxis": {
           "automargin": true,
           "gridcolor": "white",
           "linecolor": "white",
           "ticks": "",
           "title": {
            "standoff": 15
           },
           "zerolinecolor": "white",
           "zerolinewidth": 2
          }
         }
        },
        "title": {
         "text": "Scores by Condition for Student 1 (Cohort 1) and Student 1 (Cohort 2)"
        },
        "xaxis": {
         "anchor": "y",
         "domain": [
          0,
          1
         ],
         "title": {
          "text": "Condition"
         }
        },
        "yaxis": {
         "anchor": "x",
         "domain": [
          0,
          1
         ],
         "title": {
          "text": "Score"
         }
        }
       }
      }
     },
     "metadata": {},
     "output_type": "display_data"
    }
   ],
   "source": [
    "student1['source'] = 'Student 1'\n",
    "student2['source'] = 'Student 2'\n",
    "\n",
    "# Combine the data\n",
    "combined_data = pd.concat([student1, student2])\n",
    "\n",
    "# Define specific colors for each source\n",
    "color_discrete_map = {\n",
    "    'Student 1': 'green',\n",
    "    'Student 2': 'orange'\n",
    "}\n",
    "\n",
    "# Plot using Plotly Express\n",
    "fig = px.strip(combined_data, x='condition', y='score', color='source', \n",
    "               stripmode='overlay', hover_data=['source'],\n",
    "               color_discrete_map=color_discrete_map)\n",
    "\n",
    "# Set dots opacity to 50%\n",
    "fig.update_traces(marker=dict(opacity=0.5))\n",
    "\n",
    "fig.update_layout(\n",
    "    title=\"Scores by Condition for Student 1 (Cohort 1) and Student 1 (Cohort 2)\",\n",
    "    xaxis_title=\"Condition\",\n",
    "    yaxis_title=\"Score\",\n",
    "    legend_title=\"Source\"\n",
    ")\n",
    "\n",
    "fig.show()"
   ]
  },
  {
   "cell_type": "code",
   "execution_count": 92,
   "metadata": {},
   "outputs": [
    {
     "data": {
      "application/vnd.plotly.v1+json": {
       "config": {
        "plotlyServerURL": "https://plot.ly"
       },
       "data": [
        {
         "alignmentgroup": "True",
         "boxpoints": "all",
         "customdata": [
          [
           "Expert 1"
          ],
          [
           "Expert 1"
          ],
          [
           "Expert 1"
          ],
          [
           "Expert 1"
          ],
          [
           "Expert 1"
          ],
          [
           "Expert 1"
          ],
          [
           "Expert 1"
          ],
          [
           "Expert 1"
          ],
          [
           "Expert 1"
          ],
          [
           "Expert 1"
          ],
          [
           "Expert 1"
          ],
          [
           "Expert 1"
          ],
          [
           "Expert 1"
          ],
          [
           "Expert 1"
          ],
          [
           "Expert 1"
          ],
          [
           "Expert 1"
          ],
          [
           "Expert 1"
          ],
          [
           "Expert 1"
          ],
          [
           "Expert 1"
          ],
          [
           "Expert 1"
          ],
          [
           "Expert 1"
          ],
          [
           "Expert 1"
          ],
          [
           "Expert 1"
          ],
          [
           "Expert 1"
          ],
          [
           "Expert 1"
          ],
          [
           "Expert 1"
          ],
          [
           "Expert 1"
          ],
          [
           "Expert 1"
          ],
          [
           "Expert 1"
          ],
          [
           "Expert 1"
          ],
          [
           "Expert 1"
          ],
          [
           "Expert 1"
          ],
          [
           "Expert 1"
          ],
          [
           "Expert 1"
          ],
          [
           "Expert 1"
          ],
          [
           "Expert 1"
          ],
          [
           "Expert 1"
          ],
          [
           "Expert 1"
          ],
          [
           "Expert 1"
          ],
          [
           "Expert 1"
          ],
          [
           "Expert 1"
          ],
          [
           "Expert 1"
          ],
          [
           "Expert 1"
          ],
          [
           "Expert 1"
          ],
          [
           "Expert 1"
          ],
          [
           "Expert 1"
          ],
          [
           "Expert 1"
          ],
          [
           "Expert 1"
          ],
          [
           "Expert 1"
          ],
          [
           "Expert 1"
          ],
          [
           "Expert 1"
          ],
          [
           "Expert 1"
          ],
          [
           "Expert 1"
          ],
          [
           "Expert 1"
          ],
          [
           "Expert 1"
          ],
          [
           "Expert 1"
          ],
          [
           "Expert 1"
          ],
          [
           "Expert 1"
          ],
          [
           "Expert 1"
          ],
          [
           "Expert 1"
          ],
          [
           "Expert 1"
          ],
          [
           "Expert 1"
          ],
          [
           "Expert 1"
          ],
          [
           "Expert 1"
          ],
          [
           "Expert 1"
          ],
          [
           "Expert 1"
          ],
          [
           "Expert 1"
          ],
          [
           "Expert 1"
          ],
          [
           "Expert 1"
          ],
          [
           "Expert 1"
          ],
          [
           "Expert 1"
          ],
          [
           "Expert 1"
          ],
          [
           "Expert 1"
          ],
          [
           "Expert 1"
          ],
          [
           "Expert 1"
          ],
          [
           "Expert 1"
          ],
          [
           "Expert 1"
          ],
          [
           "Expert 1"
          ],
          [
           "Expert 1"
          ],
          [
           "Expert 1"
          ],
          [
           "Expert 1"
          ],
          [
           "Expert 1"
          ],
          [
           "Expert 1"
          ],
          [
           "Expert 1"
          ],
          [
           "Expert 1"
          ],
          [
           "Expert 1"
          ],
          [
           "Expert 1"
          ],
          [
           "Expert 1"
          ],
          [
           "Expert 1"
          ],
          [
           "Expert 1"
          ],
          [
           "Expert 1"
          ],
          [
           "Expert 1"
          ],
          [
           "Expert 1"
          ],
          [
           "Expert 1"
          ],
          [
           "Expert 1"
          ],
          [
           "Expert 1"
          ],
          [
           "Expert 1"
          ],
          [
           "Expert 1"
          ],
          [
           "Expert 1"
          ],
          [
           "Expert 1"
          ],
          [
           "Expert 1"
          ],
          [
           "Expert 1"
          ],
          [
           "Expert 1"
          ],
          [
           "Expert 1"
          ],
          [
           "Expert 1"
          ],
          [
           "Expert 1"
          ],
          [
           "Expert 1"
          ],
          [
           "Expert 1"
          ],
          [
           "Expert 1"
          ],
          [
           "Expert 1"
          ],
          [
           "Expert 1"
          ],
          [
           "Expert 1"
          ],
          [
           "Expert 1"
          ],
          [
           "Expert 1"
          ],
          [
           "Expert 1"
          ],
          [
           "Expert 1"
          ],
          [
           "Expert 1"
          ],
          [
           "Expert 1"
          ],
          [
           "Expert 1"
          ],
          [
           "Expert 1"
          ],
          [
           "Expert 1"
          ],
          [
           "Expert 1"
          ],
          [
           "Expert 1"
          ],
          [
           "Expert 1"
          ],
          [
           "Expert 1"
          ],
          [
           "Expert 1"
          ],
          [
           "Expert 1"
          ],
          [
           "Expert 1"
          ],
          [
           "Expert 1"
          ],
          [
           "Expert 1"
          ],
          [
           "Expert 1"
          ],
          [
           "Expert 1"
          ],
          [
           "Expert 1"
          ],
          [
           "Expert 1"
          ],
          [
           "Expert 1"
          ],
          [
           "Expert 1"
          ],
          [
           "Expert 1"
          ],
          [
           "Expert 1"
          ],
          [
           "Expert 1"
          ],
          [
           "Expert 1"
          ],
          [
           "Expert 1"
          ],
          [
           "Expert 1"
          ],
          [
           "Expert 1"
          ],
          [
           "Expert 1"
          ],
          [
           "Expert 1"
          ],
          [
           "Expert 1"
          ],
          [
           "Expert 1"
          ],
          [
           "Expert 1"
          ],
          [
           "Expert 1"
          ],
          [
           "Expert 1"
          ],
          [
           "Expert 1"
          ],
          [
           "Expert 1"
          ],
          [
           "Expert 1"
          ],
          [
           "Expert 1"
          ],
          [
           "Expert 1"
          ],
          [
           "Expert 1"
          ],
          [
           "Expert 1"
          ],
          [
           "Expert 1"
          ],
          [
           "Expert 1"
          ],
          [
           "Expert 1"
          ],
          [
           "Expert 1"
          ],
          [
           "Expert 1"
          ],
          [
           "Expert 1"
          ],
          [
           "Expert 1"
          ],
          [
           "Expert 1"
          ],
          [
           "Expert 1"
          ],
          [
           "Expert 1"
          ],
          [
           "Expert 1"
          ],
          [
           "Expert 1"
          ],
          [
           "Expert 1"
          ],
          [
           "Expert 1"
          ],
          [
           "Expert 1"
          ],
          [
           "Expert 1"
          ],
          [
           "Expert 1"
          ],
          [
           "Expert 1"
          ],
          [
           "Expert 1"
          ],
          [
           "Expert 1"
          ],
          [
           "Expert 1"
          ],
          [
           "Expert 1"
          ],
          [
           "Expert 1"
          ],
          [
           "Expert 1"
          ],
          [
           "Expert 1"
          ],
          [
           "Expert 1"
          ],
          [
           "Expert 1"
          ],
          [
           "Expert 1"
          ],
          [
           "Expert 1"
          ],
          [
           "Expert 1"
          ],
          [
           "Expert 1"
          ],
          [
           "Expert 1"
          ],
          [
           "Expert 1"
          ],
          [
           "Expert 1"
          ],
          [
           "Expert 1"
          ],
          [
           "Expert 1"
          ],
          [
           "Expert 1"
          ],
          [
           "Expert 1"
          ],
          [
           "Expert 1"
          ],
          [
           "Expert 1"
          ],
          [
           "Expert 1"
          ],
          [
           "Expert 1"
          ],
          [
           "Expert 1"
          ],
          [
           "Expert 1"
          ],
          [
           "Expert 1"
          ],
          [
           "Expert 1"
          ],
          [
           "Expert 1"
          ],
          [
           "Expert 1"
          ],
          [
           "Expert 1"
          ],
          [
           "Expert 1"
          ],
          [
           "Expert 1"
          ],
          [
           "Expert 1"
          ],
          [
           "Expert 1"
          ],
          [
           "Expert 1"
          ],
          [
           "Expert 1"
          ],
          [
           "Expert 1"
          ],
          [
           "Expert 1"
          ],
          [
           "Expert 1"
          ],
          [
           "Expert 1"
          ],
          [
           "Expert 1"
          ],
          [
           "Expert 1"
          ],
          [
           "Expert 1"
          ],
          [
           "Expert 1"
          ],
          [
           "Expert 1"
          ],
          [
           "Expert 1"
          ],
          [
           "Expert 1"
          ],
          [
           "Expert 1"
          ],
          [
           "Expert 1"
          ],
          [
           "Expert 1"
          ],
          [
           "Expert 1"
          ],
          [
           "Expert 1"
          ],
          [
           "Expert 1"
          ],
          [
           "Expert 1"
          ],
          [
           "Expert 1"
          ],
          [
           "Expert 1"
          ],
          [
           "Expert 1"
          ],
          [
           "Expert 1"
          ],
          [
           "Expert 1"
          ],
          [
           "Expert 1"
          ],
          [
           "Expert 1"
          ],
          [
           "Expert 1"
          ],
          [
           "Expert 1"
          ],
          [
           "Expert 1"
          ]
         ],
         "fillcolor": "rgba(255,255,255,0)",
         "hoveron": "points",
         "hovertemplate": "source=%{customdata[0]}<br>condition=%{x}<br>score=%{y}<extra></extra>",
         "legendgroup": "Expert 1",
         "line": {
          "color": "rgba(255,255,255,0)"
         },
         "marker": {
          "color": "red",
          "opacity": 0.5
         },
         "name": "Expert 1",
         "offsetgroup": "Expert 1",
         "orientation": "v",
         "pointpos": 0,
         "showlegend": true,
         "type": "box",
         "x": [
          "LP3.5",
          "LP3.5",
          "LP3.5",
          "LP3.5",
          "LP7",
          "LP7",
          "LP7",
          "LP7",
          "Q1",
          "Q1",
          "Q1",
          "Q1",
          "Q2",
          "Q2",
          "Q2",
          "Q2",
          "Q3",
          "Q3",
          "Q3",
          "Q3",
          "Q4",
          "Q4",
          "Q4",
          "Q4",
          "Q5",
          "Q5",
          "Q5",
          "Q5",
          "Ref",
          "Ref",
          "Ref",
          "Ref",
          "LP3.5",
          "LP3.5",
          "LP3.5",
          "LP3.5",
          "LP7",
          "LP7",
          "LP7",
          "LP7",
          "Q1",
          "Q1",
          "Q1",
          "Q1",
          "Q2",
          "Q2",
          "Q2",
          "Q2",
          "Q3",
          "Q3",
          "Q3",
          "Q3",
          "Q4",
          "Q4",
          "Q4",
          "Q4",
          "Q5",
          "Q5",
          "Q5",
          "Q5",
          "Ref",
          "Ref",
          "Ref",
          "Ref",
          "LP3.5",
          "LP3.5",
          "LP3.5",
          "LP3.5",
          "LP7",
          "LP7",
          "LP7",
          "LP7",
          "Q1",
          "Q1",
          "Q1",
          "Q1",
          "Q2",
          "Q2",
          "Q2",
          "Q2",
          "Q3",
          "Q3",
          "Q3",
          "Q3",
          "Q4",
          "Q4",
          "Q4",
          "Q4",
          "Q5",
          "Q5",
          "Q5",
          "Q5",
          "Ref",
          "Ref",
          "Ref",
          "Ref",
          "LP3.5",
          "LP3.5",
          "LP3.5",
          "LP3.5",
          "LP7",
          "LP7",
          "LP7",
          "LP7",
          "Q1",
          "Q1",
          "Q1",
          "Q1",
          "Q2",
          "Q2",
          "Q2",
          "Q2",
          "Q3",
          "Q3",
          "Q3",
          "Q3",
          "Q4",
          "Q4",
          "Q4",
          "Q4",
          "Q5",
          "Q5",
          "Q5",
          "Q5",
          "Ref",
          "Ref",
          "Ref",
          "Ref",
          "LP3.5",
          "LP3.5",
          "LP3.5",
          "LP3.5",
          "LP7",
          "LP7",
          "LP7",
          "LP7",
          "Q1",
          "Q1",
          "Q1",
          "Q1",
          "Q2",
          "Q2",
          "Q2",
          "Q2",
          "Q3",
          "Q3",
          "Q3",
          "Q3",
          "Q4",
          "Q4",
          "Q4",
          "Q4",
          "Q5",
          "Q5",
          "Q5",
          "Q5",
          "Ref",
          "Ref",
          "Ref",
          "Ref",
          "LP3.5",
          "LP3.5",
          "LP3.5",
          "LP3.5",
          "LP3.5",
          "LP3.5",
          "LP3.5",
          "LP3.5",
          "LP3.5",
          "LP3.5",
          "LP7",
          "LP7",
          "LP7",
          "LP7",
          "LP7",
          "LP7",
          "LP7",
          "LP7",
          "LP7",
          "LP7",
          "Q1",
          "Q1",
          "Q1",
          "Q1",
          "Q1",
          "Q1",
          "Q1",
          "Q1",
          "Q1",
          "Q1",
          "Q2",
          "Q2",
          "Q2",
          "Q2",
          "Q2",
          "Q2",
          "Q2",
          "Q2",
          "Q2",
          "Q2",
          "Q3",
          "Q3",
          "Q3",
          "Q3",
          "Q3",
          "Q3",
          "Q3",
          "Q3",
          "Q3",
          "Q3",
          "Q4",
          "Q4",
          "Q4",
          "Q4",
          "Q4",
          "Q4",
          "Q4",
          "Q4",
          "Q4",
          "Q4",
          "Q5",
          "Q5",
          "Q5",
          "Q5",
          "Q5",
          "Q5",
          "Q5",
          "Q5",
          "Q5",
          "Q5",
          "Ref",
          "Ref",
          "Ref",
          "Ref",
          "Ref",
          "Ref",
          "Ref",
          "Ref",
          "Ref",
          "Ref"
         ],
         "x0": " ",
         "xaxis": "x",
         "y": [
          47,
          17,
          13,
          38,
          66,
          50,
          43,
          60,
          56,
          35,
          35,
          47,
          76,
          46,
          55,
          73,
          90,
          100,
          53,
          83,
          100,
          100,
          100,
          100,
          91,
          100,
          78,
          92,
          94,
          100,
          100,
          92,
          22,
          25,
          11,
          18,
          53,
          43,
          38,
          42,
          44,
          13,
          37,
          28,
          60,
          50,
          54,
          39,
          69,
          57,
          71,
          77,
          78,
          63,
          81,
          49,
          100,
          68,
          79,
          72,
          82,
          100,
          100,
          100,
          55,
          35,
          25,
          16,
          74,
          68,
          42,
          32,
          40,
          16,
          59,
          64,
          54,
          44,
          79,
          85,
          62,
          52,
          75,
          100,
          74,
          87,
          89,
          100,
          100,
          100,
          60,
          100,
          85,
          100,
          100,
          100,
          37,
          15,
          37,
          17,
          65,
          66,
          58,
          42,
          12,
          18,
          49,
          11,
          27,
          26,
          69,
          20,
          32,
          40,
          66,
          29,
          32,
          52,
          78,
          43,
          37,
          56,
          87,
          77,
          100,
          100,
          100,
          100,
          46,
          45,
          17,
          44,
          72,
          78,
          30,
          63,
          32,
          15,
          63,
          67,
          65,
          29,
          61,
          74,
          37,
          47,
          37,
          80,
          61,
          37,
          78,
          83,
          74,
          49,
          100,
          83,
          100,
          100,
          100,
          100,
          20,
          26,
          13,
          22,
          17,
          14,
          59,
          32,
          34,
          21,
          36,
          51,
          63,
          52,
          40,
          45,
          84,
          81,
          54,
          64,
          18,
          18,
          43,
          28,
          29,
          25,
          48,
          33,
          37,
          29,
          45,
          35,
          62,
          38,
          76,
          48,
          62,
          42,
          61,
          44,
          55,
          59,
          59,
          28,
          51,
          62,
          67,
          53,
          69,
          60,
          74,
          60,
          60,
          32,
          75,
          56,
          80,
          74,
          79,
          74,
          100,
          82,
          75,
          85,
          100,
          82,
          87,
          75,
          90,
          65,
          85,
          100,
          100,
          100,
          100,
          100,
          100,
          100,
          100,
          100
         ],
         "y0": " ",
         "yaxis": "y"
        },
        {
         "alignmentgroup": "True",
         "boxpoints": "all",
         "customdata": [
          [
           "Expert 2"
          ],
          [
           "Expert 2"
          ],
          [
           "Expert 2"
          ],
          [
           "Expert 2"
          ],
          [
           "Expert 2"
          ],
          [
           "Expert 2"
          ],
          [
           "Expert 2"
          ],
          [
           "Expert 2"
          ],
          [
           "Expert 2"
          ],
          [
           "Expert 2"
          ],
          [
           "Expert 2"
          ],
          [
           "Expert 2"
          ],
          [
           "Expert 2"
          ],
          [
           "Expert 2"
          ],
          [
           "Expert 2"
          ],
          [
           "Expert 2"
          ],
          [
           "Expert 2"
          ],
          [
           "Expert 2"
          ],
          [
           "Expert 2"
          ],
          [
           "Expert 2"
          ],
          [
           "Expert 2"
          ],
          [
           "Expert 2"
          ],
          [
           "Expert 2"
          ],
          [
           "Expert 2"
          ],
          [
           "Expert 2"
          ],
          [
           "Expert 2"
          ],
          [
           "Expert 2"
          ],
          [
           "Expert 2"
          ],
          [
           "Expert 2"
          ],
          [
           "Expert 2"
          ],
          [
           "Expert 2"
          ],
          [
           "Expert 2"
          ],
          [
           "Expert 2"
          ],
          [
           "Expert 2"
          ],
          [
           "Expert 2"
          ],
          [
           "Expert 2"
          ],
          [
           "Expert 2"
          ],
          [
           "Expert 2"
          ],
          [
           "Expert 2"
          ],
          [
           "Expert 2"
          ],
          [
           "Expert 2"
          ],
          [
           "Expert 2"
          ],
          [
           "Expert 2"
          ],
          [
           "Expert 2"
          ],
          [
           "Expert 2"
          ],
          [
           "Expert 2"
          ],
          [
           "Expert 2"
          ],
          [
           "Expert 2"
          ],
          [
           "Expert 2"
          ],
          [
           "Expert 2"
          ],
          [
           "Expert 2"
          ],
          [
           "Expert 2"
          ],
          [
           "Expert 2"
          ],
          [
           "Expert 2"
          ],
          [
           "Expert 2"
          ],
          [
           "Expert 2"
          ],
          [
           "Expert 2"
          ],
          [
           "Expert 2"
          ],
          [
           "Expert 2"
          ],
          [
           "Expert 2"
          ],
          [
           "Expert 2"
          ],
          [
           "Expert 2"
          ],
          [
           "Expert 2"
          ],
          [
           "Expert 2"
          ],
          [
           "Expert 2"
          ],
          [
           "Expert 2"
          ],
          [
           "Expert 2"
          ],
          [
           "Expert 2"
          ],
          [
           "Expert 2"
          ],
          [
           "Expert 2"
          ],
          [
           "Expert 2"
          ],
          [
           "Expert 2"
          ],
          [
           "Expert 2"
          ],
          [
           "Expert 2"
          ],
          [
           "Expert 2"
          ],
          [
           "Expert 2"
          ],
          [
           "Expert 2"
          ],
          [
           "Expert 2"
          ],
          [
           "Expert 2"
          ],
          [
           "Expert 2"
          ],
          [
           "Expert 2"
          ],
          [
           "Expert 2"
          ],
          [
           "Expert 2"
          ],
          [
           "Expert 2"
          ],
          [
           "Expert 2"
          ],
          [
           "Expert 2"
          ],
          [
           "Expert 2"
          ],
          [
           "Expert 2"
          ],
          [
           "Expert 2"
          ],
          [
           "Expert 2"
          ],
          [
           "Expert 2"
          ],
          [
           "Expert 2"
          ],
          [
           "Expert 2"
          ],
          [
           "Expert 2"
          ],
          [
           "Expert 2"
          ],
          [
           "Expert 2"
          ],
          [
           "Expert 2"
          ],
          [
           "Expert 2"
          ],
          [
           "Expert 2"
          ],
          [
           "Expert 2"
          ],
          [
           "Expert 2"
          ],
          [
           "Expert 2"
          ],
          [
           "Expert 2"
          ],
          [
           "Expert 2"
          ],
          [
           "Expert 2"
          ],
          [
           "Expert 2"
          ],
          [
           "Expert 2"
          ],
          [
           "Expert 2"
          ],
          [
           "Expert 2"
          ],
          [
           "Expert 2"
          ],
          [
           "Expert 2"
          ],
          [
           "Expert 2"
          ],
          [
           "Expert 2"
          ],
          [
           "Expert 2"
          ],
          [
           "Expert 2"
          ],
          [
           "Expert 2"
          ],
          [
           "Expert 2"
          ],
          [
           "Expert 2"
          ],
          [
           "Expert 2"
          ],
          [
           "Expert 2"
          ],
          [
           "Expert 2"
          ],
          [
           "Expert 2"
          ],
          [
           "Expert 2"
          ],
          [
           "Expert 2"
          ],
          [
           "Expert 2"
          ],
          [
           "Expert 2"
          ],
          [
           "Expert 2"
          ],
          [
           "Expert 2"
          ],
          [
           "Expert 2"
          ],
          [
           "Expert 2"
          ],
          [
           "Expert 2"
          ],
          [
           "Expert 2"
          ],
          [
           "Expert 2"
          ],
          [
           "Expert 2"
          ],
          [
           "Expert 2"
          ],
          [
           "Expert 2"
          ],
          [
           "Expert 2"
          ],
          [
           "Expert 2"
          ],
          [
           "Expert 2"
          ],
          [
           "Expert 2"
          ],
          [
           "Expert 2"
          ],
          [
           "Expert 2"
          ],
          [
           "Expert 2"
          ],
          [
           "Expert 2"
          ],
          [
           "Expert 2"
          ],
          [
           "Expert 2"
          ],
          [
           "Expert 2"
          ],
          [
           "Expert 2"
          ],
          [
           "Expert 2"
          ],
          [
           "Expert 2"
          ],
          [
           "Expert 2"
          ],
          [
           "Expert 2"
          ],
          [
           "Expert 2"
          ],
          [
           "Expert 2"
          ],
          [
           "Expert 2"
          ],
          [
           "Expert 2"
          ],
          [
           "Expert 2"
          ],
          [
           "Expert 2"
          ],
          [
           "Expert 2"
          ],
          [
           "Expert 2"
          ],
          [
           "Expert 2"
          ],
          [
           "Expert 2"
          ],
          [
           "Expert 2"
          ],
          [
           "Expert 2"
          ],
          [
           "Expert 2"
          ],
          [
           "Expert 2"
          ],
          [
           "Expert 2"
          ],
          [
           "Expert 2"
          ],
          [
           "Expert 2"
          ],
          [
           "Expert 2"
          ],
          [
           "Expert 2"
          ],
          [
           "Expert 2"
          ],
          [
           "Expert 2"
          ],
          [
           "Expert 2"
          ],
          [
           "Expert 2"
          ],
          [
           "Expert 2"
          ],
          [
           "Expert 2"
          ],
          [
           "Expert 2"
          ],
          [
           "Expert 2"
          ],
          [
           "Expert 2"
          ],
          [
           "Expert 2"
          ],
          [
           "Expert 2"
          ],
          [
           "Expert 2"
          ],
          [
           "Expert 2"
          ],
          [
           "Expert 2"
          ],
          [
           "Expert 2"
          ],
          [
           "Expert 2"
          ],
          [
           "Expert 2"
          ],
          [
           "Expert 2"
          ],
          [
           "Expert 2"
          ],
          [
           "Expert 2"
          ],
          [
           "Expert 2"
          ],
          [
           "Expert 2"
          ],
          [
           "Expert 2"
          ],
          [
           "Expert 2"
          ],
          [
           "Expert 2"
          ],
          [
           "Expert 2"
          ],
          [
           "Expert 2"
          ],
          [
           "Expert 2"
          ],
          [
           "Expert 2"
          ],
          [
           "Expert 2"
          ],
          [
           "Expert 2"
          ],
          [
           "Expert 2"
          ],
          [
           "Expert 2"
          ],
          [
           "Expert 2"
          ],
          [
           "Expert 2"
          ],
          [
           "Expert 2"
          ],
          [
           "Expert 2"
          ],
          [
           "Expert 2"
          ],
          [
           "Expert 2"
          ],
          [
           "Expert 2"
          ],
          [
           "Expert 2"
          ],
          [
           "Expert 2"
          ],
          [
           "Expert 2"
          ],
          [
           "Expert 2"
          ],
          [
           "Expert 2"
          ],
          [
           "Expert 2"
          ],
          [
           "Expert 2"
          ],
          [
           "Expert 2"
          ],
          [
           "Expert 2"
          ],
          [
           "Expert 2"
          ],
          [
           "Expert 2"
          ],
          [
           "Expert 2"
          ],
          [
           "Expert 2"
          ],
          [
           "Expert 2"
          ],
          [
           "Expert 2"
          ],
          [
           "Expert 2"
          ],
          [
           "Expert 2"
          ],
          [
           "Expert 2"
          ],
          [
           "Expert 2"
          ],
          [
           "Expert 2"
          ],
          [
           "Expert 2"
          ],
          [
           "Expert 2"
          ],
          [
           "Expert 2"
          ],
          [
           "Expert 2"
          ],
          [
           "Expert 2"
          ],
          [
           "Expert 2"
          ],
          [
           "Expert 2"
          ],
          [
           "Expert 2"
          ],
          [
           "Expert 2"
          ]
         ],
         "fillcolor": "rgba(255,255,255,0)",
         "hoveron": "points",
         "hovertemplate": "source=%{customdata[0]}<br>condition=%{x}<br>score=%{y}<extra></extra>",
         "legendgroup": "Expert 2",
         "line": {
          "color": "rgba(255,255,255,0)"
         },
         "marker": {
          "color": "blue",
          "opacity": 0.5
         },
         "name": "Expert 2",
         "offsetgroup": "Expert 2",
         "orientation": "v",
         "pointpos": 0,
         "showlegend": true,
         "type": "box",
         "x": [
          "LP3.5",
          "LP3.5",
          "LP3.5",
          "LP3.5",
          "LP7",
          "LP7",
          "LP7",
          "LP7",
          "Q1",
          "Q1",
          "Q1",
          "Q1",
          "Q2",
          "Q2",
          "Q2",
          "Q2",
          "Q3",
          "Q3",
          "Q3",
          "Q3",
          "Q4",
          "Q4",
          "Q4",
          "Q4",
          "Q5",
          "Q5",
          "Q5",
          "Q5",
          "Ref",
          "Ref",
          "Ref",
          "Ref",
          "LP3.5",
          "LP3.5",
          "LP3.5",
          "LP3.5",
          "LP7",
          "LP7",
          "LP7",
          "LP7",
          "Q1",
          "Q1",
          "Q1",
          "Q1",
          "Q2",
          "Q2",
          "Q2",
          "Q2",
          "Q3",
          "Q3",
          "Q3",
          "Q3",
          "Q4",
          "Q4",
          "Q4",
          "Q4",
          "Q5",
          "Q5",
          "Q5",
          "Q5",
          "Ref",
          "Ref",
          "Ref",
          "Ref",
          "LP3.5",
          "LP3.5",
          "LP3.5",
          "LP3.5",
          "LP7",
          "LP7",
          "LP7",
          "LP7",
          "Q1",
          "Q1",
          "Q1",
          "Q1",
          "Q2",
          "Q2",
          "Q2",
          "Q2",
          "Q3",
          "Q3",
          "Q3",
          "Q3",
          "Q4",
          "Q4",
          "Q4",
          "Q4",
          "Q5",
          "Q5",
          "Q5",
          "Q5",
          "Ref",
          "Ref",
          "Ref",
          "Ref",
          "LP3.5",
          "LP3.5",
          "LP3.5",
          "LP3.5",
          "LP7",
          "LP7",
          "LP7",
          "LP7",
          "Q1",
          "Q1",
          "Q1",
          "Q1",
          "Q2",
          "Q2",
          "Q2",
          "Q2",
          "Q3",
          "Q3",
          "Q3",
          "Q3",
          "Q4",
          "Q4",
          "Q4",
          "Q4",
          "Q5",
          "Q5",
          "Q5",
          "Q5",
          "Ref",
          "Ref",
          "Ref",
          "Ref",
          "LP3.5",
          "LP3.5",
          "LP3.5",
          "LP3.5",
          "LP7",
          "LP7",
          "LP7",
          "LP7",
          "Q1",
          "Q1",
          "Q1",
          "Q1",
          "Q2",
          "Q2",
          "Q2",
          "Q2",
          "Q3",
          "Q3",
          "Q3",
          "Q3",
          "Q4",
          "Q4",
          "Q4",
          "Q4",
          "Q5",
          "Q5",
          "Q5",
          "Q5",
          "Ref",
          "Ref",
          "Ref",
          "Ref",
          "LP3.5",
          "LP3.5",
          "LP3.5",
          "LP3.5",
          "LP3.5",
          "LP3.5",
          "LP3.5",
          "LP3.5",
          "LP3.5",
          "LP3.5",
          "LP7",
          "LP7",
          "LP7",
          "LP7",
          "LP7",
          "LP7",
          "LP7",
          "LP7",
          "LP7",
          "LP7",
          "Q1",
          "Q1",
          "Q1",
          "Q1",
          "Q1",
          "Q1",
          "Q1",
          "Q1",
          "Q1",
          "Q1",
          "Q2",
          "Q2",
          "Q2",
          "Q2",
          "Q2",
          "Q2",
          "Q2",
          "Q2",
          "Q2",
          "Q2",
          "Q3",
          "Q3",
          "Q3",
          "Q3",
          "Q3",
          "Q3",
          "Q3",
          "Q3",
          "Q3",
          "Q3",
          "Q4",
          "Q4",
          "Q4",
          "Q4",
          "Q4",
          "Q4",
          "Q4",
          "Q4",
          "Q4",
          "Q4",
          "Q5",
          "Q5",
          "Q5",
          "Q5",
          "Q5",
          "Q5",
          "Q5",
          "Q5",
          "Q5",
          "Q5",
          "Ref",
          "Ref",
          "Ref",
          "Ref",
          "Ref",
          "Ref",
          "Ref",
          "Ref",
          "Ref",
          "Ref"
         ],
         "x0": " ",
         "xaxis": "x",
         "y": [
          5,
          5,
          5,
          5,
          15,
          7,
          7,
          7,
          6,
          6,
          6,
          6,
          30,
          8,
          8,
          8,
          50,
          64,
          45,
          9,
          95,
          72,
          71,
          35,
          100,
          95,
          90,
          95,
          95,
          100,
          100,
          100,
          5,
          5,
          5,
          5,
          6,
          6,
          6,
          6,
          18,
          20,
          10,
          6,
          40,
          62,
          15,
          25,
          45,
          30,
          20,
          40,
          80,
          75,
          50,
          60,
          95,
          70,
          95,
          80,
          100,
          100,
          100,
          100,
          5,
          5,
          5,
          5,
          6,
          7,
          6,
          6,
          23,
          8,
          40,
          45,
          26,
          10,
          35,
          68,
          22,
          8,
          55,
          52,
          73,
          62,
          50,
          80,
          90,
          80,
          90,
          67,
          100,
          100,
          100,
          100,
          5,
          5,
          5,
          5,
          6,
          20,
          6,
          6,
          15,
          1,
          15,
          2,
          40,
          29,
          20,
          20,
          30,
          15,
          45,
          10,
          45,
          37,
          60,
          30,
          65,
          49,
          50,
          50,
          100,
          100,
          100,
          100,
          5,
          5,
          5,
          5,
          6,
          6,
          6,
          6,
          17,
          5,
          20,
          25,
          22,
          6,
          36,
          30,
          51,
          20,
          37,
          60,
          43,
          17,
          85,
          85,
          53,
          30,
          80,
          90,
          100,
          100,
          100,
          100,
          5,
          5,
          5,
          10,
          13,
          5,
          5,
          5,
          5,
          5,
          6,
          7,
          6,
          9,
          15,
          6,
          6,
          6,
          6,
          5,
          5,
          25,
          12,
          15,
          24,
          5,
          23,
          60,
          28,
          5,
          16,
          25,
          46,
          9,
          42,
          50,
          63,
          34,
          70,
          35,
          28,
          35,
          31,
          5,
          31,
          35,
          38,
          41,
          40,
          40,
          40,
          65,
          56,
          5,
          45,
          10,
          28,
          100,
          41,
          40,
          55,
          70,
          67,
          30,
          53,
          100,
          90,
          45,
          57,
          88,
          100,
          100,
          100,
          100,
          100,
          75,
          100,
          50,
          100,
          100
         ],
         "y0": " ",
         "yaxis": "y"
        },
        {
         "alignmentgroup": "True",
         "boxpoints": "all",
         "customdata": [
          [
           "Student 1"
          ],
          [
           "Student 1"
          ],
          [
           "Student 1"
          ],
          [
           "Student 1"
          ],
          [
           "Student 1"
          ],
          [
           "Student 1"
          ],
          [
           "Student 1"
          ],
          [
           "Student 1"
          ],
          [
           "Student 1"
          ],
          [
           "Student 1"
          ],
          [
           "Student 1"
          ],
          [
           "Student 1"
          ],
          [
           "Student 1"
          ],
          [
           "Student 1"
          ],
          [
           "Student 1"
          ],
          [
           "Student 1"
          ],
          [
           "Student 1"
          ],
          [
           "Student 1"
          ],
          [
           "Student 1"
          ],
          [
           "Student 1"
          ],
          [
           "Student 1"
          ],
          [
           "Student 1"
          ],
          [
           "Student 1"
          ],
          [
           "Student 1"
          ],
          [
           "Student 1"
          ],
          [
           "Student 1"
          ],
          [
           "Student 1"
          ],
          [
           "Student 1"
          ],
          [
           "Student 1"
          ],
          [
           "Student 1"
          ],
          [
           "Student 1"
          ],
          [
           "Student 1"
          ],
          [
           "Student 1"
          ],
          [
           "Student 1"
          ],
          [
           "Student 1"
          ],
          [
           "Student 1"
          ],
          [
           "Student 1"
          ],
          [
           "Student 1"
          ],
          [
           "Student 1"
          ],
          [
           "Student 1"
          ],
          [
           "Student 1"
          ],
          [
           "Student 1"
          ],
          [
           "Student 1"
          ],
          [
           "Student 1"
          ],
          [
           "Student 1"
          ],
          [
           "Student 1"
          ],
          [
           "Student 1"
          ],
          [
           "Student 1"
          ],
          [
           "Student 1"
          ],
          [
           "Student 1"
          ],
          [
           "Student 1"
          ],
          [
           "Student 1"
          ],
          [
           "Student 1"
          ],
          [
           "Student 1"
          ],
          [
           "Student 1"
          ],
          [
           "Student 1"
          ],
          [
           "Student 1"
          ],
          [
           "Student 1"
          ],
          [
           "Student 1"
          ],
          [
           "Student 1"
          ],
          [
           "Student 1"
          ],
          [
           "Student 1"
          ],
          [
           "Student 1"
          ],
          [
           "Student 1"
          ],
          [
           "Student 1"
          ],
          [
           "Student 1"
          ],
          [
           "Student 1"
          ],
          [
           "Student 1"
          ],
          [
           "Student 1"
          ],
          [
           "Student 1"
          ],
          [
           "Student 1"
          ],
          [
           "Student 1"
          ],
          [
           "Student 1"
          ],
          [
           "Student 1"
          ],
          [
           "Student 1"
          ],
          [
           "Student 1"
          ],
          [
           "Student 1"
          ],
          [
           "Student 1"
          ],
          [
           "Student 1"
          ],
          [
           "Student 1"
          ],
          [
           "Student 1"
          ],
          [
           "Student 1"
          ],
          [
           "Student 1"
          ],
          [
           "Student 1"
          ],
          [
           "Student 1"
          ],
          [
           "Student 1"
          ],
          [
           "Student 1"
          ],
          [
           "Student 1"
          ],
          [
           "Student 1"
          ],
          [
           "Student 1"
          ],
          [
           "Student 1"
          ],
          [
           "Student 1"
          ],
          [
           "Student 1"
          ],
          [
           "Student 1"
          ],
          [
           "Student 1"
          ],
          [
           "Student 1"
          ],
          [
           "Student 1"
          ],
          [
           "Student 1"
          ],
          [
           "Student 1"
          ],
          [
           "Student 1"
          ],
          [
           "Student 1"
          ],
          [
           "Student 1"
          ],
          [
           "Student 1"
          ],
          [
           "Student 1"
          ],
          [
           "Student 1"
          ],
          [
           "Student 1"
          ],
          [
           "Student 1"
          ],
          [
           "Student 1"
          ],
          [
           "Student 1"
          ],
          [
           "Student 1"
          ],
          [
           "Student 1"
          ],
          [
           "Student 1"
          ],
          [
           "Student 1"
          ],
          [
           "Student 1"
          ],
          [
           "Student 1"
          ],
          [
           "Student 1"
          ],
          [
           "Student 1"
          ],
          [
           "Student 1"
          ],
          [
           "Student 1"
          ],
          [
           "Student 1"
          ],
          [
           "Student 1"
          ],
          [
           "Student 1"
          ],
          [
           "Student 1"
          ],
          [
           "Student 1"
          ],
          [
           "Student 1"
          ],
          [
           "Student 1"
          ],
          [
           "Student 1"
          ],
          [
           "Student 1"
          ],
          [
           "Student 1"
          ],
          [
           "Student 1"
          ],
          [
           "Student 1"
          ],
          [
           "Student 1"
          ],
          [
           "Student 1"
          ],
          [
           "Student 1"
          ],
          [
           "Student 1"
          ],
          [
           "Student 1"
          ],
          [
           "Student 1"
          ],
          [
           "Student 1"
          ],
          [
           "Student 1"
          ],
          [
           "Student 1"
          ],
          [
           "Student 1"
          ],
          [
           "Student 1"
          ],
          [
           "Student 1"
          ],
          [
           "Student 1"
          ],
          [
           "Student 1"
          ],
          [
           "Student 1"
          ],
          [
           "Student 1"
          ],
          [
           "Student 1"
          ],
          [
           "Student 1"
          ],
          [
           "Student 1"
          ],
          [
           "Student 1"
          ],
          [
           "Student 1"
          ],
          [
           "Student 1"
          ],
          [
           "Student 1"
          ],
          [
           "Student 1"
          ],
          [
           "Student 1"
          ],
          [
           "Student 1"
          ],
          [
           "Student 1"
          ],
          [
           "Student 1"
          ],
          [
           "Student 1"
          ],
          [
           "Student 1"
          ],
          [
           "Student 1"
          ],
          [
           "Student 1"
          ],
          [
           "Student 1"
          ],
          [
           "Student 1"
          ],
          [
           "Student 1"
          ],
          [
           "Student 1"
          ],
          [
           "Student 1"
          ],
          [
           "Student 1"
          ],
          [
           "Student 1"
          ],
          [
           "Student 1"
          ],
          [
           "Student 1"
          ],
          [
           "Student 1"
          ],
          [
           "Student 1"
          ],
          [
           "Student 1"
          ],
          [
           "Student 1"
          ],
          [
           "Student 1"
          ],
          [
           "Student 1"
          ],
          [
           "Student 1"
          ],
          [
           "Student 1"
          ],
          [
           "Student 1"
          ],
          [
           "Student 1"
          ],
          [
           "Student 1"
          ],
          [
           "Student 1"
          ],
          [
           "Student 1"
          ],
          [
           "Student 1"
          ],
          [
           "Student 1"
          ],
          [
           "Student 1"
          ],
          [
           "Student 1"
          ],
          [
           "Student 1"
          ],
          [
           "Student 1"
          ],
          [
           "Student 1"
          ],
          [
           "Student 1"
          ],
          [
           "Student 1"
          ],
          [
           "Student 1"
          ],
          [
           "Student 1"
          ],
          [
           "Student 1"
          ],
          [
           "Student 1"
          ],
          [
           "Student 1"
          ],
          [
           "Student 1"
          ],
          [
           "Student 1"
          ],
          [
           "Student 1"
          ],
          [
           "Student 1"
          ],
          [
           "Student 1"
          ],
          [
           "Student 1"
          ],
          [
           "Student 1"
          ],
          [
           "Student 1"
          ],
          [
           "Student 1"
          ],
          [
           "Student 1"
          ],
          [
           "Student 1"
          ],
          [
           "Student 1"
          ],
          [
           "Student 1"
          ],
          [
           "Student 1"
          ],
          [
           "Student 1"
          ],
          [
           "Student 1"
          ],
          [
           "Student 1"
          ],
          [
           "Student 1"
          ],
          [
           "Student 1"
          ],
          [
           "Student 1"
          ],
          [
           "Student 1"
          ],
          [
           "Student 1"
          ],
          [
           "Student 1"
          ],
          [
           "Student 1"
          ],
          [
           "Student 1"
          ],
          [
           "Student 1"
          ],
          [
           "Student 1"
          ],
          [
           "Student 1"
          ],
          [
           "Student 1"
          ],
          [
           "Student 1"
          ],
          [
           "Student 1"
          ],
          [
           "Student 1"
          ],
          [
           "Student 1"
          ],
          [
           "Student 1"
          ],
          [
           "Student 1"
          ],
          [
           "Student 1"
          ],
          [
           "Student 1"
          ],
          [
           "Student 1"
          ],
          [
           "Student 1"
          ],
          [
           "Student 1"
          ],
          [
           "Student 1"
          ]
         ],
         "fillcolor": "rgba(255,255,255,0)",
         "hoveron": "points",
         "hovertemplate": "source=%{customdata[0]}<br>condition=%{x}<br>score=%{y}<extra></extra>",
         "legendgroup": "Student 1",
         "line": {
          "color": "rgba(255,255,255,0)"
         },
         "marker": {
          "color": "green",
          "opacity": 0.5
         },
         "name": "Student 1",
         "offsetgroup": "Student 1",
         "orientation": "v",
         "pointpos": 0,
         "showlegend": true,
         "type": "box",
         "x": [
          "LP3.5",
          "LP3.5",
          "LP3.5",
          "LP3.5",
          "LP3.5",
          "LP3.5",
          "LP3.5",
          "LP3.5",
          "LP3.5",
          "LP3.5",
          "LP7",
          "LP7",
          "LP7",
          "LP7",
          "LP7",
          "LP7",
          "LP7",
          "LP7",
          "LP7",
          "LP7",
          "Q1",
          "Q1",
          "Q1",
          "Q1",
          "Q1",
          "Q1",
          "Q1",
          "Q1",
          "Q1",
          "Q1",
          "Q2",
          "Q2",
          "Q2",
          "Q2",
          "Q2",
          "Q2",
          "Q2",
          "Q2",
          "Q2",
          "Q2",
          "Q3",
          "Q3",
          "Q3",
          "Q3",
          "Q3",
          "Q3",
          "Q3",
          "Q3",
          "Q3",
          "Q3",
          "Q4",
          "Q4",
          "Q4",
          "Q4",
          "Q4",
          "Q4",
          "Q4",
          "Q4",
          "Q4",
          "Q4",
          "Q5",
          "Q5",
          "Q5",
          "Q5",
          "Q5",
          "Q5",
          "Q5",
          "Q5",
          "Q5",
          "Q5",
          "Ref",
          "Ref",
          "Ref",
          "Ref",
          "Ref",
          "Ref",
          "Ref",
          "Ref",
          "Ref",
          "Ref",
          "LP3.5",
          "LP3.5",
          "LP3.5",
          "LP3.5",
          "LP7",
          "LP7",
          "LP7",
          "LP7",
          "Q1",
          "Q1",
          "Q1",
          "Q1",
          "Q2",
          "Q2",
          "Q2",
          "Q2",
          "Q3",
          "Q3",
          "Q3",
          "Q3",
          "Q4",
          "Q4",
          "Q4",
          "Q4",
          "Q5",
          "Q5",
          "Q5",
          "Q5",
          "Ref",
          "Ref",
          "Ref",
          "Ref",
          "LP3.5",
          "LP3.5",
          "LP3.5",
          "LP3.5",
          "LP7",
          "LP7",
          "LP7",
          "LP7",
          "Q1",
          "Q1",
          "Q1",
          "Q1",
          "Q2",
          "Q2",
          "Q2",
          "Q2",
          "Q3",
          "Q3",
          "Q3",
          "Q3",
          "Q4",
          "Q4",
          "Q4",
          "Q4",
          "Q5",
          "Q5",
          "Q5",
          "Q5",
          "Ref",
          "Ref",
          "Ref",
          "Ref",
          "LP3.5",
          "LP3.5",
          "LP3.5",
          "LP3.5",
          "LP7",
          "LP7",
          "LP7",
          "LP7",
          "Q1",
          "Q1",
          "Q1",
          "Q1",
          "Q2",
          "Q2",
          "Q2",
          "Q2",
          "Q3",
          "Q3",
          "Q3",
          "Q3",
          "Q4",
          "Q4",
          "Q4",
          "Q4",
          "Q5",
          "Q5",
          "Q5",
          "Q5",
          "Ref",
          "Ref",
          "Ref",
          "Ref",
          "LP3.5",
          "LP3.5",
          "LP3.5",
          "LP3.5",
          "LP7",
          "LP7",
          "LP7",
          "LP7",
          "Q1",
          "Q1",
          "Q1",
          "Q1",
          "Q2",
          "Q2",
          "Q2",
          "Q2",
          "Q3",
          "Q3",
          "Q3",
          "Q3",
          "Q4",
          "Q4",
          "Q4",
          "Q4",
          "Q5",
          "Q5",
          "Q5",
          "Q5",
          "Ref",
          "Ref",
          "Ref",
          "Ref",
          "LP3.5",
          "LP3.5",
          "LP3.5",
          "LP3.5",
          "LP7",
          "LP7",
          "LP7",
          "LP7",
          "Q1",
          "Q1",
          "Q1",
          "Q1",
          "Q2",
          "Q2",
          "Q2",
          "Q2",
          "Q3",
          "Q3",
          "Q3",
          "Q3",
          "Q4",
          "Q4",
          "Q4",
          "Q4",
          "Q5",
          "Q5",
          "Q5",
          "Q5",
          "Ref",
          "Ref",
          "Ref",
          "Ref"
         ],
         "x0": " ",
         "xaxis": "x",
         "y": [
          10,
          18,
          13,
          9,
          13,
          19,
          10,
          9,
          15,
          5,
          19,
          29,
          27,
          38,
          22,
          34,
          20,
          15,
          43,
          13,
          28,
          32,
          45,
          24,
          32,
          30,
          31,
          35,
          36,
          19,
          60,
          40,
          40,
          57,
          67,
          46,
          40,
          74,
          84,
          52,
          77,
          80,
          97,
          77,
          83,
          53,
          54,
          53,
          58,
          84,
          68,
          70,
          90,
          82,
          75,
          66,
          67,
          89,
          78,
          68,
          92,
          91,
          69,
          87,
          100,
          96,
          77,
          69,
          95,
          86,
          100,
          100,
          100,
          100,
          99,
          100,
          100,
          100,
          100,
          100,
          7,
          12,
          15,
          8,
          35,
          30,
          24,
          22,
          18,
          20,
          18,
          13,
          41,
          38,
          44,
          67,
          59,
          48,
          50,
          48,
          79,
          80,
          76,
          57,
          100,
          100,
          100,
          100,
          94,
          99,
          77,
          98,
          18,
          25,
          10,
          15,
          19,
          42,
          19,
          23,
          7,
          4,
          55,
          58,
          24,
          34,
          82,
          39,
          28,
          56,
          63,
          75,
          38,
          63,
          99,
          95,
          46,
          83,
          95,
          90,
          100,
          100,
          100,
          100,
          15,
          21,
          13,
          10,
          23,
          33,
          23,
          27,
          34,
          12,
          21,
          37,
          44,
          12,
          71,
          48,
          91,
          46,
          94,
          67,
          90,
          58,
          75,
          88,
          63,
          81,
          40,
          99,
          100,
          100,
          100,
          100,
          12,
          15,
          9,
          12,
          22,
          27,
          16,
          28,
          58,
          9,
          24,
          43,
          78,
          86,
          49,
          68,
          84,
          93,
          79,
          99,
          98,
          69,
          72,
          95,
          93,
          42,
          86,
          87,
          100,
          100,
          100,
          100,
          11,
          14,
          17,
          14,
          24,
          36,
          25,
          25,
          35,
          29,
          43,
          59,
          60,
          46,
          61,
          96,
          66,
          41,
          75,
          94,
          87,
          52,
          67,
          90,
          93,
          69,
          95,
          97,
          100,
          100,
          100,
          100
         ],
         "y0": " ",
         "yaxis": "y"
        },
        {
         "alignmentgroup": "True",
         "boxpoints": "all",
         "customdata": [
          [
           "Student 2"
          ],
          [
           "Student 2"
          ],
          [
           "Student 2"
          ],
          [
           "Student 2"
          ],
          [
           "Student 2"
          ],
          [
           "Student 2"
          ],
          [
           "Student 2"
          ],
          [
           "Student 2"
          ],
          [
           "Student 2"
          ],
          [
           "Student 2"
          ],
          [
           "Student 2"
          ],
          [
           "Student 2"
          ],
          [
           "Student 2"
          ],
          [
           "Student 2"
          ],
          [
           "Student 2"
          ],
          [
           "Student 2"
          ],
          [
           "Student 2"
          ],
          [
           "Student 2"
          ],
          [
           "Student 2"
          ],
          [
           "Student 2"
          ],
          [
           "Student 2"
          ],
          [
           "Student 2"
          ],
          [
           "Student 2"
          ],
          [
           "Student 2"
          ],
          [
           "Student 2"
          ],
          [
           "Student 2"
          ],
          [
           "Student 2"
          ],
          [
           "Student 2"
          ],
          [
           "Student 2"
          ],
          [
           "Student 2"
          ],
          [
           "Student 2"
          ],
          [
           "Student 2"
          ],
          [
           "Student 2"
          ],
          [
           "Student 2"
          ],
          [
           "Student 2"
          ],
          [
           "Student 2"
          ],
          [
           "Student 2"
          ],
          [
           "Student 2"
          ],
          [
           "Student 2"
          ],
          [
           "Student 2"
          ],
          [
           "Student 2"
          ],
          [
           "Student 2"
          ],
          [
           "Student 2"
          ],
          [
           "Student 2"
          ],
          [
           "Student 2"
          ],
          [
           "Student 2"
          ],
          [
           "Student 2"
          ],
          [
           "Student 2"
          ],
          [
           "Student 2"
          ],
          [
           "Student 2"
          ],
          [
           "Student 2"
          ],
          [
           "Student 2"
          ],
          [
           "Student 2"
          ],
          [
           "Student 2"
          ],
          [
           "Student 2"
          ],
          [
           "Student 2"
          ],
          [
           "Student 2"
          ],
          [
           "Student 2"
          ],
          [
           "Student 2"
          ],
          [
           "Student 2"
          ],
          [
           "Student 2"
          ],
          [
           "Student 2"
          ],
          [
           "Student 2"
          ],
          [
           "Student 2"
          ],
          [
           "Student 2"
          ],
          [
           "Student 2"
          ],
          [
           "Student 2"
          ],
          [
           "Student 2"
          ],
          [
           "Student 2"
          ],
          [
           "Student 2"
          ],
          [
           "Student 2"
          ],
          [
           "Student 2"
          ],
          [
           "Student 2"
          ],
          [
           "Student 2"
          ],
          [
           "Student 2"
          ],
          [
           "Student 2"
          ],
          [
           "Student 2"
          ],
          [
           "Student 2"
          ],
          [
           "Student 2"
          ],
          [
           "Student 2"
          ],
          [
           "Student 2"
          ],
          [
           "Student 2"
          ],
          [
           "Student 2"
          ],
          [
           "Student 2"
          ],
          [
           "Student 2"
          ],
          [
           "Student 2"
          ],
          [
           "Student 2"
          ],
          [
           "Student 2"
          ],
          [
           "Student 2"
          ],
          [
           "Student 2"
          ],
          [
           "Student 2"
          ],
          [
           "Student 2"
          ],
          [
           "Student 2"
          ],
          [
           "Student 2"
          ],
          [
           "Student 2"
          ],
          [
           "Student 2"
          ],
          [
           "Student 2"
          ],
          [
           "Student 2"
          ],
          [
           "Student 2"
          ],
          [
           "Student 2"
          ],
          [
           "Student 2"
          ],
          [
           "Student 2"
          ],
          [
           "Student 2"
          ],
          [
           "Student 2"
          ],
          [
           "Student 2"
          ],
          [
           "Student 2"
          ],
          [
           "Student 2"
          ],
          [
           "Student 2"
          ],
          [
           "Student 2"
          ],
          [
           "Student 2"
          ],
          [
           "Student 2"
          ],
          [
           "Student 2"
          ],
          [
           "Student 2"
          ],
          [
           "Student 2"
          ],
          [
           "Student 2"
          ],
          [
           "Student 2"
          ],
          [
           "Student 2"
          ],
          [
           "Student 2"
          ],
          [
           "Student 2"
          ],
          [
           "Student 2"
          ],
          [
           "Student 2"
          ],
          [
           "Student 2"
          ],
          [
           "Student 2"
          ],
          [
           "Student 2"
          ],
          [
           "Student 2"
          ],
          [
           "Student 2"
          ],
          [
           "Student 2"
          ],
          [
           "Student 2"
          ],
          [
           "Student 2"
          ],
          [
           "Student 2"
          ],
          [
           "Student 2"
          ],
          [
           "Student 2"
          ],
          [
           "Student 2"
          ],
          [
           "Student 2"
          ],
          [
           "Student 2"
          ],
          [
           "Student 2"
          ],
          [
           "Student 2"
          ],
          [
           "Student 2"
          ],
          [
           "Student 2"
          ],
          [
           "Student 2"
          ],
          [
           "Student 2"
          ],
          [
           "Student 2"
          ],
          [
           "Student 2"
          ],
          [
           "Student 2"
          ],
          [
           "Student 2"
          ],
          [
           "Student 2"
          ],
          [
           "Student 2"
          ],
          [
           "Student 2"
          ],
          [
           "Student 2"
          ],
          [
           "Student 2"
          ],
          [
           "Student 2"
          ],
          [
           "Student 2"
          ],
          [
           "Student 2"
          ],
          [
           "Student 2"
          ],
          [
           "Student 2"
          ],
          [
           "Student 2"
          ],
          [
           "Student 2"
          ],
          [
           "Student 2"
          ],
          [
           "Student 2"
          ],
          [
           "Student 2"
          ],
          [
           "Student 2"
          ],
          [
           "Student 2"
          ],
          [
           "Student 2"
          ],
          [
           "Student 2"
          ],
          [
           "Student 2"
          ],
          [
           "Student 2"
          ],
          [
           "Student 2"
          ],
          [
           "Student 2"
          ],
          [
           "Student 2"
          ],
          [
           "Student 2"
          ],
          [
           "Student 2"
          ],
          [
           "Student 2"
          ],
          [
           "Student 2"
          ],
          [
           "Student 2"
          ],
          [
           "Student 2"
          ],
          [
           "Student 2"
          ],
          [
           "Student 2"
          ],
          [
           "Student 2"
          ],
          [
           "Student 2"
          ],
          [
           "Student 2"
          ],
          [
           "Student 2"
          ],
          [
           "Student 2"
          ],
          [
           "Student 2"
          ],
          [
           "Student 2"
          ],
          [
           "Student 2"
          ],
          [
           "Student 2"
          ],
          [
           "Student 2"
          ],
          [
           "Student 2"
          ],
          [
           "Student 2"
          ],
          [
           "Student 2"
          ],
          [
           "Student 2"
          ],
          [
           "Student 2"
          ],
          [
           "Student 2"
          ],
          [
           "Student 2"
          ],
          [
           "Student 2"
          ],
          [
           "Student 2"
          ],
          [
           "Student 2"
          ],
          [
           "Student 2"
          ],
          [
           "Student 2"
          ],
          [
           "Student 2"
          ],
          [
           "Student 2"
          ],
          [
           "Student 2"
          ],
          [
           "Student 2"
          ],
          [
           "Student 2"
          ],
          [
           "Student 2"
          ],
          [
           "Student 2"
          ],
          [
           "Student 2"
          ],
          [
           "Student 2"
          ],
          [
           "Student 2"
          ],
          [
           "Student 2"
          ],
          [
           "Student 2"
          ],
          [
           "Student 2"
          ],
          [
           "Student 2"
          ],
          [
           "Student 2"
          ],
          [
           "Student 2"
          ],
          [
           "Student 2"
          ],
          [
           "Student 2"
          ],
          [
           "Student 2"
          ],
          [
           "Student 2"
          ],
          [
           "Student 2"
          ],
          [
           "Student 2"
          ],
          [
           "Student 2"
          ],
          [
           "Student 2"
          ],
          [
           "Student 2"
          ],
          [
           "Student 2"
          ],
          [
           "Student 2"
          ],
          [
           "Student 2"
          ],
          [
           "Student 2"
          ],
          [
           "Student 2"
          ],
          [
           "Student 2"
          ],
          [
           "Student 2"
          ],
          [
           "Student 2"
          ],
          [
           "Student 2"
          ],
          [
           "Student 2"
          ],
          [
           "Student 2"
          ],
          [
           "Student 2"
          ],
          [
           "Student 2"
          ],
          [
           "Student 2"
          ],
          [
           "Student 2"
          ],
          [
           "Student 2"
          ]
         ],
         "fillcolor": "rgba(255,255,255,0)",
         "hoveron": "points",
         "hovertemplate": "source=%{customdata[0]}<br>condition=%{x}<br>score=%{y}<extra></extra>",
         "legendgroup": "Student 2",
         "line": {
          "color": "rgba(255,255,255,0)"
         },
         "marker": {
          "color": "orange",
          "opacity": 0.5
         },
         "name": "Student 2",
         "offsetgroup": "Student 2",
         "orientation": "v",
         "pointpos": 0,
         "showlegend": true,
         "type": "box",
         "x": [
          "LP3.5",
          "LP3.5",
          "LP3.5",
          "LP3.5",
          "LP3.5",
          "LP3.5",
          "LP3.5",
          "LP3.5",
          "LP3.5",
          "LP3.5",
          "LP7",
          "LP7",
          "LP7",
          "LP7",
          "LP7",
          "LP7",
          "LP7",
          "LP7",
          "LP7",
          "LP7",
          "Q1",
          "Q1",
          "Q1",
          "Q1",
          "Q1",
          "Q1",
          "Q1",
          "Q1",
          "Q1",
          "Q1",
          "Q2",
          "Q2",
          "Q2",
          "Q2",
          "Q2",
          "Q2",
          "Q2",
          "Q2",
          "Q2",
          "Q2",
          "Q3",
          "Q3",
          "Q3",
          "Q3",
          "Q3",
          "Q3",
          "Q3",
          "Q3",
          "Q3",
          "Q3",
          "Q4",
          "Q4",
          "Q4",
          "Q4",
          "Q4",
          "Q4",
          "Q4",
          "Q4",
          "Q4",
          "Q4",
          "Q5",
          "Q5",
          "Q5",
          "Q5",
          "Q5",
          "Q5",
          "Q5",
          "Q5",
          "Q5",
          "Q5",
          "Ref",
          "Ref",
          "Ref",
          "Ref",
          "Ref",
          "Ref",
          "Ref",
          "Ref",
          "Ref",
          "Ref",
          "LP3.5",
          "LP3.5",
          "LP3.5",
          "LP3.5",
          "LP7",
          "LP7",
          "LP7",
          "LP7",
          "Q1",
          "Q1",
          "Q1",
          "Q1",
          "Q2",
          "Q2",
          "Q2",
          "Q2",
          "Q3",
          "Q3",
          "Q3",
          "Q3",
          "Q4",
          "Q4",
          "Q4",
          "Q4",
          "Q5",
          "Q5",
          "Q5",
          "Q5",
          "Ref",
          "Ref",
          "Ref",
          "Ref",
          "LP3.5",
          "LP3.5",
          "LP3.5",
          "LP3.5",
          "LP7",
          "LP7",
          "LP7",
          "LP7",
          "Q1",
          "Q1",
          "Q1",
          "Q1",
          "Q2",
          "Q2",
          "Q2",
          "Q2",
          "Q3",
          "Q3",
          "Q3",
          "Q3",
          "Q4",
          "Q4",
          "Q4",
          "Q4",
          "Q5",
          "Q5",
          "Q5",
          "Q5",
          "Ref",
          "Ref",
          "Ref",
          "Ref",
          "LP3.5",
          "LP3.5",
          "LP3.5",
          "LP3.5",
          "LP7",
          "LP7",
          "LP7",
          "LP7",
          "Q1",
          "Q1",
          "Q1",
          "Q1",
          "Q2",
          "Q2",
          "Q2",
          "Q2",
          "Q3",
          "Q3",
          "Q3",
          "Q3",
          "Q4",
          "Q4",
          "Q4",
          "Q4",
          "Q5",
          "Q5",
          "Q5",
          "Q5",
          "Ref",
          "Ref",
          "Ref",
          "Ref",
          "LP3.5",
          "LP3.5",
          "LP3.5",
          "LP3.5",
          "LP7",
          "LP7",
          "LP7",
          "LP7",
          "Q1",
          "Q1",
          "Q1",
          "Q1",
          "Q2",
          "Q2",
          "Q2",
          "Q2",
          "Q3",
          "Q3",
          "Q3",
          "Q3",
          "Q4",
          "Q4",
          "Q4",
          "Q4",
          "Q5",
          "Q5",
          "Q5",
          "Q5",
          "Ref",
          "Ref",
          "Ref",
          "Ref",
          "LP3.5",
          "LP3.5",
          "LP3.5",
          "LP3.5",
          "LP7",
          "LP7",
          "LP7",
          "LP7",
          "Q1",
          "Q1",
          "Q1",
          "Q1",
          "Q2",
          "Q2",
          "Q2",
          "Q2",
          "Q3",
          "Q3",
          "Q3",
          "Q3",
          "Q4",
          "Q4",
          "Q4",
          "Q4",
          "Q5",
          "Q5",
          "Q5",
          "Q5",
          "Ref",
          "Ref",
          "Ref",
          "Ref"
         ],
         "x0": " ",
         "xaxis": "x",
         "y": [
          29,
          30,
          27,
          30,
          33,
          30,
          24,
          25,
          34,
          27,
          38,
          40,
          40,
          47,
          46,
          39,
          31,
          34,
          48,
          38,
          45,
          48,
          61,
          66,
          52,
          49,
          44,
          50,
          63,
          52,
          60,
          59,
          70,
          69,
          63,
          67,
          66,
          66,
          80,
          72,
          71,
          64,
          78,
          82,
          76,
          59,
          71,
          84,
          70,
          78,
          89,
          86,
          86,
          85,
          97,
          75,
          90,
          76,
          82,
          81,
          94,
          92,
          92,
          96,
          84,
          92,
          84,
          74,
          100,
          89,
          100,
          100,
          100,
          100,
          100,
          100,
          100,
          100,
          99,
          100,
          19,
          17,
          21,
          28,
          52,
          46,
          48,
          42,
          30,
          26,
          32,
          38,
          68,
          54,
          57,
          63,
          75,
          70,
          69,
          52,
          81,
          86,
          82,
          70,
          100,
          97,
          95,
          90,
          98,
          100,
          100,
          100,
          23,
          31,
          32,
          24,
          34,
          37,
          44,
          36,
          44,
          42,
          70,
          42,
          53,
          58,
          81,
          50,
          84,
          67,
          78,
          77,
          68,
          72,
          86,
          89,
          87,
          89,
          100,
          95,
          100,
          100,
          95,
          100,
          28,
          20,
          26,
          21,
          40,
          29,
          32,
          28,
          55,
          39,
          37,
          48,
          59,
          54,
          50,
          54,
          89,
          64,
          82,
          61,
          81,
          72,
          88,
          83,
          91,
          85,
          72,
          67,
          100,
          100,
          100,
          100,
          34,
          28,
          24,
          20,
          43,
          37,
          34,
          32,
          63,
          48,
          45,
          49,
          72,
          58,
          51,
          59,
          84,
          73,
          72,
          70,
          90,
          66,
          81,
          85,
          96,
          92,
          90,
          92,
          100,
          100,
          100,
          100,
          24,
          24,
          29,
          26,
          35,
          35,
          35,
          40,
          44,
          41,
          60,
          63,
          58,
          50,
          80,
          78,
          62,
          65,
          83,
          81,
          80,
          72,
          89,
          100,
          94,
          87,
          68,
          98,
          100,
          100,
          100,
          89
         ],
         "y0": " ",
         "yaxis": "y"
        }
       ],
       "layout": {
        "boxmode": "overlay",
        "legend": {
         "title": {
          "text": "Source"
         },
         "tracegroupgap": 0
        },
        "margin": {
         "t": 60
        },
        "template": {
         "data": {
          "bar": [
           {
            "error_x": {
             "color": "#2a3f5f"
            },
            "error_y": {
             "color": "#2a3f5f"
            },
            "marker": {
             "line": {
              "color": "#E5ECF6",
              "width": 0.5
             },
             "pattern": {
              "fillmode": "overlay",
              "size": 10,
              "solidity": 0.2
             }
            },
            "type": "bar"
           }
          ],
          "barpolar": [
           {
            "marker": {
             "line": {
              "color": "#E5ECF6",
              "width": 0.5
             },
             "pattern": {
              "fillmode": "overlay",
              "size": 10,
              "solidity": 0.2
             }
            },
            "type": "barpolar"
           }
          ],
          "carpet": [
           {
            "aaxis": {
             "endlinecolor": "#2a3f5f",
             "gridcolor": "white",
             "linecolor": "white",
             "minorgridcolor": "white",
             "startlinecolor": "#2a3f5f"
            },
            "baxis": {
             "endlinecolor": "#2a3f5f",
             "gridcolor": "white",
             "linecolor": "white",
             "minorgridcolor": "white",
             "startlinecolor": "#2a3f5f"
            },
            "type": "carpet"
           }
          ],
          "choropleth": [
           {
            "colorbar": {
             "outlinewidth": 0,
             "ticks": ""
            },
            "type": "choropleth"
           }
          ],
          "contour": [
           {
            "colorbar": {
             "outlinewidth": 0,
             "ticks": ""
            },
            "colorscale": [
             [
              0,
              "#0d0887"
             ],
             [
              0.1111111111111111,
              "#46039f"
             ],
             [
              0.2222222222222222,
              "#7201a8"
             ],
             [
              0.3333333333333333,
              "#9c179e"
             ],
             [
              0.4444444444444444,
              "#bd3786"
             ],
             [
              0.5555555555555556,
              "#d8576b"
             ],
             [
              0.6666666666666666,
              "#ed7953"
             ],
             [
              0.7777777777777778,
              "#fb9f3a"
             ],
             [
              0.8888888888888888,
              "#fdca26"
             ],
             [
              1,
              "#f0f921"
             ]
            ],
            "type": "contour"
           }
          ],
          "contourcarpet": [
           {
            "colorbar": {
             "outlinewidth": 0,
             "ticks": ""
            },
            "type": "contourcarpet"
           }
          ],
          "heatmap": [
           {
            "colorbar": {
             "outlinewidth": 0,
             "ticks": ""
            },
            "colorscale": [
             [
              0,
              "#0d0887"
             ],
             [
              0.1111111111111111,
              "#46039f"
             ],
             [
              0.2222222222222222,
              "#7201a8"
             ],
             [
              0.3333333333333333,
              "#9c179e"
             ],
             [
              0.4444444444444444,
              "#bd3786"
             ],
             [
              0.5555555555555556,
              "#d8576b"
             ],
             [
              0.6666666666666666,
              "#ed7953"
             ],
             [
              0.7777777777777778,
              "#fb9f3a"
             ],
             [
              0.8888888888888888,
              "#fdca26"
             ],
             [
              1,
              "#f0f921"
             ]
            ],
            "type": "heatmap"
           }
          ],
          "heatmapgl": [
           {
            "colorbar": {
             "outlinewidth": 0,
             "ticks": ""
            },
            "colorscale": [
             [
              0,
              "#0d0887"
             ],
             [
              0.1111111111111111,
              "#46039f"
             ],
             [
              0.2222222222222222,
              "#7201a8"
             ],
             [
              0.3333333333333333,
              "#9c179e"
             ],
             [
              0.4444444444444444,
              "#bd3786"
             ],
             [
              0.5555555555555556,
              "#d8576b"
             ],
             [
              0.6666666666666666,
              "#ed7953"
             ],
             [
              0.7777777777777778,
              "#fb9f3a"
             ],
             [
              0.8888888888888888,
              "#fdca26"
             ],
             [
              1,
              "#f0f921"
             ]
            ],
            "type": "heatmapgl"
           }
          ],
          "histogram": [
           {
            "marker": {
             "pattern": {
              "fillmode": "overlay",
              "size": 10,
              "solidity": 0.2
             }
            },
            "type": "histogram"
           }
          ],
          "histogram2d": [
           {
            "colorbar": {
             "outlinewidth": 0,
             "ticks": ""
            },
            "colorscale": [
             [
              0,
              "#0d0887"
             ],
             [
              0.1111111111111111,
              "#46039f"
             ],
             [
              0.2222222222222222,
              "#7201a8"
             ],
             [
              0.3333333333333333,
              "#9c179e"
             ],
             [
              0.4444444444444444,
              "#bd3786"
             ],
             [
              0.5555555555555556,
              "#d8576b"
             ],
             [
              0.6666666666666666,
              "#ed7953"
             ],
             [
              0.7777777777777778,
              "#fb9f3a"
             ],
             [
              0.8888888888888888,
              "#fdca26"
             ],
             [
              1,
              "#f0f921"
             ]
            ],
            "type": "histogram2d"
           }
          ],
          "histogram2dcontour": [
           {
            "colorbar": {
             "outlinewidth": 0,
             "ticks": ""
            },
            "colorscale": [
             [
              0,
              "#0d0887"
             ],
             [
              0.1111111111111111,
              "#46039f"
             ],
             [
              0.2222222222222222,
              "#7201a8"
             ],
             [
              0.3333333333333333,
              "#9c179e"
             ],
             [
              0.4444444444444444,
              "#bd3786"
             ],
             [
              0.5555555555555556,
              "#d8576b"
             ],
             [
              0.6666666666666666,
              "#ed7953"
             ],
             [
              0.7777777777777778,
              "#fb9f3a"
             ],
             [
              0.8888888888888888,
              "#fdca26"
             ],
             [
              1,
              "#f0f921"
             ]
            ],
            "type": "histogram2dcontour"
           }
          ],
          "mesh3d": [
           {
            "colorbar": {
             "outlinewidth": 0,
             "ticks": ""
            },
            "type": "mesh3d"
           }
          ],
          "parcoords": [
           {
            "line": {
             "colorbar": {
              "outlinewidth": 0,
              "ticks": ""
             }
            },
            "type": "parcoords"
           }
          ],
          "pie": [
           {
            "automargin": true,
            "type": "pie"
           }
          ],
          "scatter": [
           {
            "fillpattern": {
             "fillmode": "overlay",
             "size": 10,
             "solidity": 0.2
            },
            "type": "scatter"
           }
          ],
          "scatter3d": [
           {
            "line": {
             "colorbar": {
              "outlinewidth": 0,
              "ticks": ""
             }
            },
            "marker": {
             "colorbar": {
              "outlinewidth": 0,
              "ticks": ""
             }
            },
            "type": "scatter3d"
           }
          ],
          "scattercarpet": [
           {
            "marker": {
             "colorbar": {
              "outlinewidth": 0,
              "ticks": ""
             }
            },
            "type": "scattercarpet"
           }
          ],
          "scattergeo": [
           {
            "marker": {
             "colorbar": {
              "outlinewidth": 0,
              "ticks": ""
             }
            },
            "type": "scattergeo"
           }
          ],
          "scattergl": [
           {
            "marker": {
             "colorbar": {
              "outlinewidth": 0,
              "ticks": ""
             }
            },
            "type": "scattergl"
           }
          ],
          "scattermapbox": [
           {
            "marker": {
             "colorbar": {
              "outlinewidth": 0,
              "ticks": ""
             }
            },
            "type": "scattermapbox"
           }
          ],
          "scatterpolar": [
           {
            "marker": {
             "colorbar": {
              "outlinewidth": 0,
              "ticks": ""
             }
            },
            "type": "scatterpolar"
           }
          ],
          "scatterpolargl": [
           {
            "marker": {
             "colorbar": {
              "outlinewidth": 0,
              "ticks": ""
             }
            },
            "type": "scatterpolargl"
           }
          ],
          "scatterternary": [
           {
            "marker": {
             "colorbar": {
              "outlinewidth": 0,
              "ticks": ""
             }
            },
            "type": "scatterternary"
           }
          ],
          "surface": [
           {
            "colorbar": {
             "outlinewidth": 0,
             "ticks": ""
            },
            "colorscale": [
             [
              0,
              "#0d0887"
             ],
             [
              0.1111111111111111,
              "#46039f"
             ],
             [
              0.2222222222222222,
              "#7201a8"
             ],
             [
              0.3333333333333333,
              "#9c179e"
             ],
             [
              0.4444444444444444,
              "#bd3786"
             ],
             [
              0.5555555555555556,
              "#d8576b"
             ],
             [
              0.6666666666666666,
              "#ed7953"
             ],
             [
              0.7777777777777778,
              "#fb9f3a"
             ],
             [
              0.8888888888888888,
              "#fdca26"
             ],
             [
              1,
              "#f0f921"
             ]
            ],
            "type": "surface"
           }
          ],
          "table": [
           {
            "cells": {
             "fill": {
              "color": "#EBF0F8"
             },
             "line": {
              "color": "white"
             }
            },
            "header": {
             "fill": {
              "color": "#C8D4E3"
             },
             "line": {
              "color": "white"
             }
            },
            "type": "table"
           }
          ]
         },
         "layout": {
          "annotationdefaults": {
           "arrowcolor": "#2a3f5f",
           "arrowhead": 0,
           "arrowwidth": 1
          },
          "autotypenumbers": "strict",
          "coloraxis": {
           "colorbar": {
            "outlinewidth": 0,
            "ticks": ""
           }
          },
          "colorscale": {
           "diverging": [
            [
             0,
             "#8e0152"
            ],
            [
             0.1,
             "#c51b7d"
            ],
            [
             0.2,
             "#de77ae"
            ],
            [
             0.3,
             "#f1b6da"
            ],
            [
             0.4,
             "#fde0ef"
            ],
            [
             0.5,
             "#f7f7f7"
            ],
            [
             0.6,
             "#e6f5d0"
            ],
            [
             0.7,
             "#b8e186"
            ],
            [
             0.8,
             "#7fbc41"
            ],
            [
             0.9,
             "#4d9221"
            ],
            [
             1,
             "#276419"
            ]
           ],
           "sequential": [
            [
             0,
             "#0d0887"
            ],
            [
             0.1111111111111111,
             "#46039f"
            ],
            [
             0.2222222222222222,
             "#7201a8"
            ],
            [
             0.3333333333333333,
             "#9c179e"
            ],
            [
             0.4444444444444444,
             "#bd3786"
            ],
            [
             0.5555555555555556,
             "#d8576b"
            ],
            [
             0.6666666666666666,
             "#ed7953"
            ],
            [
             0.7777777777777778,
             "#fb9f3a"
            ],
            [
             0.8888888888888888,
             "#fdca26"
            ],
            [
             1,
             "#f0f921"
            ]
           ],
           "sequentialminus": [
            [
             0,
             "#0d0887"
            ],
            [
             0.1111111111111111,
             "#46039f"
            ],
            [
             0.2222222222222222,
             "#7201a8"
            ],
            [
             0.3333333333333333,
             "#9c179e"
            ],
            [
             0.4444444444444444,
             "#bd3786"
            ],
            [
             0.5555555555555556,
             "#d8576b"
            ],
            [
             0.6666666666666666,
             "#ed7953"
            ],
            [
             0.7777777777777778,
             "#fb9f3a"
            ],
            [
             0.8888888888888888,
             "#fdca26"
            ],
            [
             1,
             "#f0f921"
            ]
           ]
          },
          "colorway": [
           "#636efa",
           "#EF553B",
           "#00cc96",
           "#ab63fa",
           "#FFA15A",
           "#19d3f3",
           "#FF6692",
           "#B6E880",
           "#FF97FF",
           "#FECB52"
          ],
          "font": {
           "color": "#2a3f5f"
          },
          "geo": {
           "bgcolor": "white",
           "lakecolor": "white",
           "landcolor": "#E5ECF6",
           "showlakes": true,
           "showland": true,
           "subunitcolor": "white"
          },
          "hoverlabel": {
           "align": "left"
          },
          "hovermode": "closest",
          "mapbox": {
           "style": "light"
          },
          "paper_bgcolor": "white",
          "plot_bgcolor": "#E5ECF6",
          "polar": {
           "angularaxis": {
            "gridcolor": "white",
            "linecolor": "white",
            "ticks": ""
           },
           "bgcolor": "#E5ECF6",
           "radialaxis": {
            "gridcolor": "white",
            "linecolor": "white",
            "ticks": ""
           }
          },
          "scene": {
           "xaxis": {
            "backgroundcolor": "#E5ECF6",
            "gridcolor": "white",
            "gridwidth": 2,
            "linecolor": "white",
            "showbackground": true,
            "ticks": "",
            "zerolinecolor": "white"
           },
           "yaxis": {
            "backgroundcolor": "#E5ECF6",
            "gridcolor": "white",
            "gridwidth": 2,
            "linecolor": "white",
            "showbackground": true,
            "ticks": "",
            "zerolinecolor": "white"
           },
           "zaxis": {
            "backgroundcolor": "#E5ECF6",
            "gridcolor": "white",
            "gridwidth": 2,
            "linecolor": "white",
            "showbackground": true,
            "ticks": "",
            "zerolinecolor": "white"
           }
          },
          "shapedefaults": {
           "line": {
            "color": "#2a3f5f"
           }
          },
          "ternary": {
           "aaxis": {
            "gridcolor": "white",
            "linecolor": "white",
            "ticks": ""
           },
           "baxis": {
            "gridcolor": "white",
            "linecolor": "white",
            "ticks": ""
           },
           "bgcolor": "#E5ECF6",
           "caxis": {
            "gridcolor": "white",
            "linecolor": "white",
            "ticks": ""
           }
          },
          "title": {
           "x": 0.05
          },
          "xaxis": {
           "automargin": true,
           "gridcolor": "white",
           "linecolor": "white",
           "ticks": "",
           "title": {
            "standoff": 15
           },
           "zerolinecolor": "white",
           "zerolinewidth": 2
          },
          "yaxis": {
           "automargin": true,
           "gridcolor": "white",
           "linecolor": "white",
           "ticks": "",
           "title": {
            "standoff": 15
           },
           "zerolinecolor": "white",
           "zerolinewidth": 2
          }
         }
        },
        "title": {
         "text": "Scores by Condition for Experts and Students"
        },
        "xaxis": {
         "anchor": "y",
         "domain": [
          0,
          1
         ],
         "title": {
          "text": "Condition"
         }
        },
        "yaxis": {
         "anchor": "x",
         "domain": [
          0,
          1
         ],
         "title": {
          "text": "Score"
         }
        }
       }
      }
     },
     "metadata": {},
     "output_type": "display_data"
    }
   ],
   "source": [
    "combined_data = pd.concat([expert1, expert2, student1, student2])\n",
    "\n",
    "# Define specific colors for each source\n",
    "color_discrete_map = {\n",
    "    'Expert 1': 'red',\n",
    "    'Expert 2': 'blue',\n",
    "    'Student 1': 'green',\n",
    "    'Student 2': 'orange'\n",
    "}\n",
    "\n",
    "# Plot using Plotly Express\n",
    "fig = px.strip(combined_data, x='condition', y='score', color='source',\n",
    "               stripmode='overlay', hover_data=['source'],\n",
    "               color_discrete_map=color_discrete_map)\n",
    "\n",
    "# Set dots opacity to 50%\n",
    "fig.update_traces(marker=dict(opacity=0.5))\n",
    "\n",
    "fig.update_layout(\n",
    "    title=\"Scores by Condition for Experts and Students\",\n",
    "    xaxis_title=\"Condition\",\n",
    "    yaxis_title=\"Score\",\n",
    "    legend_title=\"Source\"\n",
    ")\n",
    "\n",
    "fig.show()"
   ]
  },
  {
   "cell_type": "markdown",
   "metadata": {},
   "source": [
    "HIERARCHICAL CLUSTERING --> HISTOGRAM"
   ]
  },
  {
   "cell_type": "code",
   "execution_count": 93,
   "metadata": {},
   "outputs": [],
   "source": [
    "# create an array of scores for expert1 and expert2, with a vector of scores for each 'item'\n",
    "\n",
    "expert1_scores = []\n",
    "expert2_scores = []\n",
    "\n",
    "for item in items:\n",
    "    expert1_scores.append(expert1[expert1['item'] == item]['score'].values)\n",
    "    expert2_scores.append(expert2[expert2['item'] == item]['score'].values)"
   ]
  },
  {
   "cell_type": "code",
   "execution_count": 94,
   "metadata": {},
   "outputs": [
    {
     "data": {
      "image/png": "[encoded data removed]",
      "text/plain": [
       "<Figure size 1000x700 with 1 Axes>"
      ]
     },
     "metadata": {},
     "output_type": "display_data"
    }
   ],
   "source": [
    "# hierarchical clustering of the combined scores of expert1 and expert2 to see if expert1 and expert2 agree on the scores\n",
    "\n",
    "import numpy as np\n",
    "from scipy.cluster.hierarchy import dendrogram, linkage\n",
    "# Combine the scores into a single array\n",
    "combined_scores = np.array(expert1_scores + expert2_scores)\n",
    "\n",
    "labels = ['Expert1_Item{}'.format(i) for i in range(len(expert1_scores))] + \\\n",
    "         ['Expert2_Item{}'.format(i) for i in range(len(expert2_scores))]\n",
    "\n",
    "# Perform hierarchical clustering\n",
    "Z = linkage(combined_scores, 'ward')\n",
    "# Plot the dendrogram\n",
    "import matplotlib.pyplot as plt\n",
    "plt.figure(figsize=(10, 7))\n",
    "dendrogram(Z, labels=labels)\n",
    "plt.title('Hierarchical Clustering Dendrogram')\n",
    "plt.xlabel('Item')\n",
    "plt.ylabel('Distance')\n",
    "plt.show()\n"
   ]
  },
  {
   "cell_type": "code",
   "execution_count": 95,
   "metadata": {},
   "outputs": [
    {
     "data": {
      "image/png": "[encoded data removed]",
      "text/plain": [
       "<Figure size 1000x700 with 1 Axes>"
      ]
     },
     "metadata": {},
     "output_type": "display_data"
    }
   ],
   "source": [
    "# delete the first and last elements for each vector inside expert1_scores and expert2_scores\n",
    "\n",
    "for i in range(len(expert1_scores)):\n",
    "    expert1_scores[i] = expert1_scores[i][1:-1]\n",
    "for i in range(len(expert2_scores)):\n",
    "    expert2_scores[i] = expert2_scores[i][1:-1]\n",
    "\n",
    "# hierarchical clustering of the combined scores of expert1 and expert2 to see if expert1 and expert2 agree on the scores\n",
    "import numpy as np\n",
    "from scipy.cluster.hierarchy import dendrogram, linkage\n",
    "# Combine the scores into a single array\n",
    "combined_scores = np.array(expert1_scores + expert2_scores)\n",
    "\n",
    "labels = ['Expert1_Item{}'.format(i) for i in range(len(expert1_scores))] + \\\n",
    "         ['Expert2_Item{}'.format(i) for i in range(len(expert2_scores))]\n",
    "\n",
    "# Perform hierarchical clustering\n",
    "Z = linkage(combined_scores, 'ward')\n",
    "# Plot the dendrogram\n",
    "import matplotlib.pyplot as plt\n",
    "plt.figure(figsize=(10, 7))\n",
    "dendrogram(Z, labels=labels)\n",
    "plt.title('Hierarchical Clustering Dendrogram')\n",
    "plt.xlabel('Item')\n",
    "plt.ylabel('Distance')\n",
    "plt.show()"
   ]
  },
  {
   "cell_type": "code",
   "execution_count": null,
   "metadata": {},
   "outputs": [],
   "source": []
  },
  {
   "cell_type": "markdown",
   "metadata": {},
   "source": [
    "Three versions for comparing: for each listener, rank each score vector (each vector will be size 8 with numbers 1 to 8) OR for each listener, using k-means, get 8 clusters OR hierachical clustering"
   ]
  },
  {
   "cell_type": "markdown",
   "metadata": {},
   "source": [
    "- Each listener's trial is now a vector of rankings (1-8)\n",
    "- "
   ]
  },
  {
   "cell_type": "markdown",
   "metadata": {},
   "source": []
  }
 ],
 "metadata": {
  "kernelspec": {
   "display_name": "env",
   "language": "python",
   "name": "python3"
  },
  "language_info": {
   "codemirror_mode": {
    "name": "ipython",
    "version": 3
   },
   "file_extension": ".py",
   "mimetype": "text/x-python",
   "name": "python",
   "nbconvert_exporter": "python",
   "pygments_lexer": "ipython3",
   "version": "3.12.7"
  }
 },
 "nbformat": 4,
 "nbformat_minor": 2
}
